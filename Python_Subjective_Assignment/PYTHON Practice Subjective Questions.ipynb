{
 "cells": [
  {
   "cell_type": "markdown",
   "metadata": {},
   "source": [
    "# PYTHON Practise Subjective Questions"
   ]
  },
  {
   "cell_type": "markdown",
   "metadata": {},
   "source": [
    "Q1. Write a Python program to get the string from the given string where all the occurrence of its first char has been changed to '$,' except first char itself?"
   ]
  },
  {
   "cell_type": "markdown",
   "metadata": {},
   "source": [
    "Sample String: 'prospect'     \n",
    "Expected Result : 'pros$ect'"
   ]
  },
  {
   "cell_type": "code",
   "execution_count": 1,
   "metadata": {},
   "outputs": [
    {
     "data": {
      "text/plain": [
       "'pros$ect'"
      ]
     },
     "execution_count": 1,
     "metadata": {},
     "output_type": "execute_result"
    }
   ],
   "source": [
    "def string(str1):\n",
    "    char=str1[0]\n",
    "    str1=str1.replace(char,'$')\n",
    "    str1=char+str1[1:]\n",
    "    return str1\n",
    "string('prospect')"
   ]
  },
  {
   "cell_type": "raw",
   "metadata": {},
   "source": [
    "Q2. Write a Python program to get the single string from the two given strings, and separated by the space and swap the first two characters of each string? "
   ]
  },
  {
   "cell_type": "markdown",
   "metadata": {},
   "source": [
    "Sample String : 'abc', 'xyz'.    \n",
    "Expected Result: 'xyc abz'"
   ]
  },
  {
   "cell_type": "code",
   "execution_count": 2,
   "metadata": {},
   "outputs": [
    {
     "data": {
      "text/plain": [
       "'xyc abz'"
      ]
     },
     "execution_count": 2,
     "metadata": {},
     "output_type": "execute_result"
    }
   ],
   "source": [
    "def mix(x,y):\n",
    "    new_x=x[:2]+y[2:]\n",
    "    new_y=y[:2]+x[2:]\n",
    "    z=new_y+' '+new_x\n",
    "    return z\n",
    "    \n",
    "mix('abc','xyz')    "
   ]
  },
  {
   "cell_type": "raw",
   "metadata": {},
   "source": [
    "Q3. Write the Python program to add 'ing' at the end of the given string (length of the string should be at least 3). If given string already ends with 'ing,' then add 'ly' instead. If string length of the given string is less than 3, leave it unchanged?"
   ]
  },
  {
   "cell_type": "markdown",
   "metadata": {},
   "source": [
    "Sample string: ' abc '   \n",
    "Expected result: ' abcing '   \n",
    "Sample string: ' string '   \n",
    "Expected result: ' stringly '  "
   ]
  },
  {
   "cell_type": "code",
   "execution_count": 3,
   "metadata": {},
   "outputs": [
    {
     "name": "stdout",
     "output_type": "stream",
     "text": [
      "ab\n",
      "abcing\n",
      "stringly\n"
     ]
    }
   ],
   "source": [
    "def string(str1):\n",
    "    ln=len(str1)\n",
    "    if(ln<=2):\n",
    "        return (str1)\n",
    "    elif(ln >=3):\n",
    "        if(str1[-3:]=='ing'):  # Here str1[-3:] means removing first 3 elements \n",
    "            str=str1+'ly'\n",
    "        else:\n",
    "            str=str1+'ing'\n",
    "        return (str)\n",
    "    \n",
    "print(string('ab')) \n",
    "print(string('abc')) \n",
    "print(string('string'))    "
   ]
  },
  {
   "cell_type": "raw",
   "metadata": {},
   "source": [
    "Q4. Write the Python program to find the first appearance of the substring 'not' and 'poor' from the given string, if 'not' follows the 'poor', replace the whole 'not'...' poor' substring with 'good'.Return the resulting string."
   ]
  },
  {
   "cell_type": "markdown",
   "metadata": {},
   "source": [
    "Sample string: 'The lyrics are not that poor!' 'The lyrics are poor!'    \n",
    "Expected Result: 'The lyrics are good!' 'The lyrics are poor!'"
   ]
  },
  {
   "cell_type": "code",
   "execution_count": 4,
   "metadata": {},
   "outputs": [
    {
     "name": "stdout",
     "output_type": "stream",
     "text": [
      "The lyrics are good!The lyrics are poor!\n",
      "The lyrics are good!The lyrics are poor!\n"
     ]
    }
   ],
   "source": [
    "def not_poor(str1):\n",
    "    s_not = str1.find('not')   #so here value of n_not = 15\n",
    "    s_poor=str1.find('poor')   #so here value of s_poor = 24\n",
    "    if(s_poor > s_not and s_not > 0 and s_poor > 0 ):\n",
    "        str1 = str1.replace(str1[s_not:(s_poor+4)],'good')   # str1[s_not:(s_poor+4)]  means  str[15:(24+4)]\n",
    "        return str1\n",
    "    else:\n",
    "        return str1  \n",
    "    \n",
    "print(not_poor('The lyrics are not that poor!' 'The lyrics are poor!'))\n",
    "print(not_poor('The lyrics are good!' 'The lyrics are poor!'))"
   ]
  },
  {
   "cell_type": "raw",
   "metadata": {},
   "source": [
    "Q5. Write the Python program to remove the characters which have odd index values of a given string."
   ]
  },
  {
   "cell_type": "code",
   "execution_count": 5,
   "metadata": {},
   "outputs": [
    {
     "name": "stdout",
     "output_type": "stream",
     "text": [
      " AjnKmr\n",
      " A ua\n"
     ]
    }
   ],
   "source": [
    "def odd_string(str1):\n",
    "    result= \" \"\n",
    "    for i in range(len(str1)):\n",
    "        if(i%2==0):\n",
    "            result=result+str1[i]\n",
    "    return result \n",
    "\n",
    "print(odd_string('Arjun Kumar'))\n",
    "print(odd_string('AK Kumar'))"
   ]
  },
  {
   "cell_type": "raw",
   "metadata": {},
   "source": [
    "Q6. Write the Python function to get a string made of 4 copies of the last two characters of the specified string (length must be at least 2)."
   ]
  },
  {
   "cell_type": "markdown",
   "metadata": {},
   "source": [
    "Sample function and result :     \n",
    "insert-end ('Python') -> abababab           \n",
    "insert-end('Exercises') -> jkjkjkjk"
   ]
  },
  {
   "cell_type": "code",
   "execution_count": 15,
   "metadata": {},
   "outputs": [
    {
     "name": "stdout",
     "output_type": "stream",
     "text": [
      "onononon\n",
      "eseseses\n"
     ]
    }
   ],
   "source": [
    "def str4(str1):\n",
    "    i=str1[-2:]\n",
    "    i=i*4\n",
    "    return(i)\n",
    "print(str4('Python'))  \n",
    "print(str4('Exercises')) "
   ]
  },
  {
   "cell_type": "raw",
   "metadata": {},
   "source": [
    "Q7. Write the python function to get a string made of its first three characters of a specified string. If the length of the string is less than 3 then return the original string."
   ]
  },
  {
   "cell_type": "markdown",
   "metadata": {},
   "source": [
    "Sample function and result :    \n",
    "first-three('ipy') -> ipy         \n",
    "first-three('python') -> pyt "
   ]
  },
  {
   "cell_type": "code",
   "execution_count": 1,
   "metadata": {},
   "outputs": [
    {
     "name": "stdout",
     "output_type": "stream",
     "text": [
      "ipy\n",
      "python\n",
      "py\n"
     ]
    }
   ],
   "source": [
    "def strn(str1):\n",
    "    i=len(str1)\n",
    "    if(i<=3):\n",
    "        i=str1[:3]\n",
    "        return (i)\n",
    "    else:\n",
    "        return str1\n",
    "print(strn('ipy'))\n",
    "print(strn('python'))\n",
    "print(strn('py'))"
   ]
  },
  {
   "cell_type": "raw",
   "metadata": {},
   "source": [
    "Q8. Write the python program to print the following floating numbers up to 2 decimal places?"
   ]
  },
  {
   "cell_type": "code",
   "execution_count": 4,
   "metadata": {},
   "outputs": [
    {
     "data": {
      "text/plain": [
       "(3.14, 13.0)"
      ]
     },
     "execution_count": 4,
     "metadata": {},
     "output_type": "execute_result"
    }
   ],
   "source": [
    "def two_num(x,y):\n",
    "    x=round(x,2)\n",
    "    y=round(y,2)\n",
    "    return x,y\n",
    "two_num(3.1415926,12.9999)"
   ]
  },
  {
   "cell_type": "raw",
   "metadata": {},
   "source": [
    "Q9. Write the Python program to format a number with a percentage?"
   ]
  },
  {
   "cell_type": "code",
   "execution_count": 19,
   "metadata": {},
   "outputs": [
    {
     "name": "stdout",
     "output_type": "stream",
     "text": [
      "X original number 0.25252\n",
      "Formatted number with percentage 25.25%\n",
      "Y original number -0.25252\n",
      "Formatted number with percentage -25.25%\n"
     ]
    }
   ],
   "source": [
    "def n_percentage(x,y):\n",
    "    print('X original number',x)\n",
    "    print('Formatted number with percentage '+'{:.2%}'.format(x))\n",
    "    print('Y original number',y)\n",
    "    print('Formatted number with percentage '+'{:.2%}'.format(y))\n",
    "    \n",
    "n_percentage(0.25252,-0.25252)    "
   ]
  },
  {
   "cell_type": "raw",
   "metadata": {},
   "source": [
    "Q10. Write the Python program to count occurrences of a substring in a String?"
   ]
  },
  {
   "cell_type": "code",
   "execution_count": 8,
   "metadata": {},
   "outputs": [
    {
     "name": "stdout",
     "output_type": "stream",
     "text": [
      "\n",
      "5\n",
      "\n"
     ]
    }
   ],
   "source": [
    "str1 =\"\"\" She sells seashells by the seashore,\n",
    "          The shells she sells are seashells, I'm sure.\n",
    "          So if she sells seashells on the seashore,\n",
    "          Then I'm sure she sells seashore shells. \"\"\" \n",
    "print() \n",
    "print(str1.count('shells')) \n",
    "print()"
   ]
  },
  {
   "cell_type": "raw",
   "metadata": {},
   "source": [
    "Q11. Write the Python program to count repeated characters in a string."
   ]
  },
  {
   "cell_type": "markdown",
   "metadata": {},
   "source": [
    "Sample string: ' thequickbrownjumpsoverthelazydog '   \n",
    "Expected output: o 3 e 3 u 2 h 2 r 2 t 2"
   ]
  },
  {
   "cell_type": "code",
   "execution_count": 19,
   "metadata": {},
   "outputs": [
    {
     "name": "stdout",
     "output_type": "stream",
     "text": [
      "e 3\n",
      "o 3\n",
      "t 2\n",
      "h 2\n",
      "u 2\n",
      "r 2\n"
     ]
    }
   ],
   "source": [
    "import collections\n",
    "str1 = 'thequickbrownjumpsoverthelazydog'\n",
    "d=collections.defaultdict(int)\n",
    "for c in str1:\n",
    "    d[c] += 1\n",
    "for c in sorted(d,key=d.get, reverse=True):\n",
    "    if d[c]>1:\n",
    "        print('%s %d' % (c,d[c]))        "
   ]
  },
  {
   "cell_type": "markdown",
   "metadata": {},
   "source": [
    "Q12. Write the Python program to print the square and cube symbol in the area of a rectangle and volume of a cylinder?"
   ]
  },
  {
   "cell_type": "markdown",
   "metadata": {},
   "source": [
    "Sample output-    \n",
    "The area of the rectangle is 1256.66cm2   \n",
    "The volume of the cylinder is 1254.725cm3  "
   ]
  },
  {
   "cell_type": "code",
   "execution_count": 29,
   "metadata": {},
   "outputs": [
    {
     "name": "stdout",
     "output_type": "stream",
     "text": [
      "The area of the rectangle is 1256.66cm²\n",
      "The volume of the cylinder is 1254.725cm³\n"
     ]
    }
   ],
   "source": [
    "area=1256.66\n",
    "volume=1254.725\n",
    "decimals=2\n",
    "print('The area of the rectangle is {0:.{1}f}cm\\u00b2'.format(area,decimals))\n",
    "decimals=3\n",
    "print('The volume of the cylinder is {0:.{1}f}cm\\u00b3'.format(volume,decimals))"
   ]
  },
  {
   "cell_type": "markdown",
   "metadata": {},
   "source": [
    "Q13. Write the Python program to check if a string contains all letters of the alphabet?"
   ]
  },
  {
   "cell_type": "code",
   "execution_count": 38,
   "metadata": {},
   "outputs": [
    {
     "name": "stdout",
     "output_type": "stream",
     "text": [
      "True\n",
      "False\n",
      "True\n"
     ]
    }
   ],
   "source": [
    "import string\n",
    "alphabet=set(string.ascii_lowercase)\n",
    "input_string='The quick brown fox jumps over the lazy dog'\n",
    "print(set(input_string.lower()) >= alphabet)\n",
    "input_string = 'The quick brown fox jumps over the lazy cat'\n",
    "print(set(input_string.lower()) >= alphabet)\n",
    "input_string = 'ABCDefghijklmnopqrstuvwxyz'\n",
    "print(set(input_string.lower()) >= alphabet)"
   ]
  },
  {
   "cell_type": "markdown",
   "metadata": {},
   "source": [
    "Q14. Write the Python program to find the second most repeated word in a given string?"
   ]
  },
  {
   "cell_type": "code",
   "execution_count": 67,
   "metadata": {},
   "outputs": [
    {
     "name": "stdout",
     "output_type": "stream",
     "text": [
      "('Both', 6)\n"
     ]
    }
   ],
   "source": [
    "def word_count(str): \n",
    "    counts = dict() \n",
    "    words = str.split()\n",
    "    for word in words: \n",
    "        if word in counts: \n",
    "            counts[word] += 1 \n",
    "        else: \n",
    "            counts[word] = 1\n",
    "    counts_x = sorted(counts.items(), key=lambda kv: kv[1]) \n",
    "    return counts_x[-2]\n",
    "\n",
    "\n",
    "print(word_count(\"Both of these issues are Both fixed by Both postponing Both the evaluation of Both annotat Both both iobothns. Instead of compiling code which executes expressions in annotations at their definition time, the compiler stores the annotation in a string form equivalent to the AST of the expression in question. If needed, annotations can be resolved at runtime using typing.get_type_hints(). In the common case where this is not required, the annotations are cheaper to store (since short strings are interned by the interpreter) and make startup time faster.\"))"
   ]
  },
  {
   "cell_type": "markdown",
   "metadata": {},
   "source": [
    "Q15. Write the Python program to find the minimum window in the given string, which will contains all the characters of another given strings?"
   ]
  },
  {
   "cell_type": "markdown",
   "metadata": {},
   "source": [
    "Example 1      \n",
    "Input : string1 = \" PRWSOERIUSFK \"       \n",
    "string2 = \" OSU \"     \n",
    "Output: Minimum window is \"OERIUS\"     "
   ]
  },
  {
   "cell_type": "code",
   "execution_count": 31,
   "metadata": {},
   "outputs": [
    {
     "name": "stdout",
     "output_type": "stream",
     "text": [
      "Original Strings:\n",
      "\n",
      "String1: PRWSOERIUSFK\n",
      "\n",
      "String2: OSU\n",
      "\n",
      "Minimum window: OERIUS\n"
     ]
    }
   ],
   "source": [
    "import collections \n",
    "def min_window(str1, str2): \n",
    "    result_char, missing_char = collections.Counter(str2), len(str2) \n",
    "    i = p = q = 0 \n",
    "    for j, c in enumerate(str1, 1): \n",
    "        missing_char -= result_char[c] > 0 \n",
    "        result_char[c] -= 1 \n",
    "        if not missing_char: \n",
    "            while i < q and result_char[str1[i]] < 0: \n",
    "                result_char[str1[i]] += 1 \n",
    "                i += 1 \n",
    "            if not q or j - i <= q - p:\n",
    "                p, q = i, j \n",
    "    return str1[p:q]\n",
    "\n",
    "\n",
    "str1 = \"PRWSOERIUSFK\" \n",
    "str2 = \"OSU\"\n",
    "\n",
    "print(\"Original Strings:\\n\")\n",
    "print(\"String1: \" + str1 +\"\\n\")\n",
    "print(\"String2: \" + str2 + \"\\n\")\n",
    "print(\"Minimum window:\" , min_window(str1,str2)) "
   ]
  },
  {
   "cell_type": "markdown",
   "metadata": {},
   "source": [
    "Q16. Write the Python program to find smallest window that contains all characters of the given string?"
   ]
  },
  {
   "cell_type": "markdown",
   "metadata": {},
   "source": [
    "Original Strings: asdaewsqgtwwsa        \n",
    "Smallest window that contains all characters of the said string:Daewsqgt"
   ]
  },
  {
   "cell_type": "code",
   "execution_count": 40,
   "metadata": {},
   "outputs": [
    {
     "name": "stdout",
     "output_type": "stream",
     "text": [
      "Original Strings:  asdaewsqgtwwsa\n",
      "\n",
      "Smallest window that contains all characters of the said string:  daewsqgt\n"
     ]
    }
   ],
   "source": [
    "from collections import defaultdict\n",
    "def find_sub_string(str): \n",
    "    str_len = len(str)\n",
    "    # Count all distinct characters. \n",
    "    dist_count_char = len(set([x for x in str]))\n",
    "    ctr, start_pos, start_pos_index, min_len = 0, 0, -1, 9999999999 \n",
    "    curr_count = defaultdict(lambda: 0) \n",
    "    for i in range(str_len): \n",
    "        curr_count[str[i]] += 1\n",
    "        if curr_count[str[i]] == 1: \n",
    "            ctr += 1\n",
    "        if ctr == dist_count_char: \n",
    "            while curr_count[str[start_pos]] > 1: \n",
    "                if curr_count[str[start_pos]] > 1: \n",
    "                    curr_count[str[start_pos]] -= 1 \n",
    "                start_pos += 1\n",
    "            len_window = i - start_pos + 1 \n",
    "            if min_len > len_window:\n",
    "                min_len = len_window \n",
    "                start_pos_index = start_pos \n",
    "    return str[start_pos_index: start_pos_index + min_len]\n",
    "\n",
    "str1 = \"asdaewsqgtwwsa\" \n",
    "\n",
    "print(\"Original Strings: \",str1)\n",
    "print(\"\\nSmallest window that contains all characters of the said string: \",find_sub_string(str1)) \n"
   ]
  },
  {
   "cell_type": "markdown",
   "metadata": {},
   "source": [
    "Q17. Write the Python program to count number of substrings from a given string of lowercase alphabets with exactly k distinct (given) characters?"
   ]
  },
  {
   "cell_type": "markdown",
   "metadata": {},
   "source": [
    "Input a string (lowercase alphabets): wolf     \n",
    "Input k: 4   \n",
    "Number of substrings with exactly 4 distinct characters: 1   "
   ]
  },
  {
   "cell_type": "code",
   "execution_count": 3,
   "metadata": {},
   "outputs": [
    {
     "name": "stdout",
     "output_type": "stream",
     "text": [
      "Input a string (lowercase alphabets):wolf\n",
      "Input k: 4\n",
      "Number of substrings with exactly 4 distinct characters : 1\n"
     ]
    }
   ],
   "source": [
    "def count_k_dist(str1, k): \n",
    "    str_len = len(str1) \n",
    "    result = 0\n",
    "    ctr = [0] * 27\n",
    "    for i in range(0, str_len): \n",
    "        dist_ctr = 0\n",
    "        ctr = [0] * 27\n",
    "        for j in range(i, str_len):\n",
    "            if(ctr[ord(str1[j]) - 97] == 0): \n",
    "                dist_ctr += 1\n",
    "            \n",
    "            ctr[ord(str1[j]) - 97] += 1\n",
    "    \n",
    "            if(dist_ctr == k): \n",
    "                result += 1 \n",
    "    \n",
    "            if(dist_ctr > k):\n",
    "                break\n",
    "    return result\n",
    "str1 = input(\"Input a string (lowercase alphabets):\") \n",
    "k = int(input(\"Input k: \"))\n",
    "print(\"Number of substrings with exactly\", k, \"distinct characters : \", end = \"\") \n",
    "print(count_k_dist(str1, k))"
   ]
  },
  {
   "cell_type": "markdown",
   "metadata": {},
   "source": [
    "Q18. Write the Python program to count number of non-empty substrings of the given string?"
   ]
  },
  {
   "cell_type": "markdown",
   "metadata": {},
   "source": [
    "Input a string: w3resource   \n",
    "Number of substrings: 55"
   ]
  },
  {
   "cell_type": "code",
   "execution_count": 5,
   "metadata": {},
   "outputs": [
    {
     "name": "stdout",
     "output_type": "stream",
     "text": [
      "Input a stringw3resource\n",
      "Number of substrings:  55\n"
     ]
    }
   ],
   "source": [
    "def number_of_substrings(str):\n",
    "    str_len=len(str)\n",
    "    return int(str_len * (str_len+1)/2)\n",
    "\n",
    "str1=input('Input a string')\n",
    "print('Number of substrings: ',number_of_substrings(str1))\n"
   ]
  },
  {
   "cell_type": "markdown",
   "metadata": {},
   "source": [
    "Q19. Write the Python program to count number of substrings with same first and last characters of the given string?"
   ]
  },
  {
   "cell_type": "markdown",
   "metadata": {},
   "source": [
    "Input a string: abcd    \n",
    "    4"
   ]
  },
  {
   "cell_type": "code",
   "execution_count": 26,
   "metadata": {},
   "outputs": [
    {
     "name": "stdout",
     "output_type": "stream",
     "text": [
      "Enter a strings: abcd\n",
      "1\n"
     ]
    }
   ],
   "source": [
    "def no_of_substring_with_equalEnds(str1):\n",
    "    result = 0\n",
    "    n=len(str1)\n",
    "    for i in range (n):\n",
    "        for j in range(i,n):\n",
    "            if(str1[i] == str1[j]):\n",
    "                result = result+1\n",
    "            return result    \n",
    "            \n",
    "str1=input('Enter a strings: ')\n",
    "print(no_of_substring_with_equalEnds(str1))"
   ]
  },
  {
   "cell_type": "markdown",
   "metadata": {},
   "source": [
    "Q20. Write the Python program to count the number of strings where the string length is 2 or more, and first and last character are same from a given list of strings."
   ]
  },
  {
   "cell_type": "markdown",
   "metadata": {},
   "source": [
    "Sample List : ['abc', 'xyz', 'wxw', '1331']      \n",
    "Expected Result: 2"
   ]
  },
  {
   "cell_type": "code",
   "execution_count": 35,
   "metadata": {},
   "outputs": [
    {
     "name": "stdout",
     "output_type": "stream",
     "text": [
      "2\n"
     ]
    }
   ],
   "source": [
    "def match_words(words):\n",
    "  ctr = 0\n",
    "\n",
    "  for word in words:\n",
    "    if len(word) > 1 and word[0] == word[-1]:\n",
    "      ctr += 1\n",
    "  return ctr\n",
    "\n",
    "print(match_words(['abc', 'xyz', 'wxw', '1331']))"
   ]
  },
  {
   "cell_type": "markdown",
   "metadata": {},
   "source": [
    "Q21. Write the Python program to get a list, sorted in increasing order by the last element in each tuple from the given list of non-empty tuples?"
   ]
  },
  {
   "cell_type": "markdown",
   "metadata": {},
   "source": [
    "Sample List - [ (2, 5), (1, 2), (4, 4), (2, 3), (2, 1) ]     \n",
    "Expected Result - [ (2, 1), (1, 2), (2, 3), (4, 4), (2, 5) ]"
   ]
  },
  {
   "cell_type": "code",
   "execution_count": 36,
   "metadata": {},
   "outputs": [
    {
     "name": "stdout",
     "output_type": "stream",
     "text": [
      "[(2, 1), (1, 2), (2, 3), (4, 4), (2, 5)]\n"
     ]
    }
   ],
   "source": [
    "def last(n): \n",
    "    return n[-1]\n",
    "def sort_list_last(tuples): \n",
    "    return sorted(tuples, key=last)\n",
    "print(sort_list_last([(2, 5), (1, 2), (4, 4), (2, 3), (2, 1)]))"
   ]
  },
  {
   "cell_type": "markdown",
   "metadata": {},
   "source": [
    "Q22. Write the Python program to remove duplicates from a list?"
   ]
  },
  {
   "cell_type": "code",
   "execution_count": 38,
   "metadata": {},
   "outputs": [
    {
     "name": "stdout",
     "output_type": "stream",
     "text": [
      "{40, 10, 80, 50, 20, 60, 30}\n"
     ]
    }
   ],
   "source": [
    "a = [10,20,30,20,10,50,60,40,80,50,40,10,20] \n",
    "dup_items = set() \n",
    "uniq_items = [] \n",
    "for x in a: \n",
    "    if x not in dup_items: \n",
    "        uniq_items.append(x) \n",
    "        dup_items.add(x) \n",
    "print(dup_items)"
   ]
  },
  {
   "cell_type": "markdown",
   "metadata": {},
   "source": [
    "Q23. Write the Python program to find the list of words that are longer than n from a given list of words?"
   ]
  },
  {
   "cell_type": "code",
   "execution_count": 53,
   "metadata": {},
   "outputs": [
    {
     "name": "stdout",
     "output_type": "stream",
     "text": [
      "['quick', 'brown', 'jumps', 'over', 'lazy']\n"
     ]
    }
   ],
   "source": [
    "def long_words(n, str): \n",
    "    word_len = [] \n",
    "    txt = str.split(\" \") \n",
    "    for x in txt: \n",
    "        if len(x) > n: \n",
    "            word_len.append(x) \n",
    "    return word_len \n",
    "print(long_words(3, \"The quick brown fox jumps over the lazy dog\"))"
   ]
  },
  {
   "cell_type": "markdown",
   "metadata": {},
   "source": [
    "Q24. Write the Python program to print a specified list after removing the 0th, 4th, and 5th elements?"
   ]
  },
  {
   "cell_type": "markdown",
   "metadata": {},
   "source": [
    "Sample List - ['Red', 'Green', 'White', 'Black', 'Pink', 'Yellow']      \n",
    "Expected Output - ['Green', 'White', 'Black']"
   ]
  },
  {
   "cell_type": "code",
   "execution_count": 61,
   "metadata": {},
   "outputs": [
    {
     "name": "stdout",
     "output_type": "stream",
     "text": [
      "['Green', 'White', 'Black']\n"
     ]
    }
   ],
   "source": [
    "color = ['Red', 'Green', 'White', 'Black', 'Pink', 'Yellow'] \n",
    "color = [x for (i,x) in enumerate(color) if i not in (0,4,5)] \n",
    "print(color)"
   ]
  },
  {
   "cell_type": "markdown",
   "metadata": {},
   "source": [
    "Q25. Write the Python program to generate all permutations of a list in Python?"
   ]
  },
  {
   "cell_type": "code",
   "execution_count": 63,
   "metadata": {},
   "outputs": [
    {
     "name": "stdout",
     "output_type": "stream",
     "text": [
      "[(1, 2, 3), (1, 3, 2), (2, 1, 3), (2, 3, 1), (3, 1, 2), (3, 2, 1)]\n"
     ]
    }
   ],
   "source": [
    "import itertools \n",
    "print(list(itertools.permutations([1,2,3])))"
   ]
  },
  {
   "cell_type": "markdown",
   "metadata": {},
   "source": [
    "Q26. Write the Python program to convert a pair of values into a sorted unique array?"
   ]
  },
  {
   "cell_type": "markdown",
   "metadata": {},
   "source": [
    "Original List- [ (1, 2), (3, 4), (1, 2), (5, 6), (7, 8), (1, 2), (3, 4), (3, 4), (7, 8), (9, 10) ]     \n",
    "Sorted Unique Data- [ 1, 2, 3, 4, 5, 6, 7, 8, 9, 10 ]"
   ]
  },
  {
   "cell_type": "code",
   "execution_count": 83,
   "metadata": {},
   "outputs": [
    {
     "name": "stdout",
     "output_type": "stream",
     "text": [
      "Original List:  [(1, 2), (3, 4), (1, 2), (5, 6), (7, 8), (1, 2), (3, 4), (3, 4), (7, 8), (9, 10)]\n",
      "Sorted Unique Data: [1, 2, 3, 4, 5, 6, 7, 8, 9, 10]\n"
     ]
    }
   ],
   "source": [
    "L = [(1, 2), (3, 4), (1, 2), (5, 6), (7, 8), (1, 2), (3, 4), (3, 4), (7, 8), (9, 10)] \n",
    "print(\"Original List: \", L) \n",
    "print(\"Sorted Unique Data:\",sorted(set().union(*L)))"
   ]
  },
  {
   "cell_type": "markdown",
   "metadata": {},
   "source": [
    "Q27. Write the Python class to convert an integer to a roman numeral?"
   ]
  },
  {
   "cell_type": "code",
   "execution_count": 92,
   "metadata": {},
   "outputs": [
    {
     "name": "stdout",
     "output_type": "stream",
     "text": [
      "V\n",
      "MMMM\n"
     ]
    }
   ],
   "source": [
    "class py_solution: \n",
    "    def int_to_Roman(self, num): \n",
    "        val = [ 1000, 900, 500, 400, 100, 90, 50, 40, 10, 9, 5, 4, 1 ] \n",
    "        syb = [ \"M\", \"CM\", \"D\", \"CD\", \"C\", \"XC\", \"L\", \"XL\", \"X\", \"IX\", \"V\", \"IV\", \"I\" ] \n",
    "        roman_num = '' \n",
    "        i = 0 \n",
    "        while num > 0: \n",
    "            for _ in range(num // val[i]): \n",
    "                roman_num += syb[i] \n",
    "                num -= val[i] \n",
    "            i += 1 \n",
    "        return roman_num\n",
    "print(py_solution().int_to_Roman(5)) \n",
    "print(py_solution().int_to_Roman(4000))"
   ]
  },
  {
   "cell_type": "markdown",
   "metadata": {},
   "source": [
    "Q28 Write the Python class to convert a Roman numeral to an integer?"
   ]
  },
  {
   "cell_type": "code",
   "execution_count": 101,
   "metadata": {},
   "outputs": [
    {
     "name": "stdout",
     "output_type": "stream",
     "text": [
      "3986\n",
      "4000\n",
      "100\n"
     ]
    }
   ],
   "source": [
    "class py_solution: \n",
    "    def roman_to_int(self, s): \n",
    "        rom_val = {'I': 1, 'V': 5, 'X': 10, 'L': 50, 'C': 100, 'D': 500, 'M': 1000}\n",
    "        int_val = 0 \n",
    "        for i in range(len(s)): \n",
    "            if i > 0 and rom_val[s[i]] > rom_val[s[i - 1]]: \n",
    "                int_val += rom_val[s[i]] - 2 * rom_val[s[i - 1]] \n",
    "            else: int_val += rom_val[s[i]] \n",
    "        return int_val\n",
    "    \n",
    "print(py_solution().roman_to_int('MMMCMLXXXVI')) \n",
    "print(py_solution().roman_to_int('MMMM')) \n",
    "print(py_solution().roman_to_int('C'))"
   ]
  },
  {
   "cell_type": "markdown",
   "metadata": {},
   "source": [
    "Q29. Write the Python class to find the validity of the string of the parentheses, '(', ')', '{', '}', '[' and '] and the brackets must be closed in the correct order, example - \"()\" and \"()[]{}\" are valid but \"[)\", \"({[)]\" and \"{{{\" are invalid."
   ]
  },
  {
   "cell_type": "code",
   "execution_count": 103,
   "metadata": {},
   "outputs": [
    {
     "name": "stdout",
     "output_type": "stream",
     "text": [
      "True\n",
      "False\n",
      "True\n"
     ]
    }
   ],
   "source": [
    "class py_solution: \n",
    "    def is_valid_parenthese(self, str1): \n",
    "        stack, pchar = [], {\"(\": \")\", \"{\": \"}\", \"[\": \"]\"} \n",
    "        for parenthese in str1: \n",
    "            if parenthese in pchar: \n",
    "                stack.append(parenthese) \n",
    "            elif len(stack) == 0 or pchar[stack.pop()] != parenthese: \n",
    "                return False \n",
    "        return len(stack) == 0 \n",
    "    \n",
    "print(py_solution().is_valid_parenthese(\"(){}[]\")) \n",
    "print(py_solution().is_valid_parenthese(\"()[{)}\")) \n",
    "print(py_solution().is_valid_parenthese(\"()\")) "
   ]
  },
  {
   "cell_type": "markdown",
   "metadata": {},
   "source": [
    "Q30. Write the Python class to get all possible unique subsets from a set of distinct integers?"
   ]
  },
  {
   "cell_type": "markdown",
   "metadata": {},
   "source": [
    "Input - [4, 5, 6]    \n",
    "Output - [[], [6], [5], [5, 6], [4], [4, 6], [4, 5], [4, 5, 6]]"
   ]
  },
  {
   "cell_type": "code",
   "execution_count": 104,
   "metadata": {},
   "outputs": [
    {
     "name": "stdout",
     "output_type": "stream",
     "text": [
      "[[], [6], [5], [5, 6], [4], [4, 6], [4, 5], [4, 5, 6]]\n"
     ]
    }
   ],
   "source": [
    "class py_solution: \n",
    "    def sub_sets(self, sset): \n",
    "        return self.subsetsRecur([], sorted(sset))\n",
    "    def subsetsRecur(self, current, sset): \n",
    "        if sset: \n",
    "            return self.subsetsRecur(current, sset[1:]) + self.subsetsRecur(current + [sset[0]], sset[1:]) \n",
    "        return [current]\n",
    "print(py_solution().sub_sets([4,5,6]))"
   ]
  },
  {
   "cell_type": "markdown",
   "metadata": {},
   "source": [
    "Q31. Write the Python class to find a pair of elements (indices of the two numbers) from a given array whose sum equals the specific target number?"
   ]
  },
  {
   "cell_type": "markdown",
   "metadata": {},
   "source": [
    "Input: numbers- [10,20,10,40,50,60,70],    \n",
    "target=50 Output- 3, 4"
   ]
  },
  {
   "cell_type": "code",
   "execution_count": 106,
   "metadata": {},
   "outputs": [
    {
     "name": "stdout",
     "output_type": "stream",
     "text": [
      "index1=2, index2=3\n"
     ]
    }
   ],
   "source": [
    "class py_solution: \n",
    "    def twoSum(self, nums, target): \n",
    "        lookup = {} \n",
    "        for i, num in enumerate(nums): \n",
    "            if target - num in lookup: \n",
    "                return (lookup[target - num], i ) \n",
    "            lookup[num] = i \n",
    "print(\"index1=%d, index2=%d\" % py_solution().twoSum((10,20,10,40,50,60,70),50))"
   ]
  },
  {
   "cell_type": "markdown",
   "metadata": {},
   "source": [
    "Q32. Write the Python class to find the three elements that sum to zero from the set of n real numbers?"
   ]
  },
  {
   "cell_type": "markdown",
   "metadata": {},
   "source": [
    "Input array- [-25, -10, -7, -3, 2, 4, 8, 10]    \n",
    "Output - [[-10, 2, 8], [-7, -3, 10]]"
   ]
  },
  {
   "cell_type": "code",
   "execution_count": 112,
   "metadata": {},
   "outputs": [
    {
     "name": "stdout",
     "output_type": "stream",
     "text": [
      "[[-10, 2, 8], [-7, -3, 10]]\n"
     ]
    }
   ],
   "source": [
    "class py_solution:\n",
    "    def threeSum(self, nums):\n",
    "        nums, result, i = sorted(nums), [], 0\n",
    "        while i < len(nums) - 2:\n",
    "            j, k = i + 1, len(nums) - 1\n",
    "            while j < k:\n",
    "                if nums[i] + nums[j] + nums[k] < 0:\n",
    "                    j += 1\n",
    "                elif nums[i] + nums[j] + nums[k] > 0:\n",
    "                    k -= 1\n",
    "                else:\n",
    "                    result.append([nums[i], nums[j], nums[k]])\n",
    "                    j, k = j + 1, k - 1\n",
    "                    while j < k and nums[j] == nums[j - 1]:\n",
    "                        j += 1\n",
    "                    while j < k and nums[k] == nums[k + 1]:\n",
    "                        k -= 1\n",
    "            i += 1\n",
    "            while i < len(nums) - 2 and nums[i] == nums[i - 1]:\n",
    "                i += 1\n",
    "        return result\n",
    "\n",
    "print(py_solution().threeSum([-25, -10, -7, -3, 2, 4, 8, 10]))"
   ]
  },
  {
   "cell_type": "markdown",
   "metadata": {},
   "source": [
    "Q33. Write the Python class to implement pow(x, n)?"
   ]
  },
  {
   "cell_type": "code",
   "execution_count": 118,
   "metadata": {},
   "outputs": [
    {
     "name": "stdout",
     "output_type": "stream",
     "text": [
      "0.125\n",
      "243\n",
      "1\n"
     ]
    }
   ],
   "source": [
    "class py_solution: \n",
    "    def pow(self, x, n): \n",
    "        if x==0 or x==1 or n==1: \n",
    "            return x\n",
    "        \n",
    "        if x==-1: \n",
    "            if n%2 ==0: \n",
    "                return 1 \n",
    "            else: \n",
    "                return -1 \n",
    "        \n",
    "        if n==0: \n",
    "            return 1 \n",
    "        \n",
    "        if n<0: \n",
    "            return 1/self.pow(x,-n) \n",
    "        val = self.pow(x,n//2) \n",
    "        if n%2 ==0:\n",
    "            return val*val \n",
    "        return val*val*x\n",
    "    \n",
    "print(py_solution().pow(2, -3)); \n",
    "print(py_solution().pow(3, 5)); \n",
    "print(py_solution().pow(100, 0));"
   ]
  },
  {
   "cell_type": "markdown",
   "metadata": {},
   "source": [
    "Q34. Write the Python class which has two methods get_String and print_String. get_String accept the string from the user and print_String print the string in upper case."
   ]
  },
  {
   "cell_type": "code",
   "execution_count": 121,
   "metadata": {},
   "outputs": [
    {
     "name": "stdout",
     "output_type": "stream",
     "text": [
      "Ineuron Bangalore\n",
      "INEURON BANGALORE\n"
     ]
    }
   ],
   "source": [
    "class IOString():\n",
    "    def __init__(self):\n",
    "        self.str1=\" \"\n",
    "    def get_string(self):\n",
    "        self.str1 = input()\n",
    "    def print_string(self):\n",
    "        print(self.str1.upper())\n",
    "str1=IOString()\n",
    "str1.get_string()\n",
    "str1.print_string()"
   ]
  },
  {
   "cell_type": "markdown",
   "metadata": {},
   "source": [
    "Q35. Write the Python class named Rectangle constructed by a length and width and the method which will compute the area of the rectangle?"
   ]
  },
  {
   "cell_type": "code",
   "execution_count": 128,
   "metadata": {},
   "outputs": [
    {
     "name": "stdout",
     "output_type": "stream",
     "text": [
      "120\n"
     ]
    }
   ],
   "source": [
    "class  Rectangle():\n",
    "    def __init__(self,l,w):\n",
    "        self.lenght=l\n",
    "        self.width=w\n",
    "        \n",
    "    def rectangle_area(self):\n",
    "        return self.lenght*self.width\n",
    "\n",
    "newRectangle = Rectangle(12, 10) \n",
    "print(newRectangle.rectangle_area() )"
   ]
  },
  {
   "cell_type": "markdown",
   "metadata": {},
   "source": [
    "Q36. Write the Python class named Circle constructed by the radius and two methods which will compute the area and perimeter of the circle?"
   ]
  },
  {
   "cell_type": "code",
   "execution_count": 7,
   "metadata": {},
   "outputs": [
    {
     "name": "stdout",
     "output_type": "stream",
     "text": [
      "200.96\n",
      "50.24\n"
     ]
    }
   ],
   "source": [
    "class Circle(): \n",
    "    def __init__(self, r): \n",
    "        self.radius = r\n",
    "    def area(self): \n",
    "        return self.radius**2*3.14\n",
    "    def perimeter(self): \n",
    "        return 2*self.radius*3.14\n",
    "\n",
    "NewCircle = Circle(8) \n",
    "print(NewCircle.area()) \n",
    "print(NewCircle.perimeter())"
   ]
  },
  {
   "cell_type": "markdown",
   "metadata": {},
   "source": [
    "Q37. Write the Python program to get the class name of an instance in Python?"
   ]
  },
  {
   "cell_type": "code",
   "execution_count": 8,
   "metadata": {},
   "outputs": [
    {
     "name": "stdout",
     "output_type": "stream",
     "text": [
      "cycle\n"
     ]
    }
   ],
   "source": [
    "import itertools \n",
    "x = itertools.cycle('ABCD') \n",
    "print(type(x).__name__)"
   ]
  },
  {
   "cell_type": "markdown",
   "metadata": {},
   "source": [
    "Q38. Write the Python program to count the number of students of individual class?"
   ]
  },
  {
   "cell_type": "markdown",
   "metadata": {},
   "source": [
    "Sample data- classes = ( ('V', 1), ('VI', 1), ('V', 2), ('VI', 2), ('VI', 3), ('VII', 1), )    \n",
    "Expected Output- Counter({'VI': 3, 'V': 2, 'VII': 1})"
   ]
  },
  {
   "cell_type": "code",
   "execution_count": 14,
   "metadata": {},
   "outputs": [
    {
     "name": "stdout",
     "output_type": "stream",
     "text": [
      "Counter({'VI': 3, 'V': 2, 'VII': 1})\n"
     ]
    }
   ],
   "source": [
    "from collections import Counter \n",
    "classes = ( ('V', 1), ('VI', 1), ('V', 2), ('VI', 2), ('VI', 3), ('VII', 1),) \n",
    "students = Counter(class_name for class_name, no_students in classes) \n",
    "print(students)"
   ]
  },
  {
   "cell_type": "markdown",
   "metadata": {},
   "source": [
    "Q39. Write the Python program to create an instance of an OrderedDict using the given dictionary and sort dictionary during the creation and print members of the dictionary in reverse order?"
   ]
  },
  {
   "cell_type": "markdown",
   "metadata": {},
   "source": [
    "Expected Output  -  Angola 244. Andorra 376. Algeria 213. Afghanistan 93. Albania 355.   \n",
    "In reverse order -  Albania 355. Afghanistan 93. Algeria 213. Andorra 376. Angola 244."
   ]
  },
  {
   "cell_type": "code",
   "execution_count": 30,
   "metadata": {},
   "outputs": [
    {
     "name": "stdout",
     "output_type": "stream",
     "text": [
      "Afghanistan 93\n",
      "Albania 355\n",
      "Algeria 213\n",
      "Andorra 376\n",
      "Angola 244\n",
      "\n",
      "In reverse order:\n",
      "Angola 244\n",
      "Andorra 376\n",
      "Algeria 213\n",
      "Albania 355\n",
      "Afghanistan 93\n"
     ]
    }
   ],
   "source": [
    "from collections import OrderedDict \n",
    "dict = {'Afghanistan': 93, 'Albania': 355, 'Algeria': 213, 'Andorra': 376, 'Angola': 244}\n",
    "new_dict = OrderedDict(dict.items()) \n",
    "for key in new_dict: \n",
    "    print (key, new_dict[key])\n",
    "    \n",
    "print(\"\\nIn reverse order:\")\n",
    "for key in reversed(new_dict): \n",
    "    print (key, new_dict[key])"
   ]
  },
  {
   "cell_type": "markdown",
   "metadata": {},
   "source": [
    "Q40. Write the Python program to compare two unordered lists (not sets)?"
   ]
  },
  {
   "cell_type": "markdown",
   "metadata": {},
   "source": [
    "Expected Output: False"
   ]
  },
  {
   "cell_type": "code",
   "execution_count": 46,
   "metadata": {},
   "outputs": [
    {
     "name": "stdout",
     "output_type": "stream",
     "text": [
      "False\n"
     ]
    }
   ],
   "source": [
    "from collections import Counter \n",
    "def compare_lists(x, y): \n",
    "    return Counter(x) == Counter(y) \n",
    "    n1 = [20, 10, 30, 10, 20, 30] \n",
    "    n2 = [30, 20, 10, 30, 20, 50] \n",
    "print(compare_lists(n1, n2))"
   ]
  },
  {
   "cell_type": "markdown",
   "metadata": {},
   "source": [
    "Q41. Write the Python program to get an array buffer information?"
   ]
  },
  {
   "cell_type": "markdown",
   "metadata": {},
   "source": [
    "Expected Output- Array buffer start address in memory and number of elements. (25855056, 2)"
   ]
  },
  {
   "cell_type": "code",
   "execution_count": 53,
   "metadata": {},
   "outputs": [
    {
     "name": "stdout",
     "output_type": "stream",
     "text": [
      "Array buffer start address in memory and number of elements.\n",
      "(2132881984264, 2)\n"
     ]
    }
   ],
   "source": [
    "from array import array \n",
    "a = array(\"I\", (12,25)) \n",
    "print(\"Array buffer start address in memory and number of elements.\") \n",
    "print(a.buffer_info())"
   ]
  },
  {
   "cell_type": "code",
   "execution_count": null,
   "metadata": {},
   "outputs": [],
   "source": [
    "Q42. Write the Python program to convert an array to an array of machine values and return the bytes representation?"
   ]
  },
  {
   "cell_type": "markdown",
   "metadata": {},
   "source": [
    "Expected Output-   \n",
    "Original array- A1: array('i', [1, 2, 3, 4, 5, 6])   \n",
    "Array of bytes: b'010000000200000003000000040000000500000006000000'"
   ]
  },
  {
   "cell_type": "code",
   "execution_count": 56,
   "metadata": {},
   "outputs": [
    {
     "name": "stdout",
     "output_type": "stream",
     "text": [
      "Original array: A1:  array('i', [1, 2, 3, 4, 5, 6])\n",
      "Array of bytes: b'010000000200000003000000040000000500000006000000'\n"
     ]
    }
   ],
   "source": [
    "import array \n",
    "import binascii \n",
    "a = array.array('i', [1,2,3,4,5,6]) \n",
    "print(\"Original array: A1: \",a) \n",
    "bytes_array = a.tobytes() \n",
    "print('Array of bytes:', binascii.hexlify(bytes_array))"
   ]
  },
  {
   "cell_type": "markdown",
   "metadata": {},
   "source": [
    "Q43. Write the Python program to read a string and interpreting the string as an array of machine values?"
   ]
  },
  {
   "cell_type": "markdown",
   "metadata": {},
   "source": [
    "Expected Output-     \n",
    "array1- array('i', [7, 8, 9, 10])     \n",
    "Bytes- b'0700000008000000090000000a000000'     \n",
    "array2- array('i', [7, 8, 9, 10])  "
   ]
  },
  {
   "cell_type": "code",
   "execution_count": 58,
   "metadata": {},
   "outputs": [
    {
     "name": "stdout",
     "output_type": "stream",
     "text": [
      "array1: array('i', [7, 8, 9, 10])\n",
      "Bytes: b'0700000008000000090000000a000000'\n",
      "array2: array('i', [7, 8, 9, 10])\n"
     ]
    }
   ],
   "source": [
    "from array import array \n",
    "import binascii \n",
    "array1 = array('i', [7, 8, 9, 10]) \n",
    "print('array1:', array1) \n",
    "as_bytes = array1.tobytes() \n",
    "print('Bytes:', binascii.hexlify(as_bytes)) \n",
    "array2 = array('i') \n",
    "array2.frombytes(as_bytes) \n",
    "print('array2:', array2)"
   ]
  },
  {
   "cell_type": "markdown",
   "metadata": {},
   "source": [
    "Q44. Write the Python program to push three items into the heap and return the smallest item from the heap. Also, return and pop the smallest item from the heap?"
   ]
  },
  {
   "cell_type": "raw",
   "metadata": {},
   "source": [
    "Expected Output-    \n",
    "Items in the heap- \n",
    "('VI', 1). ('VII', 3). ('VIII', 2).        \n",
    "----------------------    \n",
    "The smallest item in the heap: \n",
    "('VI', 1).       \n",
    "----------------------   \n",
    "Pop the smallest item in the heap: \n",
    "('VII', 2). ('VIII', 3).  "
   ]
  },
  {
   "cell_type": "code",
   "execution_count": 62,
   "metadata": {},
   "outputs": [
    {
     "name": "stdout",
     "output_type": "stream",
     "text": [
      "Items in the heap:\n",
      "('V', 1)\n",
      "('V', 3)\n",
      "('V', 2)\n",
      "----------------------\n",
      "The smallest item in the heap:\n",
      "('V', 1)\n",
      "----------------------\n",
      "Pop the smallest item in the heap:\n",
      "('V', 2)\n",
      "('V', 3)\n"
     ]
    }
   ],
   "source": [
    "import heapq \n",
    "heap = [] \n",
    "heapq.heappush(heap, ('V', 3)) \n",
    "heapq.heappush(heap, ('V', 2))\n",
    "heapq.heappush(heap, ('V', 1))\n",
    "print(\"Items in the heap:\") \n",
    "for a in heap: \n",
    "    print(a)\n",
    "print(\"----------------------\")\n",
    "print(\"The smallest item in the heap:\") \n",
    "print(heap[0])\n",
    "print(\"----------------------\")\n",
    "print(\"Pop the smallest item in the heap:\") \n",
    "heapq.heappop(heap) \n",
    "for a in heap: \n",
    "    print(a)"
   ]
  },
  {
   "cell_type": "markdown",
   "metadata": {},
   "source": [
    "Q45. Write the Python program to locate the left insertion point for a specified value in sorted order?"
   ]
  },
  {
   "cell_type": "markdown",
   "metadata": {},
   "source": [
    "Expected Output:   \n",
    "4   \n",
    "2  "
   ]
  },
  {
   "cell_type": "code",
   "execution_count": 65,
   "metadata": {},
   "outputs": [
    {
     "name": "stdout",
     "output_type": "stream",
     "text": [
      "4\n",
      "2\n"
     ]
    }
   ],
   "source": [
    "import bisect \n",
    "def index(a, x): \n",
    "    i = bisect.bisect_left(a, x) \n",
    "    return i \n",
    "a = [1,2,4,5] \n",
    "print(index(a, 6)) \n",
    "print(index(a, 3))"
   ]
  },
  {
   "cell_type": "markdown",
   "metadata": {},
   "source": [
    "Q46. Write the Python program to create the FIFO queue?"
   ]
  },
  {
   "cell_type": "markdown",
   "metadata": {},
   "source": [
    "Expected Output: 0 1 2 3"
   ]
  },
  {
   "cell_type": "code",
   "execution_count": 68,
   "metadata": {},
   "outputs": [
    {
     "name": "stdout",
     "output_type": "stream",
     "text": [
      "0 \n",
      "\n",
      "1 \n",
      "\n",
      "2 \n",
      "\n",
      "3 \n",
      "\n"
     ]
    }
   ],
   "source": [
    "import queue \n",
    "q = queue.Queue() \n",
    "#insert items at the end of the queue \n",
    "for x in range(4): \n",
    "    q.put(str(x)) \n",
    "#remove items from the head of the queue \n",
    "while not q.empty():\n",
    "    print(q.get(), end=\" \")\n",
    "    print(\"\\n\")"
   ]
  },
  {
   "cell_type": "markdown",
   "metadata": {},
   "source": [
    "Q47. Write the Python program to calculate the harmonic sum of n-1. Note: The harmonic sum is the sum of reciprocals of the positive Integers?"
   ]
  },
  {
   "cell_type": "code",
   "execution_count": 69,
   "metadata": {},
   "outputs": [
    {
     "name": "stdout",
     "output_type": "stream",
     "text": [
      "2.5928571428571425\n",
      "2.083333333333333\n"
     ]
    }
   ],
   "source": [
    "def harmonic_sum(n): \n",
    "    if n < 2: \n",
    "        return 1 \n",
    "    else: return 1 / n + (harmonic_sum(n - 1)) \n",
    "print(harmonic_sum(7)) \n",
    "print(harmonic_sum(4))"
   ]
  },
  {
   "cell_type": "markdown",
   "metadata": {},
   "source": [
    "Q48. Write the NumPy program to create a 2d array with 6 on the border and 0 inside?"
   ]
  },
  {
   "cell_type": "raw",
   "metadata": {},
   "source": [
    "Expected Output- Original array- [ [6 6 6 6 6] \n",
    "                                  [ 6 6 6 6 6] \n",
    "                                  [ 6 6 6 6 6 ] \n",
    "                                  [ 6 6 6 6 6 ] \n",
    "                                  [ 6 6 6 6 ] ].\n",
    "\n",
    "6 on the border and 0 inside in the array- [[ 6 6 6 6 6] \n",
    "                                            [ 6 0 0 0 6]\n",
    "                                            [ 6 0 0 0 6]\n",
    "                                            [ 6 0 0 0 6] \n",
    "                                            [ 6 6 6 6 6]]."
   ]
  },
  {
   "cell_type": "code",
   "execution_count": 137,
   "metadata": {},
   "outputs": [
    {
     "name": "stdout",
     "output_type": "stream",
     "text": [
      "Original array:\n",
      "[[6 6 6 6 6]\n",
      " [6 6 6 6 6]\n",
      " [6 6 6 6 6]\n",
      " [6 6 6 6 6]\n",
      " [6 6 6 6 6]]\n",
      "1 on the border and 0 inside in the array\n",
      "[[6 6 6 6 6]\n",
      " [6 0 0 0 6]\n",
      " [6 0 0 0 6]\n",
      " [6 0 0 0 6]\n",
      " [6 6 6 6 6]]\n"
     ]
    }
   ],
   "source": [
    "import numpy as np \n",
    "x = (6*np.ones((5,5),dtype=int))\n",
    "print(\"Original array:\") \n",
    "print(x)\n",
    "print(\"1 on the border and 0 inside in the array\") \n",
    "x[1:-1,1:-1] = 0\n",
    "print(x)"
   ]
  },
  {
   "cell_type": "markdown",
   "metadata": {},
   "source": [
    "Q49. Write the NumPy program to create a 8x8 matrix and fill it with the checkerboard pattern?"
   ]
  },
  {
   "cell_type": "raw",
   "metadata": {},
   "source": [
    "Checkerboard pattern- [[3 9 3 9 3 9 3 9] \n",
    "                       [9 3 9 3 9 3 9 3] \n",
    "                       [3 9 3 9 3 9 3 9] \n",
    "                       [9 3 9 3 9 3 9 3] \n",
    "                       [3 9 3 9 3 9 3 9] \n",
    "                       [9 3 9 3 9 3 9 3] \n",
    "                       [3 9 3 9 3 9 3 9] \n",
    "                       [9 3 9 3 9 3 9 3]]."
   ]
  },
  {
   "cell_type": "code",
   "execution_count": 142,
   "metadata": {},
   "outputs": [
    {
     "name": "stdout",
     "output_type": "stream",
     "text": [
      "Checkerboard pattern:\n",
      "[[3 9 3 9 3 9 3 9]\n",
      " [9 3 9 3 9 3 9 3]\n",
      " [3 9 3 9 3 9 3 9]\n",
      " [9 3 9 3 9 3 9 3]\n",
      " [3 9 3 9 3 9 3 9]\n",
      " [9 3 9 3 9 3 9 3]\n",
      " [3 9 3 9 3 9 3 9]\n",
      " [9 3 9 3 9 3 9 3]]\n"
     ]
    }
   ],
   "source": [
    "import numpy as np \n",
    "print(\"Checkerboard pattern:\") \n",
    "x = (3*np.ones((8,8),dtype=int) )\n",
    "x[::2,1::2] = 9\n",
    "x[1::2,::2] = 9 \n",
    "\n",
    "print(x)"
   ]
  },
  {
   "cell_type": "markdown",
   "metadata": {},
   "source": [
    "Q50. Write the NumPy program to create an empty and a full array."
   ]
  },
  {
   "cell_type": "raw",
   "metadata": {},
   "source": [
    "Expected Output- \n",
    "[[4.45057637e-308 1.78021527e-306 8.45549797e-307 1.37962049e-306] \n",
    " [1.11260619e-306 1.78010255e-306 9.79054228e-307 4.45057637e-308]\n",
    " [8.45596650e-307 9.34602321e-307 4.94065646e-322 0.00000000e+000]] \n",
    "\n",
    "[[6 6 6]\n",
    " [6 6 6] \n",
    " [6 6 6]]"
   ]
  },
  {
   "cell_type": "code",
   "execution_count": 157,
   "metadata": {},
   "outputs": [
    {
     "name": "stdout",
     "output_type": "stream",
     "text": [
      "[[0.0157772  0.70086009 0.39997169 0.72566935]\n",
      " [0.86728878 0.45200088 0.64927186 0.54651097]\n",
      " [0.9033338  0.25727883 0.42820722 0.88576451]]\n",
      "[[6 6 6]\n",
      " [6 6 6]\n",
      " [6 6 6]]\n"
     ]
    }
   ],
   "source": [
    "import numpy as np\n",
    "# Create an empty array \n",
    "x = np.empty((3,4))\n",
    "print(x)\n",
    "# Create a full array \n",
    "y = np.full((3,3),6)\n",
    "print(y)"
   ]
  },
  {
   "cell_type": "markdown",
   "metadata": {},
   "source": [
    "Q51. Write the NumPy program to convert the values of Centigrade degrees into the Fahrenheit degrees and the centigrade values are stored in the NumPy array."
   ]
  },
  {
   "cell_type": "markdown",
   "metadata": {},
   "source": [
    "Sample Array -[0, 12, 45.21 ,34, 99.91]     \n",
    "Expected Output- \n",
    "Values in Fahrenheit degrees- [ 0. 12. 45.21 34. 99.91]    \n",
    "Values in Centigrade degrees- [-17.77777778 -11.11111111 7.33888889 1.11111111 37.72777778]  "
   ]
  },
  {
   "cell_type": "code",
   "execution_count": 161,
   "metadata": {},
   "outputs": [
    {
     "name": "stdout",
     "output_type": "stream",
     "text": [
      "Values in Fahrenheit degrees:  [ 0.   12.   45.21 34.   99.91]\n",
      "Values in Centigrade degrees:  [-17.77777778 -11.11111111   7.33888889   1.11111111  37.72777778]\n"
     ]
    }
   ],
   "source": [
    "import numpy as np \n",
    "fvalues = [0, 12, 45.21, 34, 99.91] \n",
    "F = np.array(fvalues)\n",
    "print(\"Values in Fahrenheit degrees: \" , F) \n",
    "print(\"Values in Centigrade degrees: \",5*F/9 - 5*32/9)"
   ]
  },
  {
   "cell_type": "markdown",
   "metadata": {},
   "source": [
    "Q52. Write the NumPy program to find the real and imaginary parts of an array of complex numbers?"
   ]
  },
  {
   "cell_type": "markdown",
   "metadata": {},
   "source": [
    "Expected Output-     \n",
    "Original array [ 1.00000000+0.j 0.70710678+0.70710678j]    \n",
    "Real part of the array- [ 1. 0.70710678]    \n",
    "Imaginary part of the array- [ 0. 0.70710678]  "
   ]
  },
  {
   "cell_type": "code",
   "execution_count": 165,
   "metadata": {},
   "outputs": [
    {
     "name": "stdout",
     "output_type": "stream",
     "text": [
      "Original array:x  [1.+0.j]\n",
      "Original array:y  [0.70710678+0.70710678j]\n",
      "Real part of the array:\n",
      "[1.]\n",
      "[0.70710678]\n",
      "Imaginary part of the array:\n",
      "[0.]\n",
      "[0.70710678]\n"
     ]
    }
   ],
   "source": [
    "import numpy as np \n",
    "x = np.sqrt([1+0j]) \n",
    "y = np.sqrt([0+1j]) \n",
    "print(\"Original array:x \",x) \n",
    "print(\"Original array:y \",y)\n",
    "print(\"Real part of the array:\") \n",
    "print(x.real) \n",
    "print(y.real)\n",
    "print(\"Imaginary part of the array:\") \n",
    "print(x.imag) \n",
    "print(y.imag)"
   ]
  },
  {
   "cell_type": "markdown",
   "metadata": {},
   "source": [
    "Q53. Write the NumPy program to test whether each element of a 1-D array is also present in the second array?"
   ]
  },
  {
   "cell_type": "markdown",
   "metadata": {},
   "source": [
    "Expected Output-   \n",
    "Array1: [ 0 10 20 40 60]   \n",
    "Array2: [0, 40]   \n",
    "Compare each element of array1 and array2   \n",
    "[ True False False True False]  "
   ]
  },
  {
   "cell_type": "code",
   "execution_count": 176,
   "metadata": {},
   "outputs": [
    {
     "name": "stdout",
     "output_type": "stream",
     "text": [
      "Array1:  [ 0 10 20 40 60]\n",
      "Array2:  [0, 40]\n",
      "Compare each element of array1 and array2\n",
      "[ True False False  True False]\n"
     ]
    }
   ],
   "source": [
    "import numpy as np \n",
    "array1 = np.array([0, 10, 20, 40, 60]) \n",
    "print(\"Array1: \",array1) \n",
    "array2 = [0, 40] \n",
    "print(\"Array2: \",array2)\n",
    "print(\"Compare each element of array1 and array2\") \n",
    "print(np.in1d(array1, array2))"
   ]
  },
  {
   "cell_type": "markdown",
   "metadata": {},
   "source": [
    "Q54. Write the NumPy program to find common values between two arrays?"
   ]
  },
  {
   "cell_type": "markdown",
   "metadata": {},
   "source": [
    "Expected Output-   \n",
    "Array1: [ 0 10 20 40 60]   \n",
    "Array2: [10, 30, 40]   \n",
    "Common values between two arrays- [10 40]  "
   ]
  },
  {
   "cell_type": "code",
   "execution_count": 183,
   "metadata": {},
   "outputs": [
    {
     "name": "stdout",
     "output_type": "stream",
     "text": [
      "Array1:  [0, 10, 20, 40, 60]\n",
      "Array2:  [10, 30, 40]\n",
      "Common values between two arrays- \n",
      "[10 40]\n"
     ]
    }
   ],
   "source": [
    "import numpy as np\n",
    "Array1=[ 0, 10, 20, 40 ,60]\n",
    "print('Array1: ',Array1)\n",
    "Array2 =[10, 30, 40]\n",
    "print('Array2: ',Array2)\n",
    "print('Common values between two arrays- ')\n",
    "print(np.intersect1d(Array1,Array2))"
   ]
  },
  {
   "cell_type": "markdown",
   "metadata": {},
   "source": [
    "Q55. Write the NumPy program to get the unique elements of an array?"
   ]
  },
  {
   "cell_type": "raw",
   "metadata": {},
   "source": [
    "Expected Output- \n",
    "Original array- [10 10 20 20 30 30] \n",
    "Unique elements of the above array- [10 20 30]\n",
    "\n",
    "Original array- [[1 1] \n",
    "                 [2 3]] \n",
    "Unique elements of the above array- [1 2 3]"
   ]
  },
  {
   "cell_type": "code",
   "execution_count": 230,
   "metadata": {},
   "outputs": [
    {
     "name": "stdout",
     "output_type": "stream",
     "text": [
      "Original array:  [10 10 20 20 30 30]\n",
      "Unique elements of the above array:  [10 20 30]\n",
      "Original array: \n",
      " [[1 1]\n",
      " [2 3]]\n",
      "Unique elements of the above array:  [1 2 3]\n"
     ]
    }
   ],
   "source": [
    "import numpy as np\n",
    "x=np.array([10, 10, 20, 20, 30, 30])\n",
    "print(\"Original array: \",x)\n",
    "print(\"Unique elements of the above array: \",np.unique(x))\n",
    "\n",
    "x=np.array([[1, 1], [2, 3]])\n",
    "print(\"Original array: \\n\",  x)\n",
    "print(\"Unique elements of the above array: \",np.unique(x))"
   ]
  },
  {
   "cell_type": "markdown",
   "metadata": {},
   "source": [
    "Q56. Write the NumPy program to find the set exclusive-or of two arrays. Set exclusive-or will return the sorted, unique values that are in only one (not both) of the input arrays?"
   ]
  },
  {
   "cell_type": "markdown",
   "metadata": {},
   "source": [
    "Array1- [ 0 10 20 40 60 80]    \n",
    "Array2- [10, 30, 40, 50, 70]    \n",
    "Unique values that are in only one (not both) of the input arrays- [ 0 20 30 50 60 70 80]"
   ]
  },
  {
   "cell_type": "code",
   "execution_count": 248,
   "metadata": {},
   "outputs": [
    {
     "name": "stdout",
     "output_type": "stream",
     "text": [
      "Array1:  [ 0 10 20 40 60 80]\n",
      "Array2:  [10, 30, 40, 50, 70]\n",
      "Unique values that are in only one (not both) of the input arrays:\n",
      "[ 0 20 30 50 60 70 80]\n"
     ]
    }
   ],
   "source": [
    "import numpy as np \n",
    "array1 = np.array([0, 10, 20, 40, 60, 80])\n",
    "array2 = [10, 30, 40, 50, 70]\n",
    "print(\"Array1: \",array1)  \n",
    "print(\"Array2: \",array2)\n",
    "print(\"Unique values that are in only one (not both) of the input arrays:\") \n",
    "print(np.setxor1d(array1, array2))"
   ]
  },
  {
   "cell_type": "markdown",
   "metadata": {},
   "source": [
    "Q57. Write the NumPy program to test if all elements in an array evaluate to True ?"
   ]
  },
  {
   "cell_type": "markdown",
   "metadata": {},
   "source": [
    "Note: 0 evaluates to False in NumPy."
   ]
  },
  {
   "cell_type": "code",
   "execution_count": 252,
   "metadata": {},
   "outputs": [
    {
     "name": "stdout",
     "output_type": "stream",
     "text": [
      "False\n",
      "True\n",
      "False\n",
      "True\n"
     ]
    }
   ],
   "source": [
    "import numpy as np \n",
    "print(np.all([[True,False],[True,True]])) \n",
    "print(np.all([[True,True],[True,True]])) \n",
    "print(np.all([10, 20, 0, -50])) \n",
    "print(np.all([10, 20, -50]))"
   ]
  },
  {
   "cell_type": "markdown",
   "metadata": {},
   "source": [
    "Q58 Write the NumPy program to test whether any array element along the given axis evaluates to True?"
   ]
  },
  {
   "cell_type": "markdown",
   "metadata": {},
   "source": [
    "Note: 0 evaluates to False in NumPy."
   ]
  },
  {
   "cell_type": "code",
   "execution_count": 256,
   "metadata": {},
   "outputs": [
    {
     "name": "stdout",
     "output_type": "stream",
     "text": [
      "False\n",
      "True\n",
      "True\n",
      "True\n",
      "False\n"
     ]
    }
   ],
   "source": [
    "import numpy as np \n",
    "print(np.any([[False,False],[False,False]])) \n",
    "print(np.any([[True,True],[True,True]])) \n",
    "print(np.any([10, 20, 0, -50])) \n",
    "print(np.any([50, 12,35])) \n",
    "print(np.any([0, 0, 0]))"
   ]
  },
  {
   "cell_type": "markdown",
   "metadata": {},
   "source": [
    "Q59. Write the NumPy program to construct an array by repeating?"
   ]
  },
  {
   "cell_type": "markdown",
   "metadata": {},
   "source": [
    "Sample array- [1, 2, 3, 4]   \n",
    "Expected Output-   \n",
    "Original array [1, 2, 3, 4]   \n",
    "Repeating 2 times [1 2 3 4 1 2 3 4]   \n",
    "Repeating 3 times [1 2 3 4 1 2 3 4 1 2 3 4]   "
   ]
  },
  {
   "cell_type": "code",
   "execution_count": 261,
   "metadata": {},
   "outputs": [
    {
     "name": "stdout",
     "output_type": "stream",
     "text": [
      "Original array  [1, 2, 3, 4]\n",
      "Repeating 2 times  [1 2 3 4 1 2 3 4]\n",
      "Repeating 3 times [1 2 3 4 1 2 3 4 1 2 3 4]\n"
     ]
    }
   ],
   "source": [
    "import numpy as np\n",
    "a = [1, 2, 3, 4]\n",
    "print('Original array ',a)\n",
    "print(\"Repeating 2 times \", np.tile(a,2)) \n",
    "print(\"Repeating 3 times\",np.tile(a,3))"
   ]
  },
  {
   "cell_type": "markdown",
   "metadata": {},
   "source": [
    "Q60. Write the NumPy program to find the indices of the maximum and minimum values with the given axis of an array?"
   ]
  },
  {
   "cell_type": "markdown",
   "metadata": {},
   "source": [
    "Original array- [1 2 3 4 5 6]   \n",
    "Maximum Values- 5    \n",
    "Minimum Values- 0  "
   ]
  },
  {
   "cell_type": "code",
   "execution_count": 271,
   "metadata": {},
   "outputs": [
    {
     "name": "stdout",
     "output_type": "stream",
     "text": [
      "Original array:  [1 2 3 4 5 6]\n",
      "Maximum Values:  5\n",
      "Minimum Values:  0\n"
     ]
    }
   ],
   "source": [
    "import numpy as np \n",
    "x = np.array([1, 2, 3, 4, 5, 6]) \n",
    "print(\"Original array: \",x) \n",
    "print(\"Maximum Values: \",np.argmax(x))\n",
    "print(\"Minimum Values: \",np.argmin(x))"
   ]
  },
  {
   "cell_type": "markdown",
   "metadata": {},
   "source": [
    "Q61. Write the NumPy program compare two arrays using numpy?"
   ]
  },
  {
   "cell_type": "raw",
   "metadata": {},
   "source": [
    "Array a- [1 2] \n",
    "Array b- [4 5] \n",
    "a > b \n",
    "[False False] \n",
    "a >= b \n",
    "[False False] \n",
    "a < b \n",
    "[ True True] \n",
    "a <= b \n",
    "[ True True]"
   ]
  },
  {
   "cell_type": "code",
   "execution_count": 277,
   "metadata": {},
   "outputs": [
    {
     "name": "stdout",
     "output_type": "stream",
     "text": [
      "Array a:  [1 2]\n",
      "Array b:  [4 5]\n",
      "a>b\n",
      "[False False]\n",
      "a>=b\n",
      "[False False]\n",
      "a<b\n",
      "[ True  True]\n",
      "a<=b\n",
      "[ True  True]\n"
     ]
    }
   ],
   "source": [
    "import numpy as np\n",
    "a=np.array([1,2])\n",
    "b=np.array([4,5])\n",
    "print('Array a: ',a)\n",
    "print('Array b: ',b)\n",
    "print('a>b')\n",
    "print(np.greater(a,b))\n",
    "print('a>=b')\n",
    "print(np.greater_equal(a,b))\n",
    "print('a<b')\n",
    "print(np.less(a,b))\n",
    "print('a<=b')\n",
    "print(np.less_equal(a,b))"
   ]
  },
  {
   "cell_type": "markdown",
   "metadata": {},
   "source": [
    "Q62. Write the NumPy program to sort an along the first, last axis of an array?"
   ]
  },
  {
   "cell_type": "raw",
   "metadata": {},
   "source": [
    "Expected Output- \n",
    "Original array: [[4 6]\n",
    "                 [2 1]] \n",
    "Sort along the first axis: [[2 1]\n",
    "                            [4 6]]\n",
    "Sort along the last axis- [[1 2] \n",
    "                           [4 6]]"
   ]
  },
  {
   "cell_type": "code",
   "execution_count": 4,
   "metadata": {},
   "outputs": [
    {
     "name": "stdout",
     "output_type": "stream",
     "text": [
      "Original array: \n",
      " [[4 6]\n",
      " [2 1]]\n",
      "Sort along the first axis: \n",
      "\n",
      "[[2 1]\n",
      " [4 6]]\n",
      "Sort along the last axis: \n",
      " [[1 2]\n",
      " [4 6]]\n"
     ]
    }
   ],
   "source": [
    "import numpy as np\n",
    "a=np.array([[4,6],[2,1]])\n",
    "print(\"Original array: \\n\",a)\n",
    "print('Sort along the first axis: \\n')\n",
    "x=np.sort(a,axis=0)\n",
    "print(x)\n",
    "print(\"Sort along the last axis: \\n\",np.sort(x,axis=1))"
   ]
  },
  {
   "cell_type": "markdown",
   "metadata": {},
   "source": [
    "Q63. Write the NumPy program to sort pairs of first name and last name return their indices (first by last name, then by first name)."
   ]
  },
  {
   "cell_type": "markdown",
   "metadata": {},
   "source": [
    "first_names - ( Betsey, Shelley, Lanell, Genesis, Margery )   \n",
    "last_names - ( Battle, Brien, Plotner, Stahl, Woolum )  \n",
    "Expected Output- [1 3 2 4 0]"
   ]
  },
  {
   "cell_type": "code",
   "execution_count": 5,
   "metadata": {},
   "outputs": [
    {
     "name": "stdout",
     "output_type": "stream",
     "text": [
      "[1 3 2 4 0]\n"
     ]
    }
   ],
   "source": [
    "import numpy as np \n",
    "first_names = ('Margery', 'Betsey', 'Shelley', 'Lanell', 'Genesis') \n",
    "last_names = ('Woolum', 'Battle', 'Plotner', 'Brien', 'Stahl')\n",
    "x = np.lexsort((first_names, last_names)) \n",
    "print(x)"
   ]
  },
  {
   "cell_type": "markdown",
   "metadata": {},
   "source": [
    "Q64. Write the NumPy program to get the values and indices of the elements that are bigger than 10 in the given array?"
   ]
  },
  {
   "cell_type": "markdown",
   "metadata": {},
   "source": [
    "Original array- [[ 0 10 20] [20 30 40]]    \n",
    "Values bigger than 10 = [20 20 30 40]   \n",
    "Their indices are (array([0, 1, 1, 1]), array([2, 0, 1, 2]))   "
   ]
  },
  {
   "cell_type": "code",
   "execution_count": 26,
   "metadata": {},
   "outputs": [
    {
     "name": "stdout",
     "output_type": "stream",
     "text": [
      "Original array: \n",
      "  [[ 0 10 20]\n",
      " [20 30 40]]\n",
      "Values bigger than 10 =  [20 20 30 40]\n",
      "Their indices are  (array([0, 1, 1, 1], dtype=int64), array([2, 0, 1, 2], dtype=int64))\n"
     ]
    }
   ],
   "source": [
    "import numpy as np \n",
    "x = np.array([[0, 10, 20], [20, 30, 40]])\n",
    "print(\"Original array: \\n \",x) \n",
    "print(\"Values bigger than 10 = \", x[x>10]) \n",
    "print(\"Their indices are \", np.nonzero(x > 10))"
   ]
  },
  {
   "cell_type": "markdown",
   "metadata": {},
   "source": [
    "Q65. Write the NumPy program to find the memory size of a NumPy array?"
   ]
  },
  {
   "cell_type": "markdown",
   "metadata": {},
   "source": [
    "Expected Output- 128 bytes"
   ]
  },
  {
   "cell_type": "code",
   "execution_count": 29,
   "metadata": {},
   "outputs": [
    {
     "name": "stdout",
     "output_type": "stream",
     "text": [
      "128 bytes\n"
     ]
    }
   ],
   "source": [
    "import numpy as np\n",
    "n=np.zeros((4,4))\n",
    "print(\"%d bytes\" % (n.size * n.itemsize))"
   ]
  },
  {
   "cell_type": "markdown",
   "metadata": {},
   "source": [
    "Q66. Write the NumPy program to create an array of ones and an array of zeros?"
   ]
  },
  {
   "cell_type": "markdown",
   "metadata": {},
   "source": [
    "Expected Output-    \n",
    "Create an array of zeros Default type is float [[ 0. 0.]]   \n",
    "Type changes to int [[0 0]]   \n",
    "Create an array of ones Default type is float [[ 1. 1.]]  \n",
    "Type changes to int [[1 1]]  "
   ]
  },
  {
   "cell_type": "code",
   "execution_count": 35,
   "metadata": {},
   "outputs": [
    {
     "name": "stdout",
     "output_type": "stream",
     "text": [
      "Create an array of zeros\n",
      "Default type is float\n",
      "[[0. 0.]]\n",
      "Type changes to int\n",
      "[[0 0]]\n",
      "Create an array of ones\n",
      "Default type is float\n",
      "[[1. 1.]]\n",
      "Type changes to int\n",
      "[[1 1]]\n"
     ]
    }
   ],
   "source": [
    "import numpy as np\n",
    "print(\"Create an array of zeros\")\n",
    "x=np.zeros((1,2))\n",
    "print(\"Default type is float\")\n",
    "print(x)\n",
    "print('Type changes to int')\n",
    "x=np.zeros((1,2),dtype=np.int)\n",
    "print(x)\n",
    "print(\"Create an array of ones\")\n",
    "y=np.ones((1,2))\n",
    "print(\"Default type is float\") \n",
    "print(y)\n",
    "print(\"Type changes to int\") \n",
    "y = np.ones((1,2), dtype = np.int) \n",
    "print(y)"
   ]
  },
  {
   "cell_type": "markdown",
   "metadata": {},
   "source": [
    "Q67. Write the NumPy program to change the dimension of an array?"
   ]
  },
  {
   "cell_type": "raw",
   "metadata": {},
   "source": [
    "6 rows and 0 columns                                                   \n",
    "(6,)                                                                   \n",
    "(3, 3) -> 3 rows and 3 columns                                         \n",
    "[[1 2 3]                                                               \n",
    " [4 5 6]                                                               \n",
    " [7 8 9]]                                                              \n",
    "Change array shape to (3, 3) -> 3 rows and 3 columns                   \n",
    "[[1 2 3]                                                               \n",
    " [4 5 6]                                                               \n",
    " [7 8 9]]"
   ]
  },
  {
   "cell_type": "code",
   "execution_count": 42,
   "metadata": {},
   "outputs": [
    {
     "name": "stdout",
     "output_type": "stream",
     "text": [
      "6 rows and 0 columns\n",
      "(6,)\n",
      "(3, 3) -> 3 rows and 3 columns\n",
      "[[1 2 3]\n",
      " [4 5 6]\n",
      " [7 8 9]]\n",
      "Change array shape to (3, 3) -> 3 rows and 3 columns \n",
      "[[1 2 3]\n",
      " [4 5 6]\n",
      " [7 8 9]]\n"
     ]
    }
   ],
   "source": [
    "import numpy as np\n",
    "x=np.array([1,2,3,4,5,6])\n",
    "print(\"6 rows and 0 columns\")\n",
    "print(x.shape)\n",
    "y=np.array([[1, 2, 3],[4, 5, 6],[7, 8, 9]])\n",
    "print('(3, 3) -> 3 rows and 3 columns')\n",
    "print(y)\n",
    "print('Change array shape to (3, 3) -> 3 rows and 3 columns ')\n",
    "x=np.array([[1, 2, 3],[4, 5, 6],[7, 8, 9]])\n",
    "print(x)\n"
   ]
  },
  {
   "cell_type": "markdown",
   "metadata": {},
   "source": [
    "Q68. Write the NumPy program to create a new shape to an array without changing its data ?"
   ]
  },
  {
   "cell_type": "raw",
   "metadata": {},
   "source": [
    "Reshape 3x2- \n",
    "[[1 2] \n",
    " [3 4] \n",
    " [5 6]] \n",
    "Reshape 2x3- \n",
    "[[1 2 3] \n",
    " [4 5 6]]"
   ]
  },
  {
   "cell_type": "code",
   "execution_count": 48,
   "metadata": {},
   "outputs": [
    {
     "name": "stdout",
     "output_type": "stream",
     "text": [
      "Reshape 3x2:\n",
      "[[1 2]\n",
      " [3 4]\n",
      " [5 6]]\n",
      "Reshape 2x3:\n",
      "[[1 2 3]\n",
      " [4 5 6]]\n"
     ]
    }
   ],
   "source": [
    "import numpy as np \n",
    "x = np.array([1, 2, 3, 4, 5, 6]) \n",
    "y = np.reshape(x,(3,2))\n",
    "print(\"Reshape 3x2:\") \n",
    "print(y) \n",
    "z = np.reshape(x,(2,3))\n",
    "print(\"Reshape 2x3:\") \n",
    "print(z)"
   ]
  },
  {
   "cell_type": "markdown",
   "metadata": {},
   "source": [
    "Q69. Write the NumPy program to create a new array of 3*5, filled with 2?"
   ]
  },
  {
   "cell_type": "raw",
   "metadata": {},
   "source": [
    "Expected Output- \n",
    "[[2 2 2 2 2] \n",
    " [2 2 2 2 2] \n",
    " [2 2 2 2 2]] \n",
    "[[2 2 2 2 2] \n",
    " [2 2 2 2 2] \n",
    " [2 2 2 2 2]]"
   ]
  },
  {
   "cell_type": "code",
   "execution_count": 55,
   "metadata": {},
   "outputs": [
    {
     "name": "stdout",
     "output_type": "stream",
     "text": [
      "[[[2 2 2 2 2]\n",
      "  [2 2 2 2 2]\n",
      "  [2 2 2 2 2]]\n",
      "\n",
      " [[2 2 2 2 2]\n",
      "  [2 2 2 2 2]\n",
      "  [2 2 2 2 2]]]\n"
     ]
    }
   ],
   "source": [
    "import numpy as np\n",
    "x=(2*np.ones((2,3,5),dtype=int))\n",
    "print(x)"
   ]
  },
  {
   "cell_type": "code",
   "execution_count": 56,
   "metadata": {},
   "outputs": [
    {
     "name": "stdout",
     "output_type": "stream",
     "text": [
      "[[2 2 2 2 2]\n",
      " [2 2 2 2 2]\n",
      " [2 2 2 2 2]]\n",
      "[[2 2 2 2 2]\n",
      " [2 2 2 2 2]\n",
      " [2 2 2 2 2]]\n"
     ]
    }
   ],
   "source": [
    "import numpy as np \n",
    "#using no.full \n",
    "x = np.full((3, 5), 2, dtype=np.uint) \n",
    "print(x) \n",
    "#using no.ones \n",
    "y = np.ones([3, 5], dtype=np.uint) *2 \n",
    "print(y)"
   ]
  },
  {
   "cell_type": "markdown",
   "metadata": {},
   "source": [
    "Q70. Write the NumPy program to create a 3-D array with ones on a diagonal and zeros elsewhere?"
   ]
  },
  {
   "cell_type": "raw",
   "metadata": {},
   "source": [
    "Expected Output- \n",
    "[[ 1. 0. 0.] \n",
    " [ 0. 1. 0.]\n",
    " [ 0. 0. 1.]]"
   ]
  },
  {
   "cell_type": "code",
   "execution_count": 60,
   "metadata": {},
   "outputs": [
    {
     "name": "stdout",
     "output_type": "stream",
     "text": [
      "[[1. 0. 0.]\n",
      " [0. 1. 0.]\n",
      " [0. 0. 1.]]\n"
     ]
    }
   ],
   "source": [
    "import numpy as np \n",
    "x = np.eye(3) \n",
    "print(x)"
   ]
  },
  {
   "cell_type": "markdown",
   "metadata": {},
   "source": [
    "Q71. Write the NumPy program to split an array of 14 elements into the 3 arrays and each of which has 2, 4, and 8 elements in original order?"
   ]
  },
  {
   "cell_type": "raw",
   "metadata": {},
   "source": [
    "Expected Output- \n",
    "Original array- [ 1 2 3 4 5 6 7 8 9 10 11 12 13 14] \n",
    "After splitting- [array([1, 2]), array([3, 4, 5, 6]), array([ 7, 8, 9, 10, 11, 12, 13, 14])]"
   ]
  },
  {
   "cell_type": "code",
   "execution_count": 68,
   "metadata": {},
   "outputs": [
    {
     "name": "stdout",
     "output_type": "stream",
     "text": [
      "Original array: [ 1  2  3  4  5  6  7  8  9 10 11 12 13 14]\n",
      "After splitting:\n",
      "[array([1, 2]), array([3, 4, 5, 6]), array([ 7,  8,  9, 10, 11, 12, 13, 14])]\n"
     ]
    }
   ],
   "source": [
    "import numpy as np\n",
    "x=np.arange(1,15)\n",
    "print(\"Original array:\",x)\n",
    "print(\"After splitting:\") \n",
    "print(np.split(x, [2, 6]))"
   ]
  },
  {
   "cell_type": "markdown",
   "metadata": {},
   "source": [
    "Q72. Write the NumPy program to split of an array of shape 4x4 it into two arrays along the second axis ?"
   ]
  },
  {
   "cell_type": "raw",
   "metadata": {},
   "source": [
    "Sample array - \n",
    "[[ 0 1 2 3] \n",
    " [ 4 5 6 7] \n",
    " [ 8 9 10 11] \n",
    " [12 13 14 15]] \n",
    "Expected Output-\n",
    "[array([[ 0, 1], [ 4, 5], [ 8, 9], [12, 13]]), \n",
    " array([[ 2, 3], [ 6, 7], [10, 11], [14, 15]]), \n",
    " array([], shape=(4, 0), dtype=int64)]"
   ]
  },
  {
   "cell_type": "code",
   "execution_count": 104,
   "metadata": {},
   "outputs": [
    {
     "name": "stdout",
     "output_type": "stream",
     "text": [
      "Sample array \n",
      " [[ 0  1  2  3]\n",
      " [ 4  5  6  7]\n",
      " [ 8  9 10 11]\n",
      " [12 13 14 15]]\n",
      "After splitting horizontally Expected Output:\n",
      "[array([[ 0,  1],\n",
      "       [ 4,  5],\n",
      "       [ 8,  9],\n",
      "       [12, 13]]), array([[ 2,  3],\n",
      "       [ 6,  7],\n",
      "       [10, 11],\n",
      "       [14, 15]]), array([], shape=(4, 0), dtype=int32)]\n"
     ]
    }
   ],
   "source": [
    "import numpy as np\n",
    "x=np.arange(16).reshape(4,4)\n",
    "print('Sample array \\n',x)\n",
    "print('After splitting horizontally Expected Output:')\n",
    "print(np.hsplit(x,[2,6]))\n"
   ]
  },
  {
   "cell_type": "markdown",
   "metadata": {},
   "source": [
    "Q73. Write the NumPy program to create a 5x5 matrix with row values ranging from 0 to 4?"
   ]
  },
  {
   "cell_type": "raw",
   "metadata": {},
   "source": [
    "Original array- [[ 0. 0. 0. 0. 0.] \n",
    "                 [ 0. 0. 0. 0. 0.] \n",
    "                 [ 0. 0. 0. 0. 0.] \n",
    "                 [ 0. 0. 0. 0. 0.] \n",
    "                 [ 0. 0. 0. 0. 0.]] \n",
    "\n",
    "Row values ranging from 0 to 4. [[ 0. 1. 2. 3. 4.] \n",
    "                                 [ 0. 1. 2. 3. 4.]\n",
    "                                 [ 0. 1. 2. 3. 4.] \n",
    "                                 [ 0. 1. 2. 3. 4.] \n",
    "                                 [ 0. 1. 2. 3. 4.]]"
   ]
  },
  {
   "cell_type": "code",
   "execution_count": null,
   "metadata": {},
   "outputs": [],
   "source": [
    "import numpy as np\n",
    "x=np.zeros((5,5))\n",
    "print(\"Original array: \\n\",x)\n",
    "print(\"Row values ranging from 0 to 4. \")\n",
    "x += np.arange(5)\n",
    "print(x)"
   ]
  },
  {
   "cell_type": "markdown",
   "metadata": {},
   "source": [
    "Q74. Write the NumPy program to create an array of zeros and three column types (integer, float, character)?"
   ]
  },
  {
   "cell_type": "markdown",
   "metadata": {},
   "source": [
    "Expected Output-    \n",
    "[(1, 2., b'Albert Einstein')   \n",
    " (2, 2., b'Edmond Halley')    \n",
    " (3, 3., b'Gertrude B. Elion')]  "
   ]
  },
  {
   "cell_type": "code",
   "execution_count": 140,
   "metadata": {},
   "outputs": [
    {
     "name": "stdout",
     "output_type": "stream",
     "text": [
      "[(0, 0., b'') (0, 0., b'') (0, 0., b'')]\n"
     ]
    }
   ],
   "source": [
    "import numpy as np\n",
    "x=np.zeros((3),dtype=('i4,f4,a40'))\n",
    "new_data=[(1, 2., \"Albert Einstein\"), (2, 2., \"Edmond Halley\"), (3, 3., \"Gertrude B. Elion\")]\n",
    "x[:]=new_data\n",
    "print(x)"
   ]
  },
  {
   "cell_type": "markdown",
   "metadata": {},
   "source": [
    "Q75. Write the NumPy program to remove the negative values in the numpy array with 0?"
   ]
  },
  {
   "cell_type": "raw",
   "metadata": {},
   "source": [
    "Expected Output- \n",
    "Original array: [-1 -4 0 2 3 4 5 -6] \n",
    "Replace the negative values of the said array with 0- [0 0 0 2 3 4 5 0]"
   ]
  },
  {
   "cell_type": "code",
   "execution_count": 161,
   "metadata": {},
   "outputs": [
    {
     "name": "stdout",
     "output_type": "stream",
     "text": [
      "Original array [-1 -4  0  2  3  4  5 -6]\n",
      "Replace the negative values of the said array with 0: \n",
      "[0 0 0 2 3 4 5 0]\n"
     ]
    }
   ],
   "source": [
    "import numpy as np\n",
    "x=np.array([-1,-4, 0, 2, 3, 4, 5, -6])\n",
    "print('Original array',x)\n",
    "print('Replace the negative values of the said array with 0: ')\n",
    "x[x<0]=0\n",
    "print(x)"
   ]
  },
  {
   "cell_type": "markdown",
   "metadata": {},
   "source": [
    "Q76. Write the NumPy program to compute the histogram of a set of data?"
   ]
  },
  {
   "cell_type": "code",
   "execution_count": 172,
   "metadata": {},
   "outputs": [
    {
     "data": {
      "image/png": "[encoded data removed]",
      "text/plain": [
       "<Figure size 432x288 with 1 Axes>"
      ]
     },
     "metadata": {},
     "output_type": "display_data"
    }
   ],
   "source": [
    "import numpy as np\n",
    "import matplotlib.pyplot as plt\n",
    "plt.hist([1,2,1],bins=[0, 1, 2, 3, 5])\n",
    "plt.show()"
   ]
  },
  {
   "cell_type": "markdown",
   "metadata": {},
   "source": [
    "Q77. Write the NumPy program to compute the line graph of a set of data?"
   ]
  },
  {
   "cell_type": "code",
   "execution_count": 177,
   "metadata": {},
   "outputs": [
    {
     "ename": "AttributeError",
     "evalue": "'AxesSubplot' object has no attribute 'show'",
     "output_type": "error",
     "traceback": [
      "\u001b[1;31m---------------------------------------------------------------------------\u001b[0m",
      "\u001b[1;31mAttributeError\u001b[0m                            Traceback (most recent call last)",
      "\u001b[1;32m<ipython-input-177-9f9b126219e1>\u001b[0m in \u001b[0;36m<module>\u001b[1;34m()\u001b[0m\n\u001b[0;32m      5\u001b[0m \u001b[0mafig\u001b[0m\u001b[1;33m,\u001b[0m\u001b[0max\u001b[0m\u001b[1;33m=\u001b[0m\u001b[0mplt\u001b[0m\u001b[1;33m.\u001b[0m\u001b[0msubplots\u001b[0m\u001b[1;33m(\u001b[0m\u001b[1;33m)\u001b[0m\u001b[1;33m\u001b[0m\u001b[0m\n\u001b[0;32m      6\u001b[0m \u001b[0max\u001b[0m\u001b[1;33m.\u001b[0m\u001b[0mplot\u001b[0m\u001b[1;33m(\u001b[0m\u001b[0mx\u001b[0m\u001b[1;33m[\u001b[0m\u001b[1;33m:\u001b[0m\u001b[1;33m-\u001b[0m\u001b[1;36m1\u001b[0m\u001b[1;33m]\u001b[0m\u001b[1;33m,\u001b[0m\u001b[0my\u001b[0m\u001b[1;33m)\u001b[0m\u001b[1;33m\u001b[0m\u001b[0m\n\u001b[1;32m----> 7\u001b[1;33m \u001b[0mfig\u001b[0m\u001b[1;33m.\u001b[0m\u001b[0mshow\u001b[0m\u001b[1;33m(\u001b[0m\u001b[1;33m)\u001b[0m\u001b[1;33m\u001b[0m\u001b[0m\n\u001b[0m",
      "\u001b[1;31mAttributeError\u001b[0m: 'AxesSubplot' object has no attribute 'show'"
     ]
    },
    {
     "data": {
      "image/png": "[encoded data removed]",
      "text/plain": [
       "<Figure size 432x288 with 1 Axes>"
      ]
     },
     "metadata": {},
     "output_type": "display_data"
    }
   ],
   "source": [
    "import numpy as np\n",
    "import matplotlib.pyplot as plt\n",
    "arr=np.random.randint(1,50,10)\n",
    "y,x=np.histogram(arr,bins=np.arange(51))\n",
    "afig,ax=plt.subplots()\n",
    "ax.plot(x[:-1],y)\n",
    "fig.show()"
   ]
  },
  {
   "cell_type": "code",
   "execution_count": 178,
   "metadata": {},
   "outputs": [
    {
     "name": "stderr",
     "output_type": "stream",
     "text": [
      "C:\\Users\\arjun\\Anaconda3\\lib\\site-packages\\matplotlib\\figure.py:459: UserWarning: matplotlib is currently using a non-GUI backend, so cannot show the figure\n",
      "  \"matplotlib is currently using a non-GUI backend, \"\n"
     ]
    },
    {
     "data": {
      "image/png": "[encoded data removed]",
      "text/plain": [
       "<Figure size 432x288 with 1 Axes>"
      ]
     },
     "metadata": {},
     "output_type": "display_data"
    }
   ],
   "source": [
    "import numpy as np \n",
    "import matplotlib.pyplot as plt \n",
    "arr = np.random.randint(1, 50, 10) \n",
    "y, x = np.histogram(arr, bins=np.arange(51)) \n",
    "fig, ax = plt.subplots() \n",
    "ax.plot(x[:-1], y) \n",
    "fig.show()"
   ]
  },
  {
   "cell_type": "markdown",
   "metadata": {},
   "source": [
    "Q78. Write the NumPy program to extracts all the elements from second row from given (4x4) array?"
   ]
  },
  {
   "cell_type": "raw",
   "metadata": {},
   "source": [
    "Sample Output- \n",
    "Original array- [[ 0 1 2 3] \n",
    "                [ 4 5 6 7]\n",
    "                [ 8 9 10 11] \n",
    "                [12 13 14 15]]\n",
    "Extracted data- Second row [4 5 6 7]"
   ]
  },
  {
   "cell_type": "code",
   "execution_count": 8,
   "metadata": {},
   "outputs": [
    {
     "name": "stdout",
     "output_type": "stream",
     "text": [
      "Original array: \n",
      " [[ 0  1  2  3]\n",
      " [ 4  5  6  7]\n",
      " [ 8  9 10 11]\n",
      " [12 13 14 15]]\n",
      "\n",
      "Extracted data: Second row  [4 5 6 7]\n",
      "\n"
     ]
    }
   ],
   "source": [
    "import numpy as np \n",
    "arra_data = np.arange(0,16).reshape((4, 4))\n",
    "print(\"Original array: \\n\" ,arra_data)\n",
    "print(\"\\nExtracted data: Second row \",arra_data[1,:]) \n",
    "print()"
   ]
  },
  {
   "cell_type": "markdown",
   "metadata": {},
   "source": [
    "Q79. Write the NumPy program to extract first element of the second row and fourth element of fourth row from a given (4x4) array?"
   ]
  },
  {
   "cell_type": "raw",
   "metadata": {},
   "source": [
    "Sample Output- Original array- \n",
    "[[ 0 1 2 3] \n",
    " [ 4 5 6 7] \n",
    " [ 8 9 10 11] \n",
    " [12 13 14 15]] \n",
    "Extracted data- First element of the second row and fourth element of fourth row [ 4 15]"
   ]
  },
  {
   "cell_type": "code",
   "execution_count": 52,
   "metadata": {},
   "outputs": [
    {
     "name": "stdout",
     "output_type": "stream",
     "text": [
      "Original array:\n",
      "[[ 0  1  2  3]\n",
      " [ 4  5  6  7]\n",
      " [ 8  9 10 11]\n",
      " [12 13 14 15]]\n",
      "\n",
      "Extracted data: First element of the second row and fourth element of fourth row \n",
      "[ 4 15]\n"
     ]
    }
   ],
   "source": [
    "import numpy as np \n",
    "arra_data = np.arange(0,16).reshape((4, 4))\n",
    "print(\"Original array:\") \n",
    "print(arra_data)\n",
    "print(\"\\nExtracted data: First element of the second row and fourth element of fourth row \") \n",
    "print(arra_data[[1,3], [0,3]])"
   ]
  },
  {
   "cell_type": "markdown",
   "metadata": {},
   "source": [
    "Q80. Write the NumPy program to add two arrays A and B of sizes (3,3) and (,3)?"
   ]
  },
  {
   "cell_type": "raw",
   "metadata": {},
   "source": [
    "Sample Output- Original array- Array-1 [[1 1 1] \n",
    "                                        [1 1 1] \n",
    "                                        [1 1 1]] \n",
    "                               Array-2 [0 1 2] \n",
    "                               A + B: [[1 2 3] \n",
    "                                       [1 2 3] \n",
    "                                       [1 2 3]]"
   ]
  },
  {
   "cell_type": "code",
   "execution_count": 68,
   "metadata": {},
   "outputs": [
    {
     "name": "stdout",
     "output_type": "stream",
     "text": [
      "Original array:\n",
      "Array-1  [[1. 1. 1.]\n",
      " [1. 1. 1.]\n",
      " [1. 1. 1.]]\n",
      "Array-2  [0 1 2]\n",
      "A + B:\n",
      "[[1. 2. 3.]\n",
      " [1. 2. 3.]\n",
      " [1. 2. 3.]]\n"
     ]
    }
   ],
   "source": [
    "import numpy as np \n",
    "A = np.ones((3,3)) \n",
    "B = np.arange(3)\n",
    "print(\"Original array:\")\n",
    "print(\"Array-1 \",A) \n",
    "print(\"Array-2 \",B) \n",
    "print(\"A + B:\") \n",
    "new_array = A + B \n",
    "print(new_array)"
   ]
  },
  {
   "cell_type": "raw",
   "metadata": {},
   "source": [
    "Q81. Write the NumPy program to copy data from a given array to another array?"
   ]
  },
  {
   "cell_type": "raw",
   "metadata": {},
   "source": [
    "Sample Output- Original array- [24 27 30 29 18 14] \n",
    "        Copy of the said array- [24 27 30 29 18 14]"
   ]
  },
  {
   "cell_type": "code",
   "execution_count": 76,
   "metadata": {},
   "outputs": [
    {
     "name": "stdout",
     "output_type": "stream",
     "text": [
      "Original array:  [24, 27, 30, 29, 18, 14]\n",
      "\n",
      "Copy of the said array:  [24, 27, 30, 29, 18, 14]\n"
     ]
    }
   ],
   "source": [
    "import numpy as np\n",
    "x=[24, 27, 30, 29, 18, 14] \n",
    "print(\"Original array: \",x) \n",
    "z=x.copy()\n",
    "print(\"\\nCopy of the said array: \",z) "
   ]
  },
  {
   "cell_type": "raw",
   "metadata": {},
   "source": [
    "Q82. Write the NumPy program to calculate the sum of all columns of the 2D numpy array?"
   ]
  },
  {
   "cell_type": "raw",
   "metadata": {},
   "source": [
    "Sample Output- Original array- [[ 0 1 2 3 4 5 6 7 8] \n",
    "                                [ 9 10 11 12 13 14 15 16 17]\n",
    "                                [18 19 20 21 22 23 24 25 26] \n",
    "                                [27 28 29 30 31 32 33 34 35]] \n",
    "            Sum of all columns- [54 58 62 66 70 74 78 82 86]"
   ]
  },
  {
   "cell_type": "code",
   "execution_count": 91,
   "metadata": {},
   "outputs": [
    {
     "name": "stdout",
     "output_type": "stream",
     "text": [
      "Original array: \n",
      " [[ 0  1  2  3  4  5  6  7  8]\n",
      " [ 9 10 11 12 13 14 15 16 17]\n",
      " [18 19 20 21 22 23 24 25 26]\n",
      " [27 28 29 30 31 32 33 34 35]]\n",
      "\n",
      "Sum of all columns:  [54 58 62 66 70 74 78 82 86]\n"
     ]
    }
   ],
   "source": [
    "import numpy as np \n",
    "num = np.arange(36) \n",
    "arr1 = np.reshape(num, [4, 9]) \n",
    "print(\"Original array: \\n\",arr1) \n",
    "result = arr1.sum(axis=0) \n",
    "print(\"\\nSum of all columns: \",result) "
   ]
  },
  {
   "cell_type": "markdown",
   "metadata": {},
   "source": [
    "Q83. Write the NumPy program to calculate averages without NaNs along the given array?"
   ]
  },
  {
   "cell_type": "raw",
   "metadata": {},
   "source": [
    "Sample Output- \n",
    "Original array- [[10. 20. 30.] \n",
    "                 [40. 50. nan] \n",
    "                 [nan 6. nan]\n",
    "                 [nan nan nan]]\n",
    "Averages without NaNs along the said array- [20. 45. 6. nan]"
   ]
  },
  {
   "cell_type": "code",
   "execution_count": 98,
   "metadata": {},
   "outputs": [
    {
     "name": "stdout",
     "output_type": "stream",
     "text": [
      "Original array: \n",
      " [[10. 20. 30.]\n",
      " [40. 50. nan]\n",
      " [nan  6. nan]\n",
      " [nan nan nan]]\n",
      "Averages without NaNs along the said array:\n",
      "[20. 45.  6. nan]\n"
     ]
    }
   ],
   "source": [
    "import numpy as np\n",
    "arr1=np.array([[10, 20 ,30], [40, 50, np.nan], [np.nan, 6, np.nan], [np.nan, np.nan, np.nan]])\n",
    "print(\"Original array: \\n\",arr1)\n",
    "temp = np.ma.masked_array(arr1,np.isnan(arr1)) \n",
    "result = np.mean(temp, axis=1)\n",
    "print(\"Averages without NaNs along the said array:\") \n",
    "print(result.filled(np.nan))"
   ]
  },
  {
   "cell_type": "markdown",
   "metadata": {},
   "source": [
    "Q84. Create two arrays of six elements. Write the NumPy program to count the number of instances of a value occurring in one array on the condition of another array."
   ]
  },
  {
   "cell_type": "raw",
   "metadata": {},
   "source": [
    "Sample Output- \n",
    "Original arrays- [ 10 -10 10 -10 -10 10] \n",
    "                 [0.85 0.45 0.9 0.8 0.12 0.6 ] \n",
    "Number of instances of a value occurring in one array on the condition of another array: 3"
   ]
  },
  {
   "cell_type": "code",
   "execution_count": 101,
   "metadata": {},
   "outputs": [
    {
     "name": "stdout",
     "output_type": "stream",
     "text": [
      "Original arrays:\n",
      "[ 10 -10  10 -10 -10  10]\n",
      "[0.85 0.45 0.9  0.8  0.12 0.6 ]\n",
      "\n",
      "Number of instances of a value occurring in one aray on the condition of another array:\n",
      "3\n"
     ]
    }
   ],
   "source": [
    "import numpy as np\n",
    "x = np.array([10,-10,10,-10,-10,10]) \n",
    "y = np.array([.85,.45,.9,.8,.12,.6]) \n",
    "print(\"Original arrays:\") \n",
    "print(x)\n",
    "print(y) \n",
    "result = np.sum((x == 10) & (y > .5)) \n",
    "print(\"\\nNumber of instances of a value occurring in one aray on the condition of another array:\") \n",
    "print(result)"
   ]
  },
  {
   "cell_type": "markdown",
   "metadata": {},
   "source": [
    "Q85. Write the NumPy program to convert a Python dictionary to a Numpy ndarray ?"
   ]
  },
  {
   "cell_type": "raw",
   "metadata": {},
   "source": [
    "Original dictionary- {'column0': {'a': 1, 'b': 0.0, 'c': 0.0, 'd': 2.0}, \n",
    "                      'column1': {'a': 3.0, 'b': 1, 'c': 0.0, 'd': -1.0}, \n",
    "                      'column2': {'a': 4, 'b': 1, 'c': 5.0, 'd': -1.0}, \n",
    "                      'column3': {'a': 3.0, 'b': -1.0, 'c': -1.0, 'd': -1.0}} Type: <class 'dict'> \n",
    "                     ndarray- [[ 1. 0. 0. 2.] \n",
    "                               [ 3. 1. 0. -1.] \n",
    "                               [ 4. 1. 5. -1.] \n",
    "                               [ 3. -1. -1. -1.]] Type: <class 'numpy.ndarray'>"
   ]
  },
  {
   "cell_type": "code",
   "execution_count": 114,
   "metadata": {},
   "outputs": [
    {
     "name": "stdout",
     "output_type": "stream",
     "text": [
      "\n",
      "Original dictionary: \n",
      " {'column0': {'a': 1, 'b': 0.0, 'c': 0.0, 'd': 2.0}, 'column1': {'a': 3.0, 'b': 1, 'c': 0.0, 'd': -1.0}, 'column2': {'a': 4, 'b': 1, 'c': 5.0, 'd': -1.0}, 'column3': {'a': 3.0, 'b': -1.0, 'c': -1.0, 'd': -1.0}}\n",
      "Type:  <class 'dict'>\n",
      "\n",
      "ndarray: \n",
      " [[ 1.  0.  0.  2.]\n",
      " [ 3.  1.  0. -1.]\n",
      " [ 4.  1.  5. -1.]\n",
      " [ 3. -1. -1. -1.]]\n",
      "Type: \n",
      " <class 'numpy.ndarray'>\n"
     ]
    }
   ],
   "source": [
    "import numpy as np\n",
    "from ast import literal_eval\n",
    "udict = \"\"\"{\"column0\":{\"a\":1,\"b\":0.0,\"c\":0.0,\"d\":2.0},\n",
    "   \"column1\":{\"a\":3.0,\"b\":1,\"c\":0.0,\"d\":-1.0},\n",
    "   \"column2\":{\"a\":4,\"b\":1,\"c\":5.0,\"d\":-1.0},\n",
    "   \"column3\":{\"a\":3.0,\"b\":-1.0,\"c\":-1.0,\"d\":-1.0}\n",
    "  }\"\"\"\n",
    "t = literal_eval(udict)\n",
    "print(\"\\nOriginal dictionary: \\n\",t)\n",
    "print(\"Type: \",type(t))\n",
    "result_nparra = np.array([[v[j] for j in ['a', 'b', 'c', 'd']] for k, v in t.items()])\n",
    "print(\"\\nndarray: \\n\",result_nparra)\n",
    "print(\"Type: \\n\",type(result_nparra))"
   ]
  },
  {
   "cell_type": "markdown",
   "metadata": {},
   "source": [
    "Q86. Write the Numpy program to find and store the non-zero unique rows in an array after comparing each row with other row in the given matrix?"
   ]
  },
  {
   "cell_type": "raw",
   "metadata": {},
   "source": [
    "Original array- [[ 1 1 0]\n",
    "                 [ 0 0 0]\n",
    "                 [ 0 2 3] \n",
    "                 [ 0 0 0] \n",
    "                 [ 0 -1 1] \n",
    "                 [ 0 0 0]] \n",
    "Non-zero unique rows- [[ 1 1 0] [ 0 2 3] [ 0 -1 1]]"
   ]
  },
  {
   "cell_type": "code",
   "execution_count": 118,
   "metadata": {},
   "outputs": [
    {
     "name": "stdout",
     "output_type": "stream",
     "text": [
      "Original array: \n",
      " [[ 1  1  0]\n",
      " [ 0  0  0]\n",
      " [ 0  2  3]\n",
      " [ 0  0  0]\n",
      " [ 0 -1  1]\n",
      " [ 0  0  0]]\n",
      "\n",
      "Non-zero unique rows: \n",
      " [[ 1  1  0]\n",
      " [ 0  2  3]\n",
      " [ 0 -1  1]]\n"
     ]
    }
   ],
   "source": [
    "import numpy as np\n",
    "arra = np.array([[ 1, 1, 0], [ 0, 0, 0], [ 0, 2, 3], [ 0, 0, 0], [ 0, -1, 1], [ 0, 0, 0]])\n",
    "print(\"Original array: \\n\",arra)\n",
    "temp={(0,0,0)}\n",
    "result=[]\n",
    "for idx,row in enumerate(map(tuple,arra)):\n",
    "    if row not in temp:\n",
    "        result.append(idx)\n",
    "print('\\nNon-zero unique rows: \\n',arra[result])\n",
    "    \n",
    "        "
   ]
  },
  {
   "cell_type": "markdown",
   "metadata": {},
   "source": [
    "Q87. Write the NumPy program to multiply the matrix by another matrix of complex numbers and create a new matrix of complex numbers?"
   ]
  },
  {
   "cell_type": "raw",
   "metadata": {},
   "source": [
    "Sample output- First array- [ 1.+2.j 3.+4.j] \n",
    "               Second array- [ 5.+6.j 7.+8.j] \n",
    "Product of above two arrays- (70-8j)"
   ]
  },
  {
   "cell_type": "code",
   "execution_count": 125,
   "metadata": {},
   "outputs": [
    {
     "name": "stdout",
     "output_type": "stream",
     "text": [
      "First array-  [1.+2.j 3.+4.j]\n",
      "Second array-  [5.+6.j 7.+8.j]\n",
      "Product of above two arrays-  (70-8j)\n"
     ]
    }
   ],
   "source": [
    "import numpy as np\n",
    "x=np.array([ 1.+2.j , 3.+4.j])\n",
    "y=np.array([ 5.+6.j , 7.+8.j])\n",
    "print('First array- ',x)\n",
    "print('Second array- ',y)\n",
    "z=np.vdot(x,y)\n",
    "print('Product of above two arrays- ',z)"
   ]
  },
  {
   "cell_type": "markdown",
   "metadata": {},
   "source": [
    "Q88. Write a NumPy program to generate the matrix product of two Arrays?"
   ]
  },
  {
   "cell_type": "raw",
   "metadata": {},
   "source": [
    "Sample Output- \n",
    "Matrices and vectors. x- [[1, 0], [1, 1]] \n",
    "                      y- [[3, 1], [2, 2]]\n",
    "Matrix product of above two arrays- [[3 1] \n",
    "                                     [5 3]]"
   ]
  },
  {
   "cell_type": "code",
   "execution_count": 135,
   "metadata": {},
   "outputs": [
    {
     "name": "stdout",
     "output_type": "stream",
     "text": [
      "Matrices and vectors.\n",
      " [[1 0]\n",
      " [1 1]]\n",
      "[[3 1]\n",
      " [2 2]]\n",
      "Matrix product of above two arrays-\n",
      " [[3 1]\n",
      " [5 3]]\n"
     ]
    }
   ],
   "source": [
    "import numpy as np\n",
    "x=np.array([[1, 0], [1, 1]])\n",
    "y=np.array([[3, 1], [2, 2]])\n",
    "print(\"Matrices and vectors.\\n\",x)\n",
    "print(y)\n",
    "z=np.matmul(x,y)\n",
    "print('Matrix product of above two arrays-\\n',z)"
   ]
  },
  {
   "cell_type": "markdown",
   "metadata": {},
   "source": [
    "Q89. Write the NumPy program to find roots of the following Polynomials?"
   ]
  },
  {
   "cell_type": "raw",
   "metadata": {},
   "source": [
    "a) (x2 - 4x + 7) \n",
    "b) x4 - 11x3 + 9x2 + 11x ? 10 \n",
    "Sample output-\n",
    "Roots of the first polynomial- [ 1. 1.] \n",
    "Roots of the second polynomial- [ 11.04461946+0.j -0.87114210+0.j 0.91326132+0.4531004j 0.91326132-0.4531004j ]"
   ]
  },
  {
   "cell_type": "code",
   "execution_count": 136,
   "metadata": {},
   "outputs": [
    {
     "name": "stdout",
     "output_type": "stream",
     "text": [
      "Roots of the first polynomial:\n",
      "[1. 1.]\n",
      "Roots of the second polynomial:\n",
      "[11.04461946+0.j        -0.8711421 +0.j         0.91326132+0.4531004j\n",
      "  0.91326132-0.4531004j]\n"
     ]
    }
   ],
   "source": [
    "import numpy as np \n",
    "print(\"Roots of the first polynomial:\") \n",
    "print(np.roots([1, -2, 1])) \n",
    "print(\"Roots of the second polynomial:\")\n",
    "print(np.roots([1, -12, 10, 7, -10]))"
   ]
  },
  {
   "cell_type": "markdown",
   "metadata": {},
   "source": [
    "Q90. Write the NumPy program to calculate inverse of sine, cosine, and inverse tangent for all elements in a given array?"
   ]
  },
  {
   "cell_type": "raw",
   "metadata": {},
   "source": [
    "Sample output- \n",
    "Inverse sine- [-1.57079633 0. 1.57079633] \n",
    "Inverse cosine- [3.14159265 1.57079633 0. ]\n",
    "Inverse tangent- [-0.78539816 0. 0.78539816]"
   ]
  },
  {
   "cell_type": "code",
   "execution_count": 137,
   "metadata": {},
   "outputs": [
    {
     "name": "stdout",
     "output_type": "stream",
     "text": [
      "Inverse sine: [-1.57079633  0.          1.57079633]\n",
      "Inverse cosine: [3.14159265 1.57079633 0.        ]\n",
      "Inverse tangent: [-0.78539816  0.          0.78539816]\n"
     ]
    }
   ],
   "source": [
    "import numpy as np \n",
    "x = np.array([-1., 0, 1.]) \n",
    "print(\"Inverse sine:\", np.arcsin(x)) \n",
    "print(\"Inverse cosine:\", np.arccos(x)) \n",
    "print(\"Inverse tangent:\", np.arctan(x))"
   ]
  },
  {
   "cell_type": "markdown",
   "metadata": {},
   "source": [
    "Q91. Write the NumPy program to calculate the difference between in neighbouring elements, element-wise of a given array?"
   ]
  },
  {
   "cell_type": "raw",
   "metadata": {},
   "source": [
    "Sample output- \n",
    "Original array- [1 3 5 7 0] \n",
    "Difference between neighbouring elements, element-wise of the said array- [ 2 2 2 -7]"
   ]
  },
  {
   "cell_type": "code",
   "execution_count": 146,
   "metadata": {},
   "outputs": [
    {
     "name": "stdout",
     "output_type": "stream",
     "text": [
      "Original array:  [1 3 5 7 0]\n",
      "Difference between neighboring elements, element-wise of the said array. [ 2  2  2 -7]\n"
     ]
    }
   ],
   "source": [
    "import numpy as np \n",
    "x = np.array([1, 3, 5, 7, 0])\n",
    "print(\"Original array: \",x)\n",
    "print(\"Difference between neighboring elements, element-wise of the said array.\" ,np.diff(x))"
   ]
  },
  {
   "cell_type": "markdown",
   "metadata": {},
   "source": [
    "Q92. Write the Python program to find the maximum and the minimum value of a given flattened array?"
   ]
  },
  {
   "cell_type": "raw",
   "metadata": {},
   "source": [
    "Expected Output- \n",
    "Original flattened array- [[0 1] [2 3]] \n",
    "Maximum value of the above flattened array- 3 \n",
    "Minimum value of the above flattened array- 0"
   ]
  },
  {
   "cell_type": "code",
   "execution_count": 153,
   "metadata": {},
   "outputs": [
    {
     "name": "stdout",
     "output_type": "stream",
     "text": [
      "Original flattened array: \n",
      " [[0 1]\n",
      " [2 3]]\n",
      "Maximum value of the above flattened array:  3\n",
      "Minimum value of the above flattened array:  0\n"
     ]
    }
   ],
   "source": [
    "import numpy as np \n",
    "a = np.arange(4).reshape((2,2)) \n",
    "print(\"Original flattened array: \\n\",a) \n",
    "print(\"Maximum value of the above flattened array: \",np.amax(a)) \n",
    "print(\"Minimum value of the above flattened array: \",np.amin(a))"
   ]
  },
  {
   "cell_type": "markdown",
   "metadata": {},
   "source": [
    "Q93. Write the NumPy program to calculate the difference between in the maximum and the minimum values of a given array along the second axis ?"
   ]
  },
  {
   "cell_type": "code",
   "execution_count": null,
   "metadata": {},
   "outputs": [],
   "source": [
    "Expected Output- \n",
    "Original array- [[ 0 1 2 3 4 5] \n",
    "                [ 6 7 8 9 10 11]]\n",
    "Difference between the maximum and the minimum values of the said array- [5 5]"
   ]
  },
  {
   "cell_type": "code",
   "execution_count": 161,
   "metadata": {},
   "outputs": [
    {
     "name": "stdout",
     "output_type": "stream",
     "text": [
      "\n",
      "Original array: \n",
      " [[ 0  1  2  3  4  5]\n",
      " [ 6  7  8  9 10 11]]\n",
      "\n",
      "Difference between the maximum and the minimum values of the said array:-  [5 5]\n"
     ]
    }
   ],
   "source": [
    "import numpy as np \n",
    "x = np.arange(12).reshape((2, 6))\n",
    "print(\"\\nOriginal array: \\n\",x) \n",
    "r1 = np.ptp(x, 1) \n",
    "r2 = np.amax(x, 1) - np.amin(x, 1) \n",
    "assert np.allclose(r1, r2)\n",
    "print(\"\\nDifference between the maximum and the minimum values of the said array:- \",r1) "
   ]
  },
  {
   "cell_type": "markdown",
   "metadata": {},
   "source": [
    "Q94. Write the NumPy program to compute the weighted of the given array ?"
   ]
  },
  {
   "cell_type": "raw",
   "metadata": {},
   "source": [
    "Sample Output- \n",
    "Original array- [0 1 2 3 4] \n",
    "Weighted average of the said array- 2.6666666666666665"
   ]
  },
  {
   "cell_type": "code",
   "execution_count": 170,
   "metadata": {},
   "outputs": [
    {
     "name": "stdout",
     "output_type": "stream",
     "text": [
      "\n",
      "Original array: \n",
      " [0 1 2 3 4]\n",
      "\n",
      "Weighted average of the said array:  2.6666666666666665\n"
     ]
    }
   ],
   "source": [
    "import numpy as np \n",
    "x = np.arange(5)\n",
    "print(\"\\nOriginal array: \\n\",x)\n",
    "weights = np.arange(1, 6) \n",
    "r1 = np.average(x, weights=weights) \n",
    "r2 = (x*(weights/weights.sum())).sum()\n",
    "assert np.allclose(r1, r2)\n",
    "print(\"\\nWeighted average of the said array: \",r1)"
   ]
  },
  {
   "cell_type": "markdown",
   "metadata": {},
   "source": [
    "Q95. Write the NumPy program to compute the mean, standard deviation, and the variance of a given array along the second axis?"
   ]
  },
  {
   "cell_type": "raw",
   "metadata": {},
   "source": [
    "Sample output- Original array- [0 1 2 3 4 5] \n",
    "                        Mean- 2.5 \n",
    "                        std- 1 \n",
    "                        variance- 2.9166666666666665"
   ]
  },
  {
   "cell_type": "code",
   "execution_count": 178,
   "metadata": {},
   "outputs": [
    {
     "name": "stdout",
     "output_type": "stream",
     "text": [
      "\n",
      "Original array :  [0 1 2 3 4 5]\n",
      "\n",
      "Mean:  2.5\n",
      "\n",
      "std:  1\n",
      "\n",
      "variance:  2.9166666666666665\n"
     ]
    }
   ],
   "source": [
    "import numpy as np \n",
    "x = np.arange(6)\n",
    "print(\"\\nOriginal array : \",x) \n",
    "r1 = np.mean(x) \n",
    "r2 = np.average(x)\n",
    "assert np.allclose(r1, r2) \n",
    "print(\"\\nMean: \", r1) \n",
    "r1 = np.std(x) \n",
    "r2 = np.sqrt(np.mean((x - np.mean(x)) ** 2 )) \n",
    "assert np.allclose(r1, r2) \n",
    "print(\"\\nstd: \", 1) \n",
    "r1= np.var(x) \n",
    "r2 = np.mean((x - np.mean(x)) ** 2 ) \n",
    "assert np.allclose(r1, r2) \n",
    "print(\"\\nvariance: \", r1)"
   ]
  },
  {
   "cell_type": "raw",
   "metadata": {},
   "source": [
    "Q96. Write the Numpy program to compute the covariance matrix of the two given arrays?"
   ]
  },
  {
   "cell_type": "raw",
   "metadata": {},
   "source": [
    "Sample Output- Original array1- [0 1 2] \n",
    "                Original array1- [2 1 0] \n",
    "Covariance matrix of the said arrays- [[ 1. -1.]\n",
    "                                       [-1. 1.]]"
   ]
  },
  {
   "cell_type": "code",
   "execution_count": 183,
   "metadata": {},
   "outputs": [
    {
     "name": "stdout",
     "output_type": "stream",
     "text": [
      "\n",
      "Original array1:  [0 1 2]\n",
      "\n",
      "Original array1:  [2 1 0]\n",
      "\n",
      "Covariance matrix of the said arrays:\n",
      " [[ 1. -1.]\n",
      " [-1.  1.]]\n"
     ]
    }
   ],
   "source": [
    "import numpy as np\n",
    "x = np.array([0, 1, 2]) \n",
    "y = np.array([2, 1, 0]) \n",
    "print(\"\\nOriginal array1: \",x) \n",
    "print(\"\\nOriginal array1: \",y)\n",
    "print(\"\\nCovariance matrix of the said arrays:\\n\",np.cov(x, y))"
   ]
  },
  {
   "cell_type": "markdown",
   "metadata": {},
   "source": [
    "Q97. Write a NumPy program to compute the cross-correlation of two given arrays ?"
   ]
  },
  {
   "cell_type": "raw",
   "metadata": {},
   "source": [
    "Sample Output-     Original array1-[0 1 3] \n",
    "                  Original array1- [2 4 5] \n",
    "Cross-correlation of the said arrays- [ [ 2.33333333 2.16666667 ] \n",
    "                                        [ 2.16666667 2.33333333 ] ]"
   ]
  },
  {
   "cell_type": "code",
   "execution_count": 184,
   "metadata": {},
   "outputs": [
    {
     "name": "stdout",
     "output_type": "stream",
     "text": [
      "\n",
      "Original array1:  [0 1 3]\n",
      "\n",
      "Original array1:  [2 4 5]\n",
      "\n",
      "Cross-correlation of the said arrays:\n",
      " [[2.33333333 2.16666667]\n",
      " [2.16666667 2.33333333]]\n"
     ]
    }
   ],
   "source": [
    "import numpy as np \n",
    "x = np.array([0, 1, 3]) \n",
    "y = np.array([2, 4, 5])\n",
    "print(\"\\nOriginal array1: \",x)\n",
    "print(\"\\nOriginal array1: \",y) \n",
    "print(\"\\nCross-correlation of the said arrays:\\n\",np.cov(x, y))"
   ]
  },
  {
   "cell_type": "raw",
   "metadata": {},
   "source": [
    "Q98. Write the NumPy program to compute Pearson product-moment correlation coefficients of two given arrays?"
   ]
  },
  {
   "cell_type": "raw",
   "metadata": {},
   "source": [
    "Sample Output- Original array1- [0 1 3] \n",
    "              Original array1- [2 4 5] \n",
    "Pearson product-moment correlation coefficients of the said arrays- [[1.          0.92857143] \n",
    "                                                                     [0.92857143  1. ]]"
   ]
  },
  {
   "cell_type": "code",
   "execution_count": 192,
   "metadata": {},
   "outputs": [
    {
     "name": "stdout",
     "output_type": "stream",
     "text": [
      "\n",
      "Original array1:  [0 1 3]\n",
      "\n",
      "Original array1:  [2 4 5]\n",
      "\n",
      "Pearson product-moment correlation coefficients of the said arrays:\n",
      " [[1.         0.92857143]\n",
      " [0.92857143 1.        ]]\n"
     ]
    }
   ],
   "source": [
    "import numpy as np\n",
    "x=np.array([0,1,3])\n",
    "y=np.array([2,4,5])\n",
    "print(\"\\nOriginal array1: \",x)\n",
    "print(\"\\nOriginal array1: \",y)\n",
    "print(\"\\nPearson product-moment correlation coefficients of the said arrays:\\n\",np.corrcoef(x, y))"
   ]
  },
  {
   "cell_type": "markdown",
   "metadata": {},
   "source": [
    "Q99. Write the python program to count the number of occurrences of each value in a given array of non-negative integers?"
   ]
  },
  {
   "cell_type": "markdown",
   "metadata": {},
   "source": [
    "Note: bincount() Function- It count the occurrence of each value in an array of the non- negative integers in the range of the array between the minimum and maximum values including the values that did not occur."
   ]
  },
  {
   "cell_type": "markdown",
   "metadata": {},
   "source": [
    "Sample Output- Original array- [0, 1, 6, 1, 4, 1, 2, 2, 7]    \n",
    "Number of occurrences of each value in array- [1 3 2 0 1 0 1 1]   "
   ]
  },
  {
   "cell_type": "code",
   "execution_count": 201,
   "metadata": {},
   "outputs": [
    {
     "name": "stdout",
     "output_type": "stream",
     "text": [
      "Original array:  [0, 1, 6, 1, 4, 1, 2, 2, 7]\n",
      "Number of occurrences of each value in array:  [1 3 2 0 1 0 1 1]\n"
     ]
    }
   ],
   "source": [
    "import numpy as np \n",
    "array1 = [0, 1, 6, 1, 4, 1, 2, 2, 7] \n",
    "print(\"Original array: \",array1) \n",
    "print(\"Number of occurrences of each value in array: \",np.bincount(array1))"
   ]
  },
  {
   "cell_type": "markdown",
   "metadata": {},
   "source": [
    "Q100. Write a Numpy program to compute the histogram of nums against the bins?"
   ]
  },
  {
   "cell_type": "markdown",
   "metadata": {},
   "source": [
    "Sample Output- nums- [0.5 0.7 1. 1.2 1.3 2.1]        \n",
    "               bins- [0 1 2 3]   \n",
    "               Result- (array([2, 3, 1], dtype=int64), array([0, 1, 2, 3]))"
   ]
  },
  {
   "cell_type": "code",
   "execution_count": 207,
   "metadata": {},
   "outputs": [
    {
     "name": "stdout",
     "output_type": "stream",
     "text": [
      "nums:  [0.5 0.7 1.  1.2 1.3 2.1]\n",
      "bins:  [0 1 2 3]\n",
      "Result: (array([2, 3, 1], dtype=int64), array([0, 1, 2, 3]))\n"
     ]
    },
    {
     "data": {
      "image/png": "[encoded data removed]",
      "text/plain": [
       "<Figure size 432x288 with 1 Axes>"
      ]
     },
     "metadata": {},
     "output_type": "display_data"
    }
   ],
   "source": [
    "import numpy as np\n",
    "import matplotlib.pyplot as plt\n",
    "nums=np.array([0.5, 0.7, 1., 1.2, 1.3, 2.1])\n",
    "bins=np.array([0,1,2,3])\n",
    "print('nums: ',nums)\n",
    "print(\"bins: \",bins)\n",
    "print(\"Result:\", np.histogram(nums, bins))\n",
    "plt.hist(nums, bins=bins) \n",
    "plt.show()"
   ]
  },
  {
   "cell_type": "markdown",
   "metadata": {},
   "source": [
    "Q101. Write the Python program to add, subtract, multiply and divide two pandas series ?"
   ]
  },
  {
   "cell_type": "markdown",
   "metadata": {},
   "source": [
    "Sample Series- [2, 4, 6, 8, 10], [1, 3, 5, 7, 9]"
   ]
  },
  {
   "cell_type": "code",
   "execution_count": 213,
   "metadata": {},
   "outputs": [
    {
     "name": "stdout",
     "output_type": "stream",
     "text": [
      "Add two Series: \n",
      " 0     3\n",
      "1     7\n",
      "2    11\n",
      "3    15\n",
      "4    19\n",
      "dtype: int64\n",
      "Subtract two Series: \n",
      " 0    1\n",
      "1    1\n",
      "2    1\n",
      "3    1\n",
      "4    1\n",
      "dtype: int64\n",
      "Multiply two Series: \n",
      " 0     2\n",
      "1    12\n",
      "2    30\n",
      "3    56\n",
      "4    90\n",
      "dtype: int64\n",
      "Divide Series1 by Series2: \n",
      " 0    2.000000\n",
      "1    1.333333\n",
      "2    1.200000\n",
      "3    1.142857\n",
      "4    1.111111\n",
      "dtype: float64\n"
     ]
    }
   ],
   "source": [
    "import pandas as pd\n",
    "ds1=pd.Series([2, 4, 6, 8, 10])\n",
    "ds2=pd.Series([1, 3, 5, 7, 9])\n",
    "i=ds1+ds2\n",
    "j=ds1-ds2\n",
    "k=ds1*ds2\n",
    "l=ds1/ds2\n",
    "print(\"Add two Series: \\n\" , i)\n",
    "print(\"Subtract two Series: \\n\",j) \n",
    "print(\"Multiply two Series: \\n\",k) \n",
    "print(\"Divide Series1 by Series2: \\n\",l)"
   ]
  },
  {
   "cell_type": "markdown",
   "metadata": {},
   "source": [
    "Q102. Write a Python program to convert a dictionary to the Pandas Series?"
   ]
  },
  {
   "cell_type": "raw",
   "metadata": {},
   "source": [
    "Sample Series- \n",
    "Original dictionary- {'a': 100, 'b': 200, 'c': 300, 'd': 400, 'e': 800} \n",
    "Converted series - a 100\n",
    "                   b 200 \n",
    "                   c 300 \n",
    "                   d 400\n",
    "                   e 800\n",
    "                   dtype- int64"
   ]
  },
  {
   "cell_type": "code",
   "execution_count": 221,
   "metadata": {},
   "outputs": [
    {
     "name": "stdout",
     "output_type": "stream",
     "text": [
      "Original dictionary:  {'a': 100, 'b': 200, 'c': 300, 'd': 400, 'e': 800}\n",
      "Converted series: \n",
      " a    100\n",
      "b    200\n",
      "c    300\n",
      "d    400\n",
      "e    800\n",
      "dtype: int64\n"
     ]
    }
   ],
   "source": [
    "import pandas as pd\n",
    "d1 = {'a': 100, 'b': 200, 'c':300, 'd':400, 'e':800}\n",
    "print(\"Original dictionary: \" ,d1) \n",
    "print(\"Converted series: \\n\",pd.Series(d1))"
   ]
  },
  {
   "cell_type": "markdown",
   "metadata": {},
   "source": [
    "Q103. Write a python program to change the data type of given a column or a Series?"
   ]
  },
  {
   "cell_type": "raw",
   "metadata": {},
   "source": [
    "Sample Series- Original Data Series- \n",
    "                      0 100 \n",
    "                      1 200 \n",
    "                      2 python \n",
    "                      3 300.12 \n",
    "                      4 400 dtype- object \n",
    "Change the said data type to numeric-  0 100.00 \n",
    "                                       1 200.00 \n",
    "                                       2 NaN \n",
    "                                       3 300.12 \n",
    "                                       4 400.00 dtype- float64"
   ]
  },
  {
   "cell_type": "code",
   "execution_count": 230,
   "metadata": {},
   "outputs": [
    {
     "name": "stdout",
     "output_type": "stream",
     "text": [
      "Original Data Series: \n",
      " 0       100\n",
      "1       200\n",
      "2    python\n",
      "3    300.12\n",
      "4       400\n",
      "dtype: object\n",
      "Change the said data type to numeric:\n",
      "0    100.00\n",
      "1    200.00\n",
      "2       NaN\n",
      "3    300.12\n",
      "4    400.00\n",
      "dtype: float64\n"
     ]
    }
   ],
   "source": [
    "import pandas as pd\n",
    "s1=pd.Series(['100', '200', 'python', '300.12', '400'])\n",
    "print(\"Original Data Series: \\n\" ,s1)\n",
    "print(\"Change the said data type to numeric:\") \n",
    "s2 = pd.to_numeric(s1, errors='coerce') \n",
    "print(s2)"
   ]
  },
  {
   "cell_type": "markdown",
   "metadata": {},
   "source": [
    "Q104. Write the python pandas program to convert the first column of a DataFrame as a Series?"
   ]
  },
  {
   "cell_type": "raw",
   "metadata": {},
   "source": [
    " Sample Output- Original DataFrame- col1 col2 col3 \n",
    "                                    0 1  4  7 \n",
    "                                    1 2  5  5 \n",
    "                                    2 3  6  8 \n",
    "                                    3 4  9  12 \n",
    "                                    4 7  5  1 \n",
    "                                    5 11 0  11 \n",
    "            1st column as a Series- 0 1 \n",
    "                                    1 2 \n",
    "                                    2 3 \n",
    "                                    3 4 \n",
    "                                    4 7 \n",
    "                                    5 11 Name- col1, dtype- int64 <class 'pandas.core.series.Series'>"
   ]
  },
  {
   "cell_type": "code",
   "execution_count": 247,
   "metadata": {},
   "outputs": [
    {
     "name": "stdout",
     "output_type": "stream",
     "text": [
      "Original DataFrame\n",
      "     col1  col2  col3\n",
      "0     1     4     7\n",
      "1     2     5     5\n",
      "2     3     6     8\n",
      "3     4     9    12\n",
      "4     7     5     1\n",
      "5    11     0    11\n",
      "\n",
      "1st column as a Series:  \n",
      " 0     1\n",
      "1     2\n",
      "2     3\n",
      "3     4\n",
      "4     7\n",
      "5    11\n",
      "Name: col1, dtype: int64\n",
      "<class 'pandas.core.series.Series'>\n"
     ]
    },
    {
     "name": "stderr",
     "output_type": "stream",
     "text": [
      "C:\\Users\\arjun\\Anaconda3\\lib\\site-packages\\ipykernel_launcher.py:5: FutureWarning: \n",
      ".ix is deprecated. Please use\n",
      ".loc for label based indexing or\n",
      ".iloc for positional indexing\n",
      "\n",
      "See the documentation here:\n",
      "http://pandas.pydata.org/pandas-docs/stable/user_guide/indexing.html#ix-indexer-is-deprecated\n",
      "  \"\"\"\n"
     ]
    }
   ],
   "source": [
    "import pandas as pd\n",
    "d = {'col1': [1, 2, 3, 4, 7, 11], 'col2': [4, 5, 6, 9, 5, 0], 'col3': [7, 5, 8, 12, 1,11]}\n",
    "df=pd.DataFrame(data=d)\n",
    "print(\"Original DataFrame\\n \",df)\n",
    "s1 = df.ix[:,0]\n",
    "print(\"\\n1st column as a Series:  \\n\",s1)\n",
    "print(type(s1))"
   ]
  },
  {
   "cell_type": "markdown",
   "metadata": {},
   "source": [
    "Q105. Write a pandas program to create the mean and standard deviation of the data of a given Series?"
   ]
  },
  {
   "cell_type": "raw",
   "metadata": {},
   "source": [
    "Sample Output- Original Data Series-  \n",
    "0 1 \n",
    "1 2 \n",
    "2 3 \n",
    "3 4 \n",
    "4 5 \n",
    "5 6\n",
    "6 7 \n",
    "7 8 \n",
    "8 9 \n",
    "9 5 \n",
    "10 3 dtype- int64 \n",
    "Mean of the said Data Series- 4.81818181818 \n",
    "Standard deviation of the said Data Series- 2.52262489555"
   ]
  },
  {
   "cell_type": "code",
   "execution_count": 253,
   "metadata": {},
   "outputs": [
    {
     "name": "stdout",
     "output_type": "stream",
     "text": [
      "Original Data Series: \n",
      " 0     1\n",
      "1     2\n",
      "2     3\n",
      "3     4\n",
      "4     5\n",
      "5     6\n",
      "6     7\n",
      "7     8\n",
      "8     9\n",
      "9     5\n",
      "10    3\n",
      "dtype: int64\n",
      "Mean of the said Data Series:  4.818181818181818\n",
      "Standard deviation of the said Data Series:  2.522624895547565\n"
     ]
    }
   ],
   "source": [
    "import pandas as pd\n",
    "df=pd.Series([1,2,3,4,5,6,7,8,9,5,3])\n",
    "print(\"Original Data Series: \\n\",df)\n",
    "print(\"Mean of the said Data Series: \",df.mean())\n",
    "print(\"Standard deviation of the said Data Series: \",df.std())"
   ]
  },
  {
   "cell_type": "markdown",
   "metadata": {},
   "source": [
    "Q106. Write a pandas program to get powers of an array values element-wise?"
   ]
  },
  {
   "cell_type": "markdown",
   "metadata": {},
   "source": [
    "Note First array elements raised the powers from the second array."
   ]
  },
  {
   "cell_type": "raw",
   "metadata": {},
   "source": [
    "Sample data: {'X ':[78,85,96,80,86], \n",
    "              ' Y ':[84,94,89,83,86],\n",
    "              'Z':[86,97,96,72,83]} \n",
    "Expected Output:  \n",
    "    X  Y  Z \n",
    "0 78  84  86 \n",
    "1 85  94  97 \n",
    "2 96  89  96 \n",
    "3 80  83  72 \n",
    "4 86  86  83"
   ]
  },
  {
   "cell_type": "code",
   "execution_count": 263,
   "metadata": {},
   "outputs": [
    {
     "name": "stdout",
     "output_type": "stream",
     "text": [
      "    X   Y   Z\n",
      "0  78  84  86\n",
      "1  85  94  97\n",
      "2  96  89  96\n",
      "3  80  83  72\n",
      "4  86  86  83\n"
     ]
    }
   ],
   "source": [
    "import pandas as pd\n",
    "df=pd.DataFrame({'X':[78,85,96,80,86], \n",
    "              'Y':[84,94,89,83,86],\n",
    "              'Z':[86,97,96,72,83]} )\n",
    "print(df)"
   ]
  },
  {
   "cell_type": "markdown",
   "metadata": {},
   "source": [
    "Q107. Write the pandas program to get the first 3 rows of a given DataFrame?"
   ]
  },
  {
   "cell_type": "raw",
   "metadata": {},
   "source": [
    "Sample Python dictionary data and list labels- \n",
    "exam_data = {'name': ['Anastasia', 'Dima', 'Katherine', 'James', 'Emily', 'Michael', 'Matthew', 'Laura', 'Kevin', 'Jonas'], \n",
    "             'score': [12.5, 9, 16.5, np.nan, 9, 20, 14.5, np.nan, 8, 19], \n",
    "             'attempts'- [1, 3, 2, 3, 2, 3, 1, 1, 2, 1], \n",
    "             'qualify'- [ 'yes', 'no', 'yes' , 'no', ' no ', ' yes ', 'yes', 'no', 'no', 'yes' ] } \n",
    "             labels = ['a', 'b', 'c', 'd', 'e', 'f', 'g', 'h', 'i', 'j' ] \n",
    "\n",
    "Expected Output- \n",
    "First three rows of the data frame- \n",
    "attempts name  qualify  score \n",
    "a 1   Anastasia   yes     12.5\n",
    "b 3   Dima        no      9.0 \n",
    "c 2   Katherine  yes     16.5"
   ]
  },
  {
   "cell_type": "code",
   "execution_count": 307,
   "metadata": {},
   "outputs": [
    {
     "name": "stdout",
     "output_type": "stream",
     "text": [
      "        name  score  attempts qualify\n",
      "a  Anastasia   12.5         1     yes\n",
      "b       Dima    9.0         3      no\n",
      "c  Katherine   16.5         2     yes\n",
      "d      James    NaN         3      no\n",
      "e      Emily    9.0         2      no\n",
      "f    Michael   20.0         3     yes\n",
      "g    Matthew   14.5         1     yes\n",
      "h      Laura    NaN         1      no\n",
      "i      Kevin    8.0         2      no\n",
      "j      Jonas   19.0         1     yes\n",
      "\n",
      "First three rows of the data frame: \n",
      "\n",
      "        name  score  attempts qualify\n",
      "a  Anastasia   12.5         1     yes\n",
      "b       Dima    9.0         3      no\n",
      "c  Katherine   16.5         2     yes\n"
     ]
    }
   ],
   "source": [
    "import pandas as pd\n",
    "import numpy as np\n",
    "\n",
    "exam_data = {'name': ['Anastasia', 'Dima', 'Katherine', 'James', 'Emily', 'Michael', 'Matthew', 'Laura', 'Kevin', 'Jonas'], \n",
    "             'score': [12.5, 9, 16.5, np.nan, 9, 20, 14.5, np.nan, 8, 19], \n",
    "             'attempts': [1, 3, 2, 3, 2, 3, 1, 1, 2, 1], \n",
    "             'qualify': ['yes', 'no', 'yes', 'no', 'no', 'yes', 'yes', 'no', 'no', 'yes']} \n",
    "labels = ['a', 'b', 'c', 'd', 'e', 'f', 'g', 'h', 'i', 'j']\n",
    "\n",
    "df=pd.DataFrame(data=exam_data,index=labels)\n",
    "print(df)\n",
    "print(\"\\nFirst three rows of the data frame: \\n\")\n",
    "print(df.iloc[:3])"
   ]
  },
  {
   "cell_type": "markdown",
   "metadata": {},
   "source": [
    "Q108: Write the pandas program to select the specified columns and the rows from a given data frame?"
   ]
  },
  {
   "cell_type": "raw",
   "metadata": {},
   "source": [
    "Sample Python dictionary data and list labels-\n",
    "Select 'name' and 'score' columns in rows 1, 3, 5, 6 from the following data frame. \n",
    "exam_data = {'name ': [ 'Anastasia', 'Dima', 'Katherine', 'James', 'Emily', 'Michael', 'Matthew', 'Laura', 'Kevin', 'Jonas'], 'score'- [12.5, 9, 16.5, np.nan, 9, 20, 14.5, np.nan, 8, 19], \n",
    "             'attempts'- [1, 3, 2, 3, 2, 3, 1, 1, 2, 1], \n",
    "             'qualify'- ['yes', 'no', 'yes', 'no', 'no', 'yes', 'yes', 'no', 'no', 'yes'] } \n",
    "labels = ['a ', ' b ', ' c ', ' d ', ' e ', ' f ', ' g ', 'h', 'i', 'j'] \n",
    "Expected Output- \n",
    "Select specific columns and rows- \n",
    "  name   score \n",
    "b Dima   9.0 \n",
    "d James  NaN \n",
    "f Michael  20.0\n",
    "g Matthew  14.5"
   ]
  },
  {
   "cell_type": "code",
   "execution_count": 326,
   "metadata": {},
   "outputs": [
    {
     "name": "stdout",
     "output_type": "stream",
     "text": [
      "Select specific columns and rows:\n"
     ]
    },
    {
     "data": {
      "text/html": [
       "<div>\n",
       "<style scoped>\n",
       "    .dataframe tbody tr th:only-of-type {\n",
       "        vertical-align: middle;\n",
       "    }\n",
       "\n",
       "    .dataframe tbody tr th {\n",
       "        vertical-align: top;\n",
       "    }\n",
       "\n",
       "    .dataframe thead th {\n",
       "        text-align: right;\n",
       "    }\n",
       "</style>\n",
       "<table border=\"1\" class=\"dataframe\">\n",
       "  <thead>\n",
       "    <tr style=\"text-align: right;\">\n",
       "      <th></th>\n",
       "      <th>name</th>\n",
       "      <th>score</th>\n",
       "    </tr>\n",
       "  </thead>\n",
       "  <tbody>\n",
       "    <tr>\n",
       "      <th>b</th>\n",
       "      <td>Dima</td>\n",
       "      <td>9.0</td>\n",
       "    </tr>\n",
       "    <tr>\n",
       "      <th>d</th>\n",
       "      <td>James</td>\n",
       "      <td>NaN</td>\n",
       "    </tr>\n",
       "    <tr>\n",
       "      <th>f</th>\n",
       "      <td>Michael</td>\n",
       "      <td>20.0</td>\n",
       "    </tr>\n",
       "    <tr>\n",
       "      <th>g</th>\n",
       "      <td>Matthew</td>\n",
       "      <td>14.5</td>\n",
       "    </tr>\n",
       "  </tbody>\n",
       "</table>\n",
       "</div>"
      ],
      "text/plain": [
       "      name  score\n",
       "b     Dima    9.0\n",
       "d    James    NaN\n",
       "f  Michael   20.0\n",
       "g  Matthew   14.5"
      ]
     },
     "execution_count": 326,
     "metadata": {},
     "output_type": "execute_result"
    }
   ],
   "source": [
    "import pandas as pd\n",
    "exam_data = {'name': ['Anastasia', 'Dima', 'Katherine', 'James', 'Emily', 'Michael', 'Matthew', 'Laura', 'Kevin', 'Jonas'], \n",
    "             'score': [12.5, 9, 16.5, np.nan, 9, 20, 14.5, np.nan, 8, 19], \n",
    "             'attempts': [1, 3, 2, 3, 2, 3, 1, 1, 2, 1], \n",
    "             'qualify': ['yes', 'no', 'yes', 'no', 'no', 'yes', 'yes', 'no', 'no', 'yes']} \n",
    "labels = ['a', 'b', 'c', 'd', 'e', 'f', 'g', 'h', 'i', 'j']\n",
    "df=pd.DataFrame(data=exam_data,index=labels)\n",
    "print(\"Select specific columns and rows:\")\n",
    "df.iloc[[1,3,5,6],[0,1]]"
   ]
  },
  {
   "cell_type": "markdown",
   "metadata": {},
   "source": [
    "Q109. Write the pandas program to calculate mean score for each different student in DataFrame?"
   ]
  },
  {
   "cell_type": "raw",
   "metadata": {},
   "source": [
    "Sample Python dictionary data and list labels- \n",
    "exam_data = {'name': ['Anastasia', 'Dima', 'Katherine', 'James', 'Emily', 'Michael', 'Matthew', 'Laura', 'Kevin', 'Jonas'], \n",
    "             'score': [12.5, 9, 16.5, np.nan, 9, 20, 14.5, np.nan, 8, 19], \n",
    "             'attempts'- [1, 3, 2, 3, 2, 3, 1, 1, 2, 1], \n",
    "             'qualify'- ['yes', 'no', ' yes ', ' no ', ' no ', ' yes ', ' yes ', ' no ', ' no ', ' yes '] } \n",
    "labels = ['a', 'b', 'c', 'd', 'e', 'f', 'g', 'h', 'i', 'j'] \n",
    "Expected Output- \n",
    "Mean score for each different student in data frame: 13.5625"
   ]
  },
  {
   "cell_type": "code",
   "execution_count": 334,
   "metadata": {},
   "outputs": [
    {
     "data": {
      "text/plain": [
       "13.5625"
      ]
     },
     "execution_count": 334,
     "metadata": {},
     "output_type": "execute_result"
    }
   ],
   "source": [
    "import pandas as pd\n",
    "exam_data = {'name': ['Anastasia', 'Dima', 'Katherine', 'James', 'Emily', 'Michael', 'Matthew', 'Laura', 'Kevin', 'Jonas'], \n",
    "             'score': [12.5, 9, 16.5, np.nan, 9, 20, 14.5, np.nan, 8, 19], \n",
    "             'attempts': [1, 3, 2, 3, 2, 3, 1, 1, 2, 1], \n",
    "             'qualify': ['yes', 'no', 'yes', 'no', 'no', 'yes', 'yes', 'no', 'no', 'yes']} \n",
    "labels = ['a', 'b', 'c', 'd', 'e', 'f', 'g', 'h', 'i', 'j']\n",
    "df=pd.DataFrame(data=exam_data,index=labels)\n",
    "df['score'].mean()"
   ]
  },
  {
   "cell_type": "markdown",
   "metadata": {},
   "source": [
    "Q110. Write the Pandas program to rename columns of a given DataFrame ?"
   ]
  },
  {
   "cell_type": "raw",
   "metadata": {},
   "source": [
    "Sample data- Original data frame \n",
    "col1 col2  col3 \n",
    "0 1   4   7 \n",
    "1 2   5  8 \n",
    "2 3   6  9 \n",
    "New data frame after renaming columns: \n",
    "    Column1 Column2 Column3 \n",
    "    0 1     4     7 \n",
    "    1 2     5     8 \n",
    "    2 3     6     9"
   ]
  },
  {
   "cell_type": "code",
   "execution_count": 351,
   "metadata": {},
   "outputs": [
    {
     "name": "stdout",
     "output_type": "stream",
     "text": [
      "Original DataFrame \n",
      "    col1  col2  col3\n",
      "0     1     4     7\n",
      "1     2     5     8\n",
      "2     3     6     9\n",
      "New DataFrame after renaming columns: \n",
      "    Column1  Column2  Column3\n",
      "0        1        4        7\n",
      "1        2        5        8\n",
      "2        3        6        9\n"
     ]
    }
   ],
   "source": [
    "import pandas as pd \n",
    "d = {'col1': [1, 2, 3], 'col2': [4, 5, 6], 'col3': [7, 8, 9]} \n",
    "df = pd.DataFrame(data=d)\n",
    "print(\"Original DataFrame \\n\",df) \n",
    "df.columns = ['Column1', 'Column2', 'Column3'] \n",
    "df = df.rename(columns={'col1': 'Column1', 'col2': 'Column2', 'col3': 'Column3'})\n",
    "print(\"New DataFrame after renaming columns: \\n\",df)"
   ]
  },
  {
   "cell_type": "markdown",
   "metadata": {},
   "source": [
    "Q111. Write a pandas program to count city-wise number of people from a given of data set (city, name of the person)?"
   ]
  },
  {
   "cell_type": "raw",
   "metadata": {},
   "source": [
    "Sample data- \n",
    "        city      Number of people \n",
    "    0 California  4 \n",
    "    1 Georgia     2 \n",
    "    2 Los Angeles 4"
   ]
  },
  {
   "cell_type": "code",
   "execution_count": 383,
   "metadata": {},
   "outputs": [
    {
     "data": {
      "text/html": [
       "<div>\n",
       "<style scoped>\n",
       "    .dataframe tbody tr th:only-of-type {\n",
       "        vertical-align: middle;\n",
       "    }\n",
       "\n",
       "    .dataframe tbody tr th {\n",
       "        vertical-align: top;\n",
       "    }\n",
       "\n",
       "    .dataframe thead th {\n",
       "        text-align: right;\n",
       "    }\n",
       "</style>\n",
       "<table border=\"1\" class=\"dataframe\">\n",
       "  <thead>\n",
       "    <tr style=\"text-align: right;\">\n",
       "      <th></th>\n",
       "      <th>city</th>\n",
       "      <th>Number of people</th>\n",
       "    </tr>\n",
       "  </thead>\n",
       "  <tbody>\n",
       "    <tr>\n",
       "      <th>0</th>\n",
       "      <td>California</td>\n",
       "      <td>4</td>\n",
       "    </tr>\n",
       "    <tr>\n",
       "      <th>1</th>\n",
       "      <td>Georgia</td>\n",
       "      <td>2</td>\n",
       "    </tr>\n",
       "    <tr>\n",
       "      <th>2</th>\n",
       "      <td>Los Angeles</td>\n",
       "      <td>4</td>\n",
       "    </tr>\n",
       "  </tbody>\n",
       "</table>\n",
       "</div>"
      ],
      "text/plain": [
       "          city  Number of people\n",
       "0   California                 4\n",
       "1      Georgia                 2\n",
       "2  Los Angeles                 4"
      ]
     },
     "execution_count": 383,
     "metadata": {},
     "output_type": "execute_result"
    }
   ],
   "source": [
    "import pandas as pd\n",
    "df1 = pd.DataFrame({'name': ['Anastasia', 'Dima', 'Katherine', 'James', 'Emily', 'Michael', 'Matthew', 'Laura', 'Kevin', 'Jonas'], \n",
    "                     'city': ['California', 'Los Angeles', 'California', 'California', 'California', 'Los Angeles', 'Los Angeles', 'Georgia', 'Georgia', 'Los Angeles']})\n",
    "\n",
    "\n",
    "g1 = df1.groupby([\"city\"]).size().reset_index(name='Number of people') \n",
    "g1"
   ]
  },
  {
   "cell_type": "markdown",
   "metadata": {},
   "source": [
    "Q112. Write a pandas program to widen output display to see more columns?"
   ]
  },
  {
   "cell_type": "raw",
   "metadata": {},
   "source": [
    "Sample data-{'col1': [1, 4, 3, 4, 5], 'col2': [4, 5, 6, 7, 8], 'col3': [7, 8, 9, 0, 1]}\n",
    "Original data frame:\n",
    "     col1 col2 col3 \n",
    "    0 1   4   7 \n",
    "    1 4   5   8 \n",
    "    2 3   6   9 \n",
    "    3 4   7   0 \n",
    "    4 5   8   1\n",
    "    "
   ]
  },
  {
   "cell_type": "code",
   "execution_count": 2,
   "metadata": {},
   "outputs": [
    {
     "name": "stdout",
     "output_type": "stream",
     "text": [
      "Original DataFrame  \n",
      "    col1  col2  col3\n",
      "0     1     4     7\n",
      "1     4     5     8\n",
      "2     3     6     9\n",
      "3     4     7     0\n",
      "4     5     8     1\n"
     ]
    }
   ],
   "source": [
    "import pandas as pd\n",
    "d = {'col1': [1, 4, 3, 4, 5], 'col2': [4, 5, 6, 7, 8], 'col3': [7, 8, 9, 0, 1]}\n",
    "df=pd.DataFrame(data=d)\n",
    "pd.set_option('display.max_rows', 500) \n",
    "pd.set_option('display.max_columns', 500) \n",
    "pd.set_option('display.width', 1000)\n",
    "print(\"Original DataFrame  \\n\",df)"
   ]
  },
  {
   "cell_type": "markdown",
   "metadata": {},
   "source": [
    "Q113. Write a pandas program to convert the data frame column type from string to DateTime?"
   ]
  },
  {
   "cell_type": "raw",
   "metadata": {},
   "source": [
    "Sample data- String Date- \n",
    "0 3/11/2000\n",
    "1 3/12/2000 \n",
    "2 3/13/2000 dtype- object \n",
    "Original DataFrame (string to datetime)- \n",
    "0 0 2000-03-11 \n",
    "1 2000-03-12 \n",
    "2 2000-03-13"
   ]
  },
  {
   "cell_type": "code",
   "execution_count": 7,
   "metadata": {},
   "outputs": [
    {
     "name": "stdout",
     "output_type": "stream",
     "text": [
      "String Date: \n",
      " 0    3/11/2000\n",
      "1    3/12/2000\n",
      "2    3/13/2000\n",
      "dtype: object\n",
      "Original DataFrame (string to datetime): \n",
      " 0   2000-03-11\n",
      "1   2000-03-12\n",
      "2   2000-03-13\n",
      "dtype: datetime64[ns]\n"
     ]
    }
   ],
   "source": [
    "import pandas as pd\n",
    "df=pd.Series(['3/11/2000', '3/12/2000', '3/13/2000'])\n",
    "print(\"String Date: \\n\",df)\n",
    "t=pd.to_datetime(df)\n",
    "print(\"Original DataFrame (string to datetime): \\n\",t)"
   ]
  },
  {
   "cell_type": "markdown",
   "metadata": {},
   "source": [
    "Q114. Write a pandas program to append the data to an empty DataFrame?"
   ]
  },
  {
   "cell_type": "raw",
   "metadata": {},
   "source": [
    "Sample data- \n",
    "Original DataFrame- \n",
    "After appending some data: col1 col2 \n",
    "    0 0 0 \n",
    "    1 1 1 \n",
    "    2 2 2"
   ]
  },
  {
   "cell_type": "code",
   "execution_count": 19,
   "metadata": {},
   "outputs": [
    {
     "name": "stdout",
     "output_type": "stream",
     "text": [
      "After appending some data:\n"
     ]
    },
    {
     "data": {
      "text/html": [
       "<div>\n",
       "<style scoped>\n",
       "    .dataframe tbody tr th:only-of-type {\n",
       "        vertical-align: middle;\n",
       "    }\n",
       "\n",
       "    .dataframe tbody tr th {\n",
       "        vertical-align: top;\n",
       "    }\n",
       "\n",
       "    .dataframe thead th {\n",
       "        text-align: right;\n",
       "    }\n",
       "</style>\n",
       "<table border=\"1\" class=\"dataframe\">\n",
       "  <thead>\n",
       "    <tr style=\"text-align: right;\">\n",
       "      <th></th>\n",
       "      <th>col1</th>\n",
       "      <th>col2</th>\n",
       "    </tr>\n",
       "  </thead>\n",
       "  <tbody>\n",
       "    <tr>\n",
       "      <th>0</th>\n",
       "      <td>0</td>\n",
       "      <td>0</td>\n",
       "    </tr>\n",
       "    <tr>\n",
       "      <th>1</th>\n",
       "      <td>1</td>\n",
       "      <td>1</td>\n",
       "    </tr>\n",
       "    <tr>\n",
       "      <th>2</th>\n",
       "      <td>2</td>\n",
       "      <td>2</td>\n",
       "    </tr>\n",
       "  </tbody>\n",
       "</table>\n",
       "</div>"
      ],
      "text/plain": [
       "   col1  col2\n",
       "0     0     0\n",
       "1     1     1\n",
       "2     2     2"
      ]
     },
     "execution_count": 19,
     "metadata": {},
     "output_type": "execute_result"
    }
   ],
   "source": [
    "import pandas as pd\n",
    "df1=pd.DataFrame()\n",
    "df2=pd.DataFrame({\"col1\": range(3),\"col2\": range(3)})\n",
    "print(\"After appending some data:\")\n",
    "df3=df1.append(df2)\n",
    "df3\n"
   ]
  },
  {
   "cell_type": "markdown",
   "metadata": {},
   "source": [
    "Q115. Write a pandas program to count the number of columns of a DataFrame?"
   ]
  },
  {
   "cell_type": "raw",
   "metadata": {},
   "source": [
    "Sample Output- Original DataFrame \n",
    "  col1 col2 col3 \n",
    "0  1   4   7 \n",
    "1  2   5   8\n",
    "2  3   6   12\n",
    "3  4   9   1 \n",
    "4  7   5   11 \n",
    "Number of columns- 3"
   ]
  },
  {
   "cell_type": "code",
   "execution_count": 28,
   "metadata": {},
   "outputs": [
    {
     "name": "stdout",
     "output_type": "stream",
     "text": [
      "Original DataFrame \n",
      "    col1  col2  col3\n",
      "0     1     4     7\n",
      "1     2     5     8\n",
      "2     3     6    12\n",
      "3     4     9     1\n",
      "4     7     5    11\n",
      "\n",
      "Number of columns:  3\n"
     ]
    }
   ],
   "source": [
    "import pandas as pd\n",
    "df=pd.DataFrame({'col1': [1, 2, 3, 4, 7], 'col2': [4, 5, 6, 9, 5], 'col3': [7, 8, 12, 1, 11]})\n",
    "print(\"Original DataFrame \\n\",df)\n",
    "print(\"\\nNumber of columns: \",len(df.columns))"
   ]
  },
  {
   "cell_type": "markdown",
   "metadata": {},
   "source": [
    "Q116. Write a Pandas program to remove the last n rows of a given DataFrame ?"
   ]
  },
  {
   "cell_type": "raw",
   "metadata": {},
   "source": [
    "Sample Output: \n",
    "Original DataFrame \n",
    "  col1   col2   col3 \n",
    "0 1 4 7 \n",
    "1 2 5 5 \n",
    "2 3 6 8 \n",
    "3 4 9 12 \n",
    "4 7 5 1 5 11 0 11 \n",
    "After removing last 3 rows of the said DataFrame- \n",
    " col1 col2 col3\n",
    "0 1   4   7 \n",
    "1 2   5   5 \n",
    "2 3   6   8"
   ]
  },
  {
   "cell_type": "code",
   "execution_count": 41,
   "metadata": {},
   "outputs": [
    {
     "name": "stdout",
     "output_type": "stream",
     "text": [
      "Original DataFrame \n",
      "    col1  col2  col3\n",
      "0     1     4     7\n",
      "1     2     5     5\n",
      "2     3     6     8\n",
      "3     4     9    12\n",
      "4     7     5     1\n",
      "5    11     0    11\n",
      "\n",
      "After removing last 3 rows of the said DataFrame: \n",
      "    col1  col2  col3\n",
      "0     1     4     7\n",
      "1     2     5     5\n",
      "2     3     6     8\n"
     ]
    }
   ],
   "source": [
    "import pandas as pd\n",
    "df=pd.DataFrame({'col1': [1, 2, 3, 4, 7, 11], 'col2': [4, 5, 6, 9, 5, 0], 'col3': [7, 5, 8, 12, 1,11]})\n",
    "print(\"Original DataFrame \\n\",df)\n",
    "print(\"\\nAfter removing last 3 rows of the said DataFrame: \\n\",df.iloc[:3,:])"
   ]
  },
  {
   "cell_type": "markdown",
   "metadata": {},
   "source": [
    "# Link for Datasets"
   ]
  },
  {
   "cell_type": "markdown",
   "metadata": {},
   "source": [
    "https://drive.google.com/drive/folders/105ftuIwN9kqyPNEEm3E6IM7LqywjyvJa?usp=sharing"
   ]
  },
  {
   "cell_type": "markdown",
   "metadata": {},
   "source": [
    "Q117. Write a Pandas program to import excel data (coalpublic2013.xlsx ) into a Pandas data frame."
   ]
  },
  {
   "cell_type": "code",
   "execution_count": 51,
   "metadata": {},
   "outputs": [
    {
     "data": {
      "text/html": [
       "<div>\n",
       "<style scoped>\n",
       "    .dataframe tbody tr th:only-of-type {\n",
       "        vertical-align: middle;\n",
       "    }\n",
       "\n",
       "    .dataframe tbody tr th {\n",
       "        vertical-align: top;\n",
       "    }\n",
       "\n",
       "    .dataframe thead th {\n",
       "        text-align: right;\n",
       "    }\n",
       "</style>\n",
       "<table border=\"1\" class=\"dataframe\">\n",
       "  <thead>\n",
       "    <tr style=\"text-align: right;\">\n",
       "      <th></th>\n",
       "      <th>Year</th>\n",
       "      <th>MSHA ID</th>\n",
       "      <th>Mine_Name</th>\n",
       "      <th>Production</th>\n",
       "      <th>Labor_Hours</th>\n",
       "    </tr>\n",
       "  </thead>\n",
       "  <tbody>\n",
       "    <tr>\n",
       "      <th>0</th>\n",
       "      <td>2013</td>\n",
       "      <td>103381</td>\n",
       "      <td>Tacoa Highwall Miner</td>\n",
       "      <td>56004</td>\n",
       "      <td>22392</td>\n",
       "    </tr>\n",
       "    <tr>\n",
       "      <th>1</th>\n",
       "      <td>2013</td>\n",
       "      <td>103404</td>\n",
       "      <td>Reid School Mine</td>\n",
       "      <td>28807</td>\n",
       "      <td>28447</td>\n",
       "    </tr>\n",
       "    <tr>\n",
       "      <th>2</th>\n",
       "      <td>2013</td>\n",
       "      <td>100759</td>\n",
       "      <td>North River #1 Underground Min</td>\n",
       "      <td>1440115</td>\n",
       "      <td>474784</td>\n",
       "    </tr>\n",
       "    <tr>\n",
       "      <th>3</th>\n",
       "      <td>2013</td>\n",
       "      <td>103246</td>\n",
       "      <td>Bear Creek</td>\n",
       "      <td>87587</td>\n",
       "      <td>29193</td>\n",
       "    </tr>\n",
       "    <tr>\n",
       "      <th>4</th>\n",
       "      <td>2013</td>\n",
       "      <td>103451</td>\n",
       "      <td>Knight Mine</td>\n",
       "      <td>147499</td>\n",
       "      <td>46393</td>\n",
       "    </tr>\n",
       "  </tbody>\n",
       "</table>\n",
       "</div>"
      ],
      "text/plain": [
       "   Year  MSHA ID                       Mine_Name  Production  Labor_Hours\n",
       "0  2013   103381            Tacoa Highwall Miner       56004        22392\n",
       "1  2013   103404                Reid School Mine       28807        28447\n",
       "2  2013   100759  North River #1 Underground Min     1440115       474784\n",
       "3  2013   103246                      Bear Creek       87587        29193\n",
       "4  2013   103451                     Knight Mine      147499        46393"
      ]
     },
     "execution_count": 51,
     "metadata": {},
     "output_type": "execute_result"
    }
   ],
   "source": [
    "import pandas as pd\n",
    "df=pd.read_excel(r'C:\\Users\\arjun\\Desktop\\Datasets\\coalpublic2013.xlsx')\n",
    "df.head()"
   ]
  },
  {
   "cell_type": "markdown",
   "metadata": {},
   "source": [
    "Q118. Write a Pandas program to import excel data (coalpublic2013.xlsx ) into a data frame and find details where \"Mine Name\" starts with \"P."
   ]
  },
  {
   "cell_type": "code",
   "execution_count": 67,
   "metadata": {},
   "outputs": [
    {
     "data": {
      "text/html": [
       "<div>\n",
       "<style scoped>\n",
       "    .dataframe tbody tr th:only-of-type {\n",
       "        vertical-align: middle;\n",
       "    }\n",
       "\n",
       "    .dataframe tbody tr th {\n",
       "        vertical-align: top;\n",
       "    }\n",
       "\n",
       "    .dataframe thead th {\n",
       "        text-align: right;\n",
       "    }\n",
       "</style>\n",
       "<table border=\"1\" class=\"dataframe\">\n",
       "  <thead>\n",
       "    <tr style=\"text-align: right;\">\n",
       "      <th></th>\n",
       "      <th>Year</th>\n",
       "      <th>MSHA ID</th>\n",
       "      <th>Mine_Name</th>\n",
       "      <th>Production</th>\n",
       "      <th>Labor_Hours</th>\n",
       "    </tr>\n",
       "  </thead>\n",
       "  <tbody>\n",
       "    <tr>\n",
       "      <th>13</th>\n",
       "      <td>2013</td>\n",
       "      <td>103332</td>\n",
       "      <td>Powhatan Mine</td>\n",
       "      <td>140521</td>\n",
       "      <td>61394</td>\n",
       "    </tr>\n",
       "    <tr>\n",
       "      <th>18</th>\n",
       "      <td>2013</td>\n",
       "      <td>102976</td>\n",
       "      <td>Piney Woods Preparation Plant</td>\n",
       "      <td>0</td>\n",
       "      <td>14828</td>\n",
       "    </tr>\n",
       "    <tr>\n",
       "      <th>19</th>\n",
       "      <td>2013</td>\n",
       "      <td>102976</td>\n",
       "      <td>Piney Woods Preparation Plant</td>\n",
       "      <td>0</td>\n",
       "      <td>23193</td>\n",
       "    </tr>\n",
       "    <tr>\n",
       "      <th>46</th>\n",
       "      <td>2013</td>\n",
       "      <td>103321</td>\n",
       "      <td>Poplar Springs</td>\n",
       "      <td>189370</td>\n",
       "      <td>76366</td>\n",
       "    </tr>\n",
       "  </tbody>\n",
       "</table>\n",
       "</div>"
      ],
      "text/plain": [
       "    Year  MSHA ID                      Mine_Name  Production  Labor_Hours\n",
       "13  2013   103332                  Powhatan Mine      140521        61394\n",
       "18  2013   102976  Piney Woods Preparation Plant           0        14828\n",
       "19  2013   102976  Piney Woods Preparation Plant           0        23193\n",
       "46  2013   103321                 Poplar Springs      189370        76366"
      ]
     },
     "execution_count": 67,
     "metadata": {},
     "output_type": "execute_result"
    }
   ],
   "source": [
    "import pandas as pd\n",
    "import numpy as np\n",
    "df=pd.read_excel(r'C:\\Users\\arjun\\Desktop\\Datasets\\coalpublic2013.xlsx')\n",
    "df[df['Mine_Name'].map(lambda x:x.startswith('P'))].head()"
   ]
  },
  {
   "cell_type": "markdown",
   "metadata": {},
   "source": [
    "Q119. Write a Pandas program to import excel data (employee.xlsx ) into a Pandas dataframe and find the list of employees where hire_date> 01-01-07."
   ]
  },
  {
   "cell_type": "code",
   "execution_count": 108,
   "metadata": {},
   "outputs": [
    {
     "data": {
      "text/html": [
       "<div>\n",
       "<style scoped>\n",
       "    .dataframe tbody tr th:only-of-type {\n",
       "        vertical-align: middle;\n",
       "    }\n",
       "\n",
       "    .dataframe tbody tr th {\n",
       "        vertical-align: top;\n",
       "    }\n",
       "\n",
       "    .dataframe thead th {\n",
       "        text-align: right;\n",
       "    }\n",
       "</style>\n",
       "<table border=\"1\" class=\"dataframe\">\n",
       "  <thead>\n",
       "    <tr style=\"text-align: right;\">\n",
       "      <th></th>\n",
       "      <th>emp_id</th>\n",
       "      <th>first_name</th>\n",
       "      <th>last_name</th>\n",
       "      <th>hire_date</th>\n",
       "    </tr>\n",
       "  </thead>\n",
       "  <tbody>\n",
       "    <tr>\n",
       "      <th>4</th>\n",
       "      <td>104</td>\n",
       "      <td>Bruce</td>\n",
       "      <td>Ernst</td>\n",
       "      <td>2007-05-21</td>\n",
       "    </tr>\n",
       "    <tr>\n",
       "      <th>7</th>\n",
       "      <td>107</td>\n",
       "      <td>Diana</td>\n",
       "      <td>Lorentz</td>\n",
       "      <td>2007-02-07</td>\n",
       "    </tr>\n",
       "    <tr>\n",
       "      <th>13</th>\n",
       "      <td>113</td>\n",
       "      <td>Luis</td>\n",
       "      <td>Popp</td>\n",
       "      <td>2007-12-07</td>\n",
       "    </tr>\n",
       "    <tr>\n",
       "      <th>19</th>\n",
       "      <td>119</td>\n",
       "      <td>Karen</td>\n",
       "      <td>Colmenares</td>\n",
       "      <td>2007-08-10</td>\n",
       "    </tr>\n",
       "  </tbody>\n",
       "</table>\n",
       "</div>"
      ],
      "text/plain": [
       "    emp_id first_name   last_name  hire_date\n",
       "4      104      Bruce       Ernst 2007-05-21\n",
       "7      107      Diana     Lorentz 2007-02-07\n",
       "13     113       Luis        Popp 2007-12-07\n",
       "19     119      Karen  Colmenares 2007-08-10"
      ]
     },
     "execution_count": 108,
     "metadata": {},
     "output_type": "execute_result"
    }
   ],
   "source": [
    "import pandas as pd\n",
    "import numpy as np\n",
    "df=pd.read_excel(r'C:\\Users\\arjun\\Desktop\\Datasets\\employee.xlsx')\n",
    "df[df['hire_date']>='01-01-07']"
   ]
  },
  {
   "cell_type": "markdown",
   "metadata": {},
   "source": [
    "Q120. Write a Pandas program to import excel data (employee.xlsx ) into a Pandas dataframe and find a list of the employees of a specified year"
   ]
  },
  {
   "cell_type": "code",
   "execution_count": 122,
   "metadata": {},
   "outputs": [
    {
     "data": {
      "text/html": [
       "<div>\n",
       "<style scoped>\n",
       "    .dataframe tbody tr th:only-of-type {\n",
       "        vertical-align: middle;\n",
       "    }\n",
       "\n",
       "    .dataframe tbody tr th {\n",
       "        vertical-align: top;\n",
       "    }\n",
       "\n",
       "    .dataframe thead th {\n",
       "        text-align: right;\n",
       "    }\n",
       "</style>\n",
       "<table border=\"1\" class=\"dataframe\">\n",
       "  <thead>\n",
       "    <tr style=\"text-align: right;\">\n",
       "      <th></th>\n",
       "      <th>emp_id</th>\n",
       "      <th>first_name</th>\n",
       "      <th>last_name</th>\n",
       "    </tr>\n",
       "    <tr>\n",
       "      <th>hire_date</th>\n",
       "      <th></th>\n",
       "      <th></th>\n",
       "      <th></th>\n",
       "    </tr>\n",
       "  </thead>\n",
       "  <tbody>\n",
       "    <tr>\n",
       "      <th>2005-09-21</th>\n",
       "      <td>101</td>\n",
       "      <td>Neena</td>\n",
       "      <td>Kochhar</td>\n",
       "    </tr>\n",
       "    <tr>\n",
       "      <th>2005-06-25</th>\n",
       "      <td>105</td>\n",
       "      <td>David</td>\n",
       "      <td>Austin</td>\n",
       "    </tr>\n",
       "    <tr>\n",
       "      <th>2005-09-28</th>\n",
       "      <td>110</td>\n",
       "      <td>John</td>\n",
       "      <td>Chen</td>\n",
       "    </tr>\n",
       "    <tr>\n",
       "      <th>2005-09-30</th>\n",
       "      <td>111</td>\n",
       "      <td>Ismael</td>\n",
       "      <td>Sciarra</td>\n",
       "    </tr>\n",
       "    <tr>\n",
       "      <th>2005-12-24</th>\n",
       "      <td>116</td>\n",
       "      <td>Shelli</td>\n",
       "      <td>Baida</td>\n",
       "    </tr>\n",
       "    <tr>\n",
       "      <th>2005-07-24</th>\n",
       "      <td>117</td>\n",
       "      <td>Sigal</td>\n",
       "      <td>Tobias</td>\n",
       "    </tr>\n",
       "  </tbody>\n",
       "</table>\n",
       "</div>"
      ],
      "text/plain": [
       "            emp_id first_name last_name\n",
       "hire_date                              \n",
       "2005-09-21     101      Neena   Kochhar\n",
       "2005-06-25     105      David    Austin\n",
       "2005-09-28     110       John      Chen\n",
       "2005-09-30     111     Ismael   Sciarra\n",
       "2005-12-24     116     Shelli     Baida\n",
       "2005-07-24     117      Sigal    Tobias"
      ]
     },
     "execution_count": 122,
     "metadata": {},
     "output_type": "execute_result"
    }
   ],
   "source": [
    "import pandas as pd\n",
    "import numpy as np\n",
    "df=pd.read_excel(r'C:\\Users\\arjun\\Desktop\\Datasets\\employee.xlsx')\n",
    "df2=df.set_index(['hire_date'])\n",
    "results=df2['2005']\n",
    "results"
   ]
  },
  {
   "cell_type": "markdown",
   "metadata": {},
   "source": [
    "Q121. Write a pandas program to import three datasheets from a given excel data (coalpublic2013.xlsx ) in to a single dataframe."
   ]
  },
  {
   "cell_type": "markdown",
   "metadata": {},
   "source": [
    "Note: Structure of three datasheets are same."
   ]
  },
  {
   "cell_type": "code",
   "execution_count": 130,
   "metadata": {},
   "outputs": [
    {
     "data": {
      "text/html": [
       "<div>\n",
       "<style scoped>\n",
       "    .dataframe tbody tr th:only-of-type {\n",
       "        vertical-align: middle;\n",
       "    }\n",
       "\n",
       "    .dataframe tbody tr th {\n",
       "        vertical-align: top;\n",
       "    }\n",
       "\n",
       "    .dataframe thead th {\n",
       "        text-align: right;\n",
       "    }\n",
       "</style>\n",
       "<table border=\"1\" class=\"dataframe\">\n",
       "  <thead>\n",
       "    <tr style=\"text-align: right;\">\n",
       "      <th></th>\n",
       "      <th>Year</th>\n",
       "      <th>MSHA ID</th>\n",
       "      <th>Mine_Name</th>\n",
       "      <th>Production</th>\n",
       "      <th>Labor_Hours</th>\n",
       "    </tr>\n",
       "  </thead>\n",
       "  <tbody>\n",
       "    <tr>\n",
       "      <th>0</th>\n",
       "      <td>2013</td>\n",
       "      <td>103381</td>\n",
       "      <td>Tacoa Highwall Miner</td>\n",
       "      <td>56004</td>\n",
       "      <td>22392</td>\n",
       "    </tr>\n",
       "    <tr>\n",
       "      <th>1</th>\n",
       "      <td>2013</td>\n",
       "      <td>103404</td>\n",
       "      <td>Reid School Mine</td>\n",
       "      <td>28807</td>\n",
       "      <td>28447</td>\n",
       "    </tr>\n",
       "    <tr>\n",
       "      <th>2</th>\n",
       "      <td>2013</td>\n",
       "      <td>100759</td>\n",
       "      <td>North River #1 Underground Min</td>\n",
       "      <td>1440115</td>\n",
       "      <td>474784</td>\n",
       "    </tr>\n",
       "    <tr>\n",
       "      <th>3</th>\n",
       "      <td>2013</td>\n",
       "      <td>103246</td>\n",
       "      <td>Bear Creek</td>\n",
       "      <td>87587</td>\n",
       "      <td>29193</td>\n",
       "    </tr>\n",
       "    <tr>\n",
       "      <th>4</th>\n",
       "      <td>2013</td>\n",
       "      <td>103451</td>\n",
       "      <td>Knight Mine</td>\n",
       "      <td>147499</td>\n",
       "      <td>46393</td>\n",
       "    </tr>\n",
       "  </tbody>\n",
       "</table>\n",
       "</div>"
      ],
      "text/plain": [
       "   Year  MSHA ID                       Mine_Name  Production  Labor_Hours\n",
       "0  2013   103381            Tacoa Highwall Miner       56004        22392\n",
       "1  2013   103404                Reid School Mine       28807        28447\n",
       "2  2013   100759  North River #1 Underground Min     1440115       474784\n",
       "3  2013   103246                      Bear Creek       87587        29193\n",
       "4  2013   103451                     Knight Mine      147499        46393"
      ]
     },
     "execution_count": 130,
     "metadata": {},
     "output_type": "execute_result"
    }
   ],
   "source": [
    "import pandas as pd\n",
    "import numpy as np\n",
    "df1=pd.read_excel(r'C:\\Users\\arjun\\Desktop\\Datasets\\coalpublic2013.xlsx',sheet_name=0)\n",
    "df2=pd.read_excel(r'C:\\Users\\arjun\\Desktop\\Datasets\\coalpublic2013.xlsx',sheet_name=1)\n",
    "df3=pd.read_excel(r'C:\\Users\\arjun\\Desktop\\Datasets\\coalpublic2013.xlsx',sheet_name=2)\n",
    "df=pd.concat([df1,df2,df3])\n",
    "df.head()"
   ]
  },
  {
   "cell_type": "markdown",
   "metadata": {},
   "source": [
    "Q 122. Write a pandas program to import three datasheets from a given excel data (employee.xlsx ) into a single data frame and export the result into new Excel file."
   ]
  },
  {
   "cell_type": "markdown",
   "metadata": {},
   "source": [
    "Note: Structure of three datasheets are same."
   ]
  },
  {
   "cell_type": "code",
   "execution_count": 134,
   "metadata": {},
   "outputs": [],
   "source": [
    "import pandas as pd\n",
    "df1=pd.read_excel(r'C:\\Users\\arjun\\Desktop\\Datasets\\employee.xlsx',sheet_name=0)\n",
    "df2=pd.read_excel(r'C:\\Users\\arjun\\Desktop\\Datasets\\employee.xlsx',sheet_name=1)\n",
    "df3=pd.read_excel(r'C:\\Users\\arjun\\Desktop\\Datasets\\employee.xlsx',sheet_name=2)\n",
    "df=pd.concat([df1,df2,df3])\n",
    "res=df.to_excel(r'C:\\Users\\arjun\\Desktop\\Datasets\\employee_res.xlsx',index=False)"
   ]
  },
  {
   "cell_type": "markdown",
   "metadata": {},
   "source": [
    "Q123. Write a pandas program to create the Pivot table with multiple indexes from the data set of the titanic.csv."
   ]
  },
  {
   "cell_type": "code",
   "execution_count": 145,
   "metadata": {},
   "outputs": [
    {
     "data": {
      "text/html": [
       "<div>\n",
       "<style scoped>\n",
       "    .dataframe tbody tr th:only-of-type {\n",
       "        vertical-align: middle;\n",
       "    }\n",
       "\n",
       "    .dataframe tbody tr th {\n",
       "        vertical-align: top;\n",
       "    }\n",
       "\n",
       "    .dataframe thead th {\n",
       "        text-align: right;\n",
       "    }\n",
       "</style>\n",
       "<table border=\"1\" class=\"dataframe\">\n",
       "  <thead>\n",
       "    <tr style=\"text-align: right;\">\n",
       "      <th></th>\n",
       "      <th></th>\n",
       "      <th>Unnamed: 15</th>\n",
       "      <th>adult_male</th>\n",
       "      <th>alone</th>\n",
       "      <th>fare</th>\n",
       "      <th>parch</th>\n",
       "      <th>pclass</th>\n",
       "      <th>sibsp</th>\n",
       "      <th>survived</th>\n",
       "    </tr>\n",
       "    <tr>\n",
       "      <th>sex</th>\n",
       "      <th>age</th>\n",
       "      <th></th>\n",
       "      <th></th>\n",
       "      <th></th>\n",
       "      <th></th>\n",
       "      <th></th>\n",
       "      <th></th>\n",
       "      <th></th>\n",
       "      <th></th>\n",
       "    </tr>\n",
       "  </thead>\n",
       "  <tbody>\n",
       "    <tr>\n",
       "      <th rowspan=\"5\" valign=\"top\">female</th>\n",
       "      <th>0.75</th>\n",
       "      <td>0.0</td>\n",
       "      <td>0.0</td>\n",
       "      <td>0.0</td>\n",
       "      <td>38.5166</td>\n",
       "      <td>2</td>\n",
       "      <td>6</td>\n",
       "      <td>4</td>\n",
       "      <td>2</td>\n",
       "    </tr>\n",
       "    <tr>\n",
       "      <th>1.00</th>\n",
       "      <td>0.0</td>\n",
       "      <td>0.0</td>\n",
       "      <td>0.0</td>\n",
       "      <td>26.8750</td>\n",
       "      <td>3</td>\n",
       "      <td>6</td>\n",
       "      <td>1</td>\n",
       "      <td>2</td>\n",
       "    </tr>\n",
       "    <tr>\n",
       "      <th>2.00</th>\n",
       "      <td>0.0</td>\n",
       "      <td>0.0</td>\n",
       "      <td>0.0</td>\n",
       "      <td>259.4750</td>\n",
       "      <td>9</td>\n",
       "      <td>15</td>\n",
       "      <td>9</td>\n",
       "      <td>2</td>\n",
       "    </tr>\n",
       "    <tr>\n",
       "      <th>3.00</th>\n",
       "      <td>0.0</td>\n",
       "      <td>0.0</td>\n",
       "      <td>0.0</td>\n",
       "      <td>62.6542</td>\n",
       "      <td>3</td>\n",
       "      <td>5</td>\n",
       "      <td>4</td>\n",
       "      <td>1</td>\n",
       "    </tr>\n",
       "    <tr>\n",
       "      <th>4.00</th>\n",
       "      <td>0.0</td>\n",
       "      <td>0.0</td>\n",
       "      <td>0.0</td>\n",
       "      <td>114.1417</td>\n",
       "      <td>6</td>\n",
       "      <td>13</td>\n",
       "      <td>4</td>\n",
       "      <td>5</td>\n",
       "    </tr>\n",
       "  </tbody>\n",
       "</table>\n",
       "</div>"
      ],
      "text/plain": [
       "             Unnamed: 15  adult_male  alone      fare  parch  pclass  sibsp  survived\n",
       "sex    age                                                                           \n",
       "female 0.75          0.0         0.0    0.0   38.5166      2       6      4         2\n",
       "       1.00          0.0         0.0    0.0   26.8750      3       6      1         2\n",
       "       2.00          0.0         0.0    0.0  259.4750      9      15      9         2\n",
       "       3.00          0.0         0.0    0.0   62.6542      3       5      4         1\n",
       "       4.00          0.0         0.0    0.0  114.1417      6      13      4         5"
      ]
     },
     "execution_count": 145,
     "metadata": {},
     "output_type": "execute_result"
    }
   ],
   "source": [
    "import pandas as pd\n",
    "df=pd.read_csv(r'C:\\Users\\arjun\\Desktop\\Datasets\\titanic.csv')\n",
    "result = pd.pivot_table(df, index = [\"sex\",\"age\"], aggfunc=np.sum)\n",
    "result.head()"
   ]
  },
  {
   "cell_type": "markdown",
   "metadata": {},
   "source": [
    "Q124. Write a Pandas program to create the Pivot table and find survival rate by gender?"
   ]
  },
  {
   "cell_type": "code",
   "execution_count": 149,
   "metadata": {},
   "outputs": [
    {
     "name": "stdout",
     "output_type": "stream",
     "text": [
      "        survived\n",
      "sex             \n",
      "female  0.742038\n",
      "male    0.188908\n"
     ]
    }
   ],
   "source": [
    "import pandas as pd \n",
    "import numpy as np \n",
    "df = pd.read_csv(r'C:\\Users\\arjun\\Desktop\\Datasets\\titanic.csv') \n",
    "result=df.groupby('sex')[['survived']].mean() \n",
    "print(result)"
   ]
  },
  {
   "cell_type": "markdown",
   "metadata": {},
   "source": [
    "Q125. Write a pandas program to make partition each of the passengers into 4 categories based on their age."
   ]
  },
  {
   "cell_type": "markdown",
   "metadata": {},
   "source": [
    "Note: Age categories- (0, 10), (10, 30), (30, 60), (60, 80)"
   ]
  },
  {
   "cell_type": "code",
   "execution_count": 153,
   "metadata": {},
   "outputs": [
    {
     "name": "stdout",
     "output_type": "stream",
     "text": [
      "0      (10.0, 30.0]\n",
      "1      (30.0, 60.0]\n",
      "2      (10.0, 30.0]\n",
      "3      (30.0, 60.0]\n",
      "4      (30.0, 60.0]\n",
      "           ...     \n",
      "886    (10.0, 30.0]\n",
      "887    (10.0, 30.0]\n",
      "888             NaN\n",
      "889    (10.0, 30.0]\n",
      "890    (30.0, 60.0]\n",
      "Name: age, Length: 891, dtype: category\n",
      "Categories (4, interval[int64]): [(0, 10] < (10, 30] < (30, 60] < (60, 80]]\n"
     ]
    }
   ],
   "source": [
    "import pandas as pd\n",
    "df=pd.read_csv(r'C:\\Users\\arjun\\Desktop\\Datasets\\titanic.csv')\n",
    "res=pd.cut(df['age'],[0, 10, 30, 60, 80])\n",
    "print(res)"
   ]
  },
  {
   "cell_type": "markdown",
   "metadata": {},
   "source": [
    "Q126. Write a pandas program to create the Pivot table and find survival rate by the gender, age of the different categories of various classes."
   ]
  },
  {
   "cell_type": "code",
   "execution_count": 161,
   "metadata": {},
   "outputs": [
    {
     "name": "stdout",
     "output_type": "stream",
     "text": [
      "class               First    Second     Third\n",
      "sex    age                                   \n",
      "female (0, 20]   0.928571  1.000000  0.510638\n",
      "       (20, 55]  0.968750  0.912281  0.407407\n",
      "male   (0, 20]   0.571429  0.526316  0.197368\n",
      "       (20, 55]  0.440000  0.054054  0.134503\n"
     ]
    }
   ],
   "source": [
    "import pandas as pd\n",
    "df=pd.read_csv(r'C:\\Users\\arjun\\Desktop\\Datasets\\titanic.csv')\n",
    "age = pd.cut(df['age'],[0,20,55])\n",
    "result=df.pivot_table('survived',index=['sex',age],columns='class')\n",
    "print(result)"
   ]
  },
  {
   "cell_type": "code",
   "execution_count": 164,
   "metadata": {},
   "outputs": [
    {
     "data": {
      "text/html": [
       "<div>\n",
       "<style scoped>\n",
       "    .dataframe tbody tr th:only-of-type {\n",
       "        vertical-align: middle;\n",
       "    }\n",
       "\n",
       "    .dataframe tbody tr th {\n",
       "        vertical-align: top;\n",
       "    }\n",
       "\n",
       "    .dataframe thead th {\n",
       "        text-align: right;\n",
       "    }\n",
       "</style>\n",
       "<table border=\"1\" class=\"dataframe\">\n",
       "  <thead>\n",
       "    <tr style=\"text-align: right;\">\n",
       "      <th></th>\n",
       "      <th>survived</th>\n",
       "      <th>pclass</th>\n",
       "      <th>sex</th>\n",
       "      <th>age</th>\n",
       "      <th>sibsp</th>\n",
       "      <th>parch</th>\n",
       "      <th>fare</th>\n",
       "      <th>embarked</th>\n",
       "      <th>class</th>\n",
       "      <th>who</th>\n",
       "      <th>adult_male</th>\n",
       "      <th>deck</th>\n",
       "      <th>embark_town</th>\n",
       "      <th>alive</th>\n",
       "      <th>alone</th>\n",
       "      <th>Unnamed: 15</th>\n",
       "    </tr>\n",
       "  </thead>\n",
       "  <tbody>\n",
       "    <tr>\n",
       "      <th>0</th>\n",
       "      <td>0</td>\n",
       "      <td>3</td>\n",
       "      <td>male</td>\n",
       "      <td>22.0</td>\n",
       "      <td>1</td>\n",
       "      <td>0</td>\n",
       "      <td>7.2500</td>\n",
       "      <td>S</td>\n",
       "      <td>Third</td>\n",
       "      <td>man</td>\n",
       "      <td>True</td>\n",
       "      <td>NaN</td>\n",
       "      <td>Southampton</td>\n",
       "      <td>no</td>\n",
       "      <td>False</td>\n",
       "      <td>NaN</td>\n",
       "    </tr>\n",
       "    <tr>\n",
       "      <th>1</th>\n",
       "      <td>1</td>\n",
       "      <td>1</td>\n",
       "      <td>female</td>\n",
       "      <td>38.0</td>\n",
       "      <td>1</td>\n",
       "      <td>0</td>\n",
       "      <td>71.2833</td>\n",
       "      <td>C</td>\n",
       "      <td>First</td>\n",
       "      <td>woman</td>\n",
       "      <td>False</td>\n",
       "      <td>C</td>\n",
       "      <td>Cherbourg</td>\n",
       "      <td>yes</td>\n",
       "      <td>False</td>\n",
       "      <td>NaN</td>\n",
       "    </tr>\n",
       "    <tr>\n",
       "      <th>2</th>\n",
       "      <td>1</td>\n",
       "      <td>3</td>\n",
       "      <td>female</td>\n",
       "      <td>26.0</td>\n",
       "      <td>0</td>\n",
       "      <td>0</td>\n",
       "      <td>7.9250</td>\n",
       "      <td>S</td>\n",
       "      <td>Third</td>\n",
       "      <td>woman</td>\n",
       "      <td>False</td>\n",
       "      <td>NaN</td>\n",
       "      <td>Southampton</td>\n",
       "      <td>yes</td>\n",
       "      <td>True</td>\n",
       "      <td>NaN</td>\n",
       "    </tr>\n",
       "    <tr>\n",
       "      <th>3</th>\n",
       "      <td>1</td>\n",
       "      <td>1</td>\n",
       "      <td>female</td>\n",
       "      <td>35.0</td>\n",
       "      <td>1</td>\n",
       "      <td>0</td>\n",
       "      <td>53.1000</td>\n",
       "      <td>S</td>\n",
       "      <td>First</td>\n",
       "      <td>woman</td>\n",
       "      <td>False</td>\n",
       "      <td>C</td>\n",
       "      <td>Southampton</td>\n",
       "      <td>yes</td>\n",
       "      <td>False</td>\n",
       "      <td>NaN</td>\n",
       "    </tr>\n",
       "    <tr>\n",
       "      <th>4</th>\n",
       "      <td>0</td>\n",
       "      <td>3</td>\n",
       "      <td>male</td>\n",
       "      <td>35.0</td>\n",
       "      <td>0</td>\n",
       "      <td>0</td>\n",
       "      <td>8.0500</td>\n",
       "      <td>S</td>\n",
       "      <td>Third</td>\n",
       "      <td>man</td>\n",
       "      <td>True</td>\n",
       "      <td>NaN</td>\n",
       "      <td>Southampton</td>\n",
       "      <td>no</td>\n",
       "      <td>True</td>\n",
       "      <td>NaN</td>\n",
       "    </tr>\n",
       "  </tbody>\n",
       "</table>\n",
       "</div>"
      ],
      "text/plain": [
       "   survived  pclass     sex   age  sibsp  parch     fare embarked  class    who  adult_male deck  embark_town alive  alone  Unnamed: 15\n",
       "0         0       3    male  22.0      1      0   7.2500        S  Third    man        True  NaN  Southampton    no  False          NaN\n",
       "1         1       1  female  38.0      1      0  71.2833        C  First  woman       False    C    Cherbourg   yes  False          NaN\n",
       "2         1       3  female  26.0      0      0   7.9250        S  Third  woman       False  NaN  Southampton   yes   True          NaN\n",
       "3         1       1  female  35.0      1      0  53.1000        S  First  woman       False    C  Southampton   yes  False          NaN\n",
       "4         0       3    male  35.0      0      0   8.0500        S  Third    man        True  NaN  Southampton    no   True          NaN"
      ]
     },
     "execution_count": 164,
     "metadata": {},
     "output_type": "execute_result"
    }
   ],
   "source": [
    "df=pd.read_csv(r'C:\\Users\\arjun\\Desktop\\Datasets\\titanic.csv')\n",
    "df.head()"
   ]
  },
  {
   "cell_type": "markdown",
   "metadata": {},
   "source": [
    "Q127. Write a pandas program to create the Pivot table and calculate number of women and men were in a particular cabin class."
   ]
  },
  {
   "cell_type": "code",
   "execution_count": 176,
   "metadata": {},
   "outputs": [
    {
     "data": {
      "text/html": [
       "<div>\n",
       "<style scoped>\n",
       "    .dataframe tbody tr th:only-of-type {\n",
       "        vertical-align: middle;\n",
       "    }\n",
       "\n",
       "    .dataframe tbody tr th {\n",
       "        vertical-align: top;\n",
       "    }\n",
       "\n",
       "    .dataframe thead th {\n",
       "        text-align: right;\n",
       "    }\n",
       "</style>\n",
       "<table border=\"1\" class=\"dataframe\">\n",
       "  <thead>\n",
       "    <tr style=\"text-align: right;\">\n",
       "      <th></th>\n",
       "      <th>sex</th>\n",
       "      <th>female</th>\n",
       "      <th>male</th>\n",
       "    </tr>\n",
       "    <tr>\n",
       "      <th></th>\n",
       "      <th>class</th>\n",
       "      <th></th>\n",
       "      <th></th>\n",
       "    </tr>\n",
       "  </thead>\n",
       "  <tbody>\n",
       "    <tr>\n",
       "      <th rowspan=\"3\" valign=\"top\">Unnamed: 15</th>\n",
       "      <th>First</th>\n",
       "      <td>0</td>\n",
       "      <td>0</td>\n",
       "    </tr>\n",
       "    <tr>\n",
       "      <th>Second</th>\n",
       "      <td>0</td>\n",
       "      <td>0</td>\n",
       "    </tr>\n",
       "    <tr>\n",
       "      <th>Third</th>\n",
       "      <td>0</td>\n",
       "      <td>0</td>\n",
       "    </tr>\n",
       "    <tr>\n",
       "      <th rowspan=\"2\" valign=\"top\">adult_male</th>\n",
       "      <th>First</th>\n",
       "      <td>94</td>\n",
       "      <td>122</td>\n",
       "    </tr>\n",
       "    <tr>\n",
       "      <th>Second</th>\n",
       "      <td>76</td>\n",
       "      <td>108</td>\n",
       "    </tr>\n",
       "  </tbody>\n",
       "</table>\n",
       "</div>"
      ],
      "text/plain": [
       "sex                 female  male\n",
       "            class               \n",
       "Unnamed: 15 First        0     0\n",
       "            Second       0     0\n",
       "            Third        0     0\n",
       "adult_male  First       94   122\n",
       "            Second      76   108"
      ]
     },
     "execution_count": 176,
     "metadata": {},
     "output_type": "execute_result"
    }
   ],
   "source": [
    "import pandas as pd\n",
    "df=pd.read_csv(r'C:\\Users\\arjun\\Desktop\\Datasets\\titanic.csv')\n",
    "result=df.pivot_table(index=['sex'],columns='class',aggfunc='count')\n",
    "result.T.head()  #T represents Transpose the values"
   ]
  },
  {
   "cell_type": "markdown",
   "metadata": {},
   "source": [
    "Q128. Write a pandas program to create the Pivot table and separate the gender according to whether they travelled alone or not to get the probability of survival"
   ]
  },
  {
   "cell_type": "code",
   "execution_count": 183,
   "metadata": {},
   "outputs": [
    {
     "data": {
      "text/html": [
       "<div>\n",
       "<style scoped>\n",
       "    .dataframe tbody tr th:only-of-type {\n",
       "        vertical-align: middle;\n",
       "    }\n",
       "\n",
       "    .dataframe tbody tr th {\n",
       "        vertical-align: top;\n",
       "    }\n",
       "\n",
       "    .dataframe thead th {\n",
       "        text-align: right;\n",
       "    }\n",
       "</style>\n",
       "<table border=\"1\" class=\"dataframe\">\n",
       "  <thead>\n",
       "    <tr style=\"text-align: right;\">\n",
       "      <th></th>\n",
       "      <th>class</th>\n",
       "      <th>First</th>\n",
       "      <th>Second</th>\n",
       "      <th>Third</th>\n",
       "    </tr>\n",
       "    <tr>\n",
       "      <th>sex</th>\n",
       "      <th>alone</th>\n",
       "      <th></th>\n",
       "      <th></th>\n",
       "      <th></th>\n",
       "    </tr>\n",
       "  </thead>\n",
       "  <tbody>\n",
       "    <tr>\n",
       "      <th rowspan=\"2\" valign=\"top\">female</th>\n",
       "      <th>False</th>\n",
       "      <td>0.966667</td>\n",
       "      <td>0.931818</td>\n",
       "      <td>0.416667</td>\n",
       "    </tr>\n",
       "    <tr>\n",
       "      <th>True</th>\n",
       "      <td>0.970588</td>\n",
       "      <td>0.906250</td>\n",
       "      <td>0.616667</td>\n",
       "    </tr>\n",
       "    <tr>\n",
       "      <th rowspan=\"2\" valign=\"top\">male</th>\n",
       "      <th>False</th>\n",
       "      <td>0.425532</td>\n",
       "      <td>0.277778</td>\n",
       "      <td>0.180723</td>\n",
       "    </tr>\n",
       "    <tr>\n",
       "      <th>True</th>\n",
       "      <td>0.333333</td>\n",
       "      <td>0.097222</td>\n",
       "      <td>0.121212</td>\n",
       "    </tr>\n",
       "  </tbody>\n",
       "</table>\n",
       "</div>"
      ],
      "text/plain": [
       "class            First    Second     Third\n",
       "sex    alone                              \n",
       "female False  0.966667  0.931818  0.416667\n",
       "       True   0.970588  0.906250  0.616667\n",
       "male   False  0.425532  0.277778  0.180723\n",
       "       True   0.333333  0.097222  0.121212"
      ]
     },
     "execution_count": 183,
     "metadata": {},
     "output_type": "execute_result"
    }
   ],
   "source": [
    "import pandas as pd\n",
    "df=pd.read_csv(r'C:\\Users\\arjun\\Desktop\\Datasets\\titanic.csv')\n",
    "result = df.pivot_table( 'survived' , [ 'sex' , 'alone' ] , 'class' ) \n",
    "result"
   ]
  },
  {
   "cell_type": "markdown",
   "metadata": {},
   "source": [
    "Q129. Write a pandas program to create the Pivot table and find the probability of survival by class, gender, solo boarding, and the port of embarkation."
   ]
  },
  {
   "cell_type": "code",
   "execution_count": 186,
   "metadata": {},
   "outputs": [
    {
     "data": {
      "text/html": [
       "<div>\n",
       "<style scoped>\n",
       "    .dataframe tbody tr th:only-of-type {\n",
       "        vertical-align: middle;\n",
       "    }\n",
       "\n",
       "    .dataframe tbody tr th {\n",
       "        vertical-align: top;\n",
       "    }\n",
       "\n",
       "    .dataframe thead tr th {\n",
       "        text-align: left;\n",
       "    }\n",
       "\n",
       "    .dataframe thead tr:last-of-type th {\n",
       "        text-align: right;\n",
       "    }\n",
       "</style>\n",
       "<table border=\"1\" class=\"dataframe\">\n",
       "  <thead>\n",
       "    <tr>\n",
       "      <th></th>\n",
       "      <th>embark_town</th>\n",
       "      <th colspan=\"3\" halign=\"left\">Cherbourg</th>\n",
       "      <th colspan=\"3\" halign=\"left\">Queenstown</th>\n",
       "      <th colspan=\"3\" halign=\"left\">Southampton</th>\n",
       "    </tr>\n",
       "    <tr>\n",
       "      <th></th>\n",
       "      <th>class</th>\n",
       "      <th>First</th>\n",
       "      <th>Second</th>\n",
       "      <th>Third</th>\n",
       "      <th>First</th>\n",
       "      <th>Second</th>\n",
       "      <th>Third</th>\n",
       "      <th>First</th>\n",
       "      <th>Second</th>\n",
       "      <th>Third</th>\n",
       "    </tr>\n",
       "    <tr>\n",
       "      <th>sex</th>\n",
       "      <th>alone</th>\n",
       "      <th></th>\n",
       "      <th></th>\n",
       "      <th></th>\n",
       "      <th></th>\n",
       "      <th></th>\n",
       "      <th></th>\n",
       "      <th></th>\n",
       "      <th></th>\n",
       "      <th></th>\n",
       "    </tr>\n",
       "  </thead>\n",
       "  <tbody>\n",
       "    <tr>\n",
       "      <th rowspan=\"2\" valign=\"top\">female</th>\n",
       "      <th>False</th>\n",
       "      <td>1.000000</td>\n",
       "      <td>1.000000</td>\n",
       "      <td>0.611111</td>\n",
       "      <td>1.0</td>\n",
       "      <td>NaN</td>\n",
       "      <td>0.625000</td>\n",
       "      <td>0.941176</td>\n",
       "      <td>0.923077</td>\n",
       "      <td>0.327586</td>\n",
       "    </tr>\n",
       "    <tr>\n",
       "      <th>True</th>\n",
       "      <td>0.944444</td>\n",
       "      <td>1.000000</td>\n",
       "      <td>0.800000</td>\n",
       "      <td>NaN</td>\n",
       "      <td>1.0</td>\n",
       "      <td>0.760000</td>\n",
       "      <td>1.000000</td>\n",
       "      <td>0.892857</td>\n",
       "      <td>0.466667</td>\n",
       "    </tr>\n",
       "    <tr>\n",
       "      <th rowspan=\"2\" valign=\"top\">male</th>\n",
       "      <th>False</th>\n",
       "      <td>0.473684</td>\n",
       "      <td>0.166667</td>\n",
       "      <td>0.500000</td>\n",
       "      <td>0.0</td>\n",
       "      <td>NaN</td>\n",
       "      <td>0.100000</td>\n",
       "      <td>0.407407</td>\n",
       "      <td>0.300000</td>\n",
       "      <td>0.142857</td>\n",
       "    </tr>\n",
       "    <tr>\n",
       "      <th>True</th>\n",
       "      <td>0.347826</td>\n",
       "      <td>0.250000</td>\n",
       "      <td>0.151515</td>\n",
       "      <td>NaN</td>\n",
       "      <td>0.0</td>\n",
       "      <td>0.068966</td>\n",
       "      <td>0.326923</td>\n",
       "      <td>0.089552</td>\n",
       "      <td>0.123762</td>\n",
       "    </tr>\n",
       "  </tbody>\n",
       "</table>\n",
       "</div>"
      ],
      "text/plain": [
       "embark_town  Cherbourg                     Queenstown                  Southampton                    \n",
       "class            First    Second     Third      First Second     Third       First    Second     Third\n",
       "sex    alone                                                                                          \n",
       "female False  1.000000  1.000000  0.611111        1.0    NaN  0.625000    0.941176  0.923077  0.327586\n",
       "       True   0.944444  1.000000  0.800000        NaN    1.0  0.760000    1.000000  0.892857  0.466667\n",
       "male   False  0.473684  0.166667  0.500000        0.0    NaN  0.100000    0.407407  0.300000  0.142857\n",
       "       True   0.347826  0.250000  0.151515        NaN    0.0  0.068966    0.326923  0.089552  0.123762"
      ]
     },
     "execution_count": 186,
     "metadata": {},
     "output_type": "execute_result"
    }
   ],
   "source": [
    "import pandas as pd\n",
    "df=pd.read_csv(r'C:\\Users\\arjun\\Desktop\\Datasets\\titanic.csv')\n",
    "res=df.pivot_table(values='survived', index=['sex','alone'], columns=['embark_town','class'])\n",
    "res"
   ]
  },
  {
   "cell_type": "markdown",
   "metadata": {},
   "source": [
    "Q130. Write a pandas program to get current date, oldest date and number of days between Current date and the oldest date of Ufo dataset."
   ]
  },
  {
   "cell_type": "code",
   "execution_count": 24,
   "metadata": {},
   "outputs": [
    {
     "name": "stdout",
     "output_type": "stream",
     "text": [
      "Original Dataframe:\n",
      "            Date_time                  city state/province country UFO_shape  \\\n",
      "0 1949-10-10 20:30:00            san marcos             tx      us  cylinder   \n",
      "1 1949-10-10 21:00:00          lackland afb             tx     NaN     light   \n",
      "2 1955-10-10 17:00:00  chester (uk/england)            NaN      gb    circle   \n",
      "3 1956-10-10 21:00:00                  edna             tx      us    circle   \n",
      "4 1960-10-10 20:00:00               kaneohe             hi      us     light   \n",
      "\n",
      "   length_of_encounter_seconds described_duration_of_encounter  \\\n",
      "0                       2700.0                      45 minutes   \n",
      "1                       7200.0                         1-2 hrs   \n",
      "2                         20.0                      20 seconds   \n",
      "3                         20.0                        1/2 hour   \n",
      "4                        900.0                      15 minutes   \n",
      "\n",
      "                                         description date_documented  \\\n",
      "0  This event took place in early fall around 194...       4/27/2004   \n",
      "1  1949 Lackland AFB&#44 TX.  Lights racing acros...      12/16/2005   \n",
      "2  Green/Orange circular disc over Chester&#44 En...       1/21/2008   \n",
      "3  My older brother and twin sister were leaving ...       1/17/2004   \n",
      "4  AS a Marine 1st Lt. flying an FJ4B fighter/att...       1/22/2004   \n",
      "\n",
      "    latitude   longitude  \n",
      "0  29.883056  -97.941111  \n",
      "1  29.384210  -98.581082  \n",
      "2  53.200000   -2.916667  \n",
      "3  28.978333  -96.645833  \n",
      "4  21.418056 -157.803611  \n",
      "\n",
      "Current date of Ufo dataset:\n",
      "2014-01-22 21:35:00\n",
      "\n",
      "Oldest date of Ufo dataset:\n",
      "1943-01-18 07:15:00\n",
      "\n",
      "Number of days between Current date and oldest date of Ufo dataset:\n",
      "25937\n"
     ]
    }
   ],
   "source": [
    "import pandas as pd\n",
    "df=pd.read_csv(r'C:\\Users\\arjun\\Desktop\\Datasets\\ufo_sighting_data.csv')\n",
    "df['Date_time'] = df['Date_time'].astype('datetime64[ns]')\n",
    "print(\"Original Dataframe:\")\n",
    "print(df.head())\n",
    "print(\"\\nCurrent date of Ufo dataset:\")\n",
    "print(df.Date_time.max())\n",
    "print(\"\\nOldest date of Ufo dataset:\")\n",
    "print(df.Date_time.min())\n",
    "print(\"\\nNumber of days between Current date and oldest date of Ufo dataset:\")\n",
    "print((df.Date_time.max() - df.Date_time.min()).days)"
   ]
  },
  {
   "cell_type": "markdown",
   "metadata": {},
   "source": [
    "Q131. Write a pandas program to get all sighting days of the unidentified flying object (ufo) between 2000/10/10 and 2001-10-10."
   ]
  },
  {
   "cell_type": "code",
   "execution_count": 27,
   "metadata": {},
   "outputs": [
    {
     "name": "stdout",
     "output_type": "stream",
     "text": [
      "Original Dataframe:\n",
      "            Date_time                  city state/province country UFO_shape  \\\n",
      "0 1949-10-10 20:30:00            san marcos             tx      us  cylinder   \n",
      "1 1949-10-10 21:00:00          lackland afb             tx     NaN     light   \n",
      "2 1955-10-10 17:00:00  chester (uk/england)            NaN      gb    circle   \n",
      "3 1956-10-10 21:00:00                  edna             tx      us    circle   \n",
      "4 1960-10-10 20:00:00               kaneohe             hi      us     light   \n",
      "\n",
      "   length_of_encounter_seconds described_duration_of_encounter  \\\n",
      "0                       2700.0                      45 minutes   \n",
      "1                       7200.0                         1-2 hrs   \n",
      "2                         20.0                      20 seconds   \n",
      "3                         20.0                        1/2 hour   \n",
      "4                        900.0                      15 minutes   \n",
      "\n",
      "                                         description date_documented  \\\n",
      "0  This event took place in early fall around 194...       4/27/2004   \n",
      "1  1949 Lackland AFB&#44 TX.  Lights racing acros...      12/16/2005   \n",
      "2  Green/Orange circular disc over Chester&#44 En...       1/21/2008   \n",
      "3  My older brother and twin sister were leaving ...       1/17/2004   \n",
      "4  AS a Marine 1st Lt. flying an FJ4B fighter/att...       1/22/2004   \n",
      "\n",
      "    latitude   longitude  \n",
      "0  29.883056  -97.941111  \n",
      "1  29.384210  -98.581082  \n",
      "2  53.200000   -2.916667  \n",
      "3  28.978333  -96.645833  \n",
      "4  21.418056 -157.803611  \n",
      "\n",
      "Sighting days of the unidentified flying object (ufo) between 2000-10-10 and 2001-10-10:\n",
      "               Date_time                           city state/province  \\\n",
      "93   2000-10-10 03:00:00                     perryville             mo   \n",
      "94   2000-10-10 06:15:00                  boynton beach             fl   \n",
      "95   2000-10-10 07:30:00              victoria (canada)             bc   \n",
      "96   2000-10-10 16:00:00                         jueanu             wi   \n",
      "97   2000-10-10 20:20:00  valley park area of st. louis             mo   \n",
      "...                  ...                            ...            ...   \n",
      "9941 2000-12-25 18:30:00                        buffalo             ny   \n",
      "9942 2000-12-25 19:00:00                       woodland             ca   \n",
      "9943 2000-12-25 19:15:00                       fallston             md   \n",
      "9944 2000-12-25 20:30:00             atlanta (dunwoody)             ga   \n",
      "9945 2000-12-25 23:30:00                             ??             va   \n",
      "\n",
      "     country  UFO_shape  length_of_encounter_seconds  \\\n",
      "93        us       oval                        180.0   \n",
      "94        us      other                         10.0   \n",
      "95        ca   cylinder                         30.0   \n",
      "96       NaN   triangle                         45.0   \n",
      "97       NaN       oval                         15.0   \n",
      "...      ...        ...                          ...   \n",
      "9941      us  formation                        180.0   \n",
      "9942      us   fireball                        420.0   \n",
      "9943      us   changing                       2700.0   \n",
      "9944      us      light                          2.0   \n",
      "9945     NaN    unknown                      14400.0   \n",
      "\n",
      "     described_duration_of_encounter  \\\n",
      "93                         3 minutes   \n",
      "94                        10 seconds   \n",
      "95                         30seconds   \n",
      "96                        45 seconds   \n",
      "97                        15 seconds   \n",
      "...                              ...   \n",
      "9941                        1-3 min.   \n",
      "9942                           7 min   \n",
      "9943                         45 min.   \n",
      "9944                     few seconds   \n",
      "9945                         4 hours   \n",
      "\n",
      "                                            description date_documented  \\\n",
      "93    The craft was big&#44 orange&#44 and oval shaped.       12/2/2000   \n",
      "94    Unusual light formation moving extremely fast ...       12/2/2000   \n",
      "95                                Smooth Shiny Cylinder       12/2/2000   \n",
      "96                               5 bight light V shaped       12/2/2000   \n",
      "97    Driving on Hyw.141 at Hyw. 44 and going East&#...       12/2/2000   \n",
      "...                                                 ...             ...   \n",
      "9941  On 12/25/00 I witnessed a boomarang shaped obj...        1/3/2001   \n",
      "9942  two fireballs moving swiftly then just hoverin...        1/3/2001   \n",
      "9943  iT IS A VERY BRIGHT WHITE&#44 BRIGHTER THAN AN...       3/16/2001   \n",
      "9944  An orange/gold ball of light hovered for a sec...       2/18/2001   \n",
      "9945                                   Highway incident       6/10/2003   \n",
      "\n",
      "       latitude   longitude  \n",
      "93    37.724167  -89.861111  \n",
      "94    26.525000  -80.066667  \n",
      "95    46.216667  -63.483333  \n",
      "96    43.405550  -88.705104  \n",
      "97    38.627003  -90.199404  \n",
      "...         ...         ...  \n",
      "9941  42.886389  -78.878611  \n",
      "9942  38.678611 -121.772222  \n",
      "9943  39.514444  -76.411389  \n",
      "9944  33.748889  -84.388056  \n",
      "9945  37.431573  -78.656894  \n",
      "\n",
      "[336 rows x 11 columns]\n"
     ]
    }
   ],
   "source": [
    "import pandas as pd \n",
    "df=pd.read_csv(r'C:\\Users\\arjun\\Desktop\\Datasets\\ufo_sighting_data.csv')\n",
    "df['Date_time'] = df['Date_time'].astype('datetime64[ns]')\n",
    "print(\"Original Dataframe:\")\n",
    "print(df.head())\n",
    "print(\"\\nSighting days of the unidentified flying object (ufo) between 2000-10-10 and 2001-10-10:\")\n",
    "selected_period = df[(df['Date_time'] >= '2000-10-10 00:00:00') & (df['Date_time'] <= '2001-10-10 23:59:59')]\n",
    "print(selected_period)"
   ]
  },
  {
   "cell_type": "markdown",
   "metadata": {},
   "source": [
    "Q132. Write a Pandas program to extract the year, month, day, hour, minute, second, and weekday from unidentified flying object (UFO) reporting date."
   ]
  },
  {
   "cell_type": "code",
   "execution_count": 45,
   "metadata": {},
   "outputs": [
    {
     "name": "stdout",
     "output_type": "stream",
     "text": [
      "Original Dataframe:\n",
      "            Date_time                  city state/province country UFO_shape  \\\n",
      "0 1949-10-10 20:30:00            san marcos             tx      us  cylinder   \n",
      "1 1949-10-10 21:00:00          lackland afb             tx     NaN     light   \n",
      "2 1955-10-10 17:00:00  chester (uk/england)            NaN      gb    circle   \n",
      "3 1956-10-10 21:00:00                  edna             tx      us    circle   \n",
      "4 1960-10-10 20:00:00               kaneohe             hi      us     light   \n",
      "\n",
      "   length_of_encounter_seconds described_duration_of_encounter  \\\n",
      "0                       2700.0                      45 minutes   \n",
      "1                       7200.0                         1-2 hrs   \n",
      "2                         20.0                      20 seconds   \n",
      "3                         20.0                        1/2 hour   \n",
      "4                        900.0                      15 minutes   \n",
      "\n",
      "                                         description date_documented  \\\n",
      "0  This event took place in early fall around 194...       4/27/2004   \n",
      "1  1949 Lackland AFB&#44 TX.  Lights racing acros...      12/16/2005   \n",
      "2  Green/Orange circular disc over Chester&#44 En...       1/21/2008   \n",
      "3  My older brother and twin sister were leaving ...       1/17/2004   \n",
      "4  AS a Marine 1st Lt. flying an FJ4B fighter/att...       1/22/2004   \n",
      "\n",
      "    latitude   longitude  \n",
      "0  29.883056  -97.941111  \n",
      "1  29.384210  -98.581082  \n",
      "2  53.200000   -2.916667  \n",
      "3  28.978333  -96.645833  \n",
      "4  21.418056 -157.803611  \n",
      "\n",
      "Year:\n",
      "0    1949\n",
      "1    1949\n",
      "2    1955\n",
      "3    1956\n",
      "4    1960\n",
      "Name: Date_time, dtype: int64\n",
      "\n",
      "Month:\n",
      "0    10\n",
      "1    10\n",
      "2    10\n",
      "3    10\n",
      "4    10\n",
      "Name: Date_time, dtype: int64\n",
      "\n",
      "Day:\n",
      "0    10\n",
      "1    10\n",
      "2    10\n",
      "3    10\n",
      "4    10\n",
      "Name: Date_time, dtype: int64\n",
      "\n",
      "Hour:\n",
      "0    20\n",
      "1    21\n",
      "2    17\n",
      "3    21\n",
      "4    20\n",
      "Name: Date_time, dtype: int64\n",
      "\n",
      "Minute:\n",
      "0    30\n",
      "1     0\n",
      "2     0\n",
      "3     0\n",
      "4     0\n",
      "Name: Date_time, dtype: int64\n",
      "\n",
      "Second:\n",
      "0    0\n",
      "1    0\n",
      "2    0\n",
      "3    0\n",
      "4    0\n",
      "Name: Date_time, dtype: int64\n",
      "\n",
      "Weekday:\n",
      "0       Monday\n",
      "1       Monday\n",
      "2       Monday\n",
      "3    Wednesday\n",
      "4       Monday\n",
      "Name: Date_time, dtype: object\n"
     ]
    }
   ],
   "source": [
    "import pandas as pd\n",
    "df=pd.read_csv(r'C:\\Users\\arjun\\Desktop\\Datasets\\ufo_sighting_data.csv')\n",
    "df['Date_time'] = df['Date_time'].astype('datetime64[ns]')\n",
    "print(\"Original Dataframe:\")\n",
    "print(df.head())\n",
    "print(\"\\nYear:\")\n",
    "print(df.Date_time.dt.year.head())\n",
    "print(\"\\nMonth:\")\n",
    "print(df.Date_time.dt.month.head())\n",
    "print(\"\\nDay:\")\n",
    "print(df.Date_time.dt.day.head())\n",
    "print(\"\\nHour:\")\n",
    "print(df.Date_time.dt.hour.head())\n",
    "print(\"\\nMinute:\")\n",
    "print(df.Date_time.dt.minute.head())\n",
    "print(\"\\nSecond:\")\n",
    "print(df.Date_time.dt.second.head())\n",
    "print(\"\\nWeekday:\")\n",
    "print(df.Date_time.dt.weekday_name.head())"
   ]
  },
  {
   "cell_type": "markdown",
   "metadata": {},
   "source": [
    "Q133. Write a pandas program to count year-country wise frequency of reporting dates of the unidentified flying object(UFO)."
   ]
  },
  {
   "cell_type": "code",
   "execution_count": 47,
   "metadata": {},
   "outputs": [
    {
     "name": "stdout",
     "output_type": "stream",
     "text": [
      "Original Dataframe:\n",
      "            Date_time                  city state/province country UFO_shape  \\\n",
      "0 1949-10-10 20:30:00            san marcos             tx      us  cylinder   \n",
      "1 1949-10-10 21:00:00          lackland afb             tx     NaN     light   \n",
      "2 1955-10-10 17:00:00  chester (uk/england)            NaN      gb    circle   \n",
      "3 1956-10-10 21:00:00                  edna             tx      us    circle   \n",
      "4 1960-10-10 20:00:00               kaneohe             hi      us     light   \n",
      "\n",
      "   length_of_encounter_seconds described_duration_of_encounter  \\\n",
      "0                       2700.0                      45 minutes   \n",
      "1                       7200.0                         1-2 hrs   \n",
      "2                         20.0                      20 seconds   \n",
      "3                         20.0                        1/2 hour   \n",
      "4                        900.0                      15 minutes   \n",
      "\n",
      "                                         description date_documented  \\\n",
      "0  This event took place in early fall around 194...       4/27/2004   \n",
      "1  1949 Lackland AFB&#44 TX.  Lights racing acros...      12/16/2005   \n",
      "2  Green/Orange circular disc over Chester&#44 En...       1/21/2008   \n",
      "3  My older brother and twin sister were leaving ...       1/17/2004   \n",
      "4  AS a Marine 1st Lt. flying an FJ4B fighter/att...       1/22/2004   \n",
      "\n",
      "    latitude   longitude  \n",
      "0  29.883056  -97.941111  \n",
      "1  29.384210  -98.581082  \n",
      "2  53.200000   -2.916667  \n",
      "3  28.978333  -96.645833  \n",
      "4  21.418056 -157.803611  \n",
      "\n",
      "Country-year wise frequency of reporting dates of UFO:\n",
      "Year  country\n",
      "1945  us           1\n",
      "1947  us           1\n",
      "1948  us           1\n",
      "1949  us           1\n",
      "1950  us           3\n",
      "                ... \n",
      "2013  us         851\n",
      "2014  au           1\n",
      "      ca           4\n",
      "      gb           1\n",
      "      us         204\n",
      "Length: 165, dtype: int64\n"
     ]
    }
   ],
   "source": [
    "import pandas as pd\n",
    "df=pd.read_csv(r'C:\\Users\\arjun\\Desktop\\Datasets\\ufo_sighting_data.csv')\n",
    "df['Date_time'] = df['Date_time'].astype('datetime64[ns]')\n",
    "print(\"Original Dataframe:\")\n",
    "print(df.head())\n",
    "df['Year'] = df['Date_time'].apply(lambda x: \"%d\" % (x.year))\n",
    "result = df.groupby(['Year', 'country']).size()\n",
    "print(\"\\nCountry-year wise frequency of reporting dates of UFO:\")\n",
    "print(result)"
   ]
  },
  {
   "cell_type": "markdown",
   "metadata": {},
   "source": [
    "Q134. Write a pandas program to get the difference (in days) between documented date and reporting date of unidentified flying object (UFO)."
   ]
  },
  {
   "cell_type": "code",
   "execution_count": 54,
   "metadata": {},
   "outputs": [
    {
     "name": "stdout",
     "output_type": "stream",
     "text": [
      "Original Dataframe:\n",
      "            Date_time                  city state/province country UFO_shape  \\\n",
      "0 1949-10-10 20:30:00            san marcos             tx      us  cylinder   \n",
      "1 1949-10-10 21:00:00          lackland afb             tx     NaN     light   \n",
      "2 1955-10-10 17:00:00  chester (uk/england)            NaN      gb    circle   \n",
      "3 1956-10-10 21:00:00                  edna             tx      us    circle   \n",
      "4 1960-10-10 20:00:00               kaneohe             hi      us     light   \n",
      "\n",
      "   length_of_encounter_seconds described_duration_of_encounter  \\\n",
      "0                       2700.0                      45 minutes   \n",
      "1                       7200.0                         1-2 hrs   \n",
      "2                         20.0                      20 seconds   \n",
      "3                         20.0                        1/2 hour   \n",
      "4                        900.0                      15 minutes   \n",
      "\n",
      "                                         description date_documented  \\\n",
      "0  This event took place in early fall around 194...      2004-04-27   \n",
      "1  1949 Lackland AFB&#44 TX.  Lights racing acros...      2005-12-16   \n",
      "2  Green/Orange circular disc over Chester&#44 En...      2008-01-21   \n",
      "3  My older brother and twin sister were leaving ...      2004-01-17   \n",
      "4  AS a Marine 1st Lt. flying an FJ4B fighter/att...      2004-01-22   \n",
      "\n",
      "    latitude   longitude  \n",
      "0  29.883056  -97.941111  \n",
      "1  29.384210  -98.581082  \n",
      "2  53.200000   -2.916667  \n",
      "3  28.978333  -96.645833  \n",
      "4  21.418056 -157.803611  \n",
      "\n",
      "Difference (in days) between documented date and reporting date of UFO:\n",
      "               Date_time                  city state/province country  \\\n",
      "0    1949-10-10 20:30:00            san marcos             tx      us   \n",
      "1    1949-10-10 21:00:00          lackland afb             tx     NaN   \n",
      "2    1955-10-10 17:00:00  chester (uk/england)            NaN      gb   \n",
      "3    1956-10-10 21:00:00                  edna             tx      us   \n",
      "4    1960-10-10 20:00:00               kaneohe             hi      us   \n",
      "...                  ...                   ...            ...     ...   \n",
      "9995 2006-12-25 07:32:00                davill             in     NaN   \n",
      "9996 2006-12-25 08:00:00             henderson             nv      us   \n",
      "9997 2006-12-25 14:10:00           los angeles             id     NaN   \n",
      "9998 2006-12-25 18:30:00           porterville             ca      us   \n",
      "9999 2006-12-25 20:47:00              rockford             ia      us   \n",
      "\n",
      "     UFO_shape  length_of_encounter_seconds described_duration_of_encounter  \\\n",
      "0     cylinder                       2700.0                      45 minutes   \n",
      "1        light                       7200.0                         1-2 hrs   \n",
      "2       circle                         20.0                      20 seconds   \n",
      "3       circle                         20.0                        1/2 hour   \n",
      "4        light                        900.0                      15 minutes   \n",
      "...        ...                          ...                             ...   \n",
      "9995      disk                         60.0                           1 min   \n",
      "9996    sphere                        120.0                           2 min   \n",
      "9997  changing                         30.0                      30 seconds   \n",
      "9998     light                        300.0                         3-5 min   \n",
      "9999    circle                        900.0        watched about 10 -15 min   \n",
      "\n",
      "                                            description date_documented  \\\n",
      "0     This event took place in early fall around 194...      2004-04-27   \n",
      "1     1949 Lackland AFB&#44 TX.  Lights racing acros...      2005-12-16   \n",
      "2     Green/Orange circular disc over Chester&#44 En...      2008-01-21   \n",
      "3     My older brother and twin sister were leaving ...      2004-01-17   \n",
      "4     AS a Marine 1st Lt. flying an FJ4B fighter/att...      2004-01-22   \n",
      "...                                                 ...             ...   \n",
      "9995                       5 suacer like object dalvill      2007-02-01   \n",
      "9996  shiny spherical object accompanies jet leaving...      2007-02-01   \n",
      "9997                                   WE SAW A UFO&#33      2008-03-04   \n",
      "9998  orange glow that droped what looked like firew...      2007-02-01   \n",
      "9999  Dec. 25&#44 2006  8:45 P.M.   Rockford&#44 Iow...      2007-02-01   \n",
      "\n",
      "       latitude   longitude  Difference  \n",
      "0     29.883056  -97.941111       19922  \n",
      "1     29.384210  -98.581082       20520  \n",
      "2     53.200000   -2.916667       19095  \n",
      "3     28.978333  -96.645833       17264  \n",
      "4     21.418056 -157.803611       15808  \n",
      "...         ...         ...         ...  \n",
      "9995  39.760601  -86.526388          37  \n",
      "9996  36.039722 -114.981111          37  \n",
      "9997  33.886544 -118.097288         434  \n",
      "9998  36.065278 -119.015833          37  \n",
      "9999  43.052222  -92.948333          37  \n",
      "\n",
      "[10000 rows x 12 columns]\n"
     ]
    }
   ],
   "source": [
    "import pandas as pd\n",
    "df=pd.read_csv(r'C:\\Users\\arjun\\Desktop\\Datasets\\ufo_sighting_data.csv')\n",
    "df['Date_time'] = df['Date_time'].astype('datetime64[ns]')\n",
    "df['date_documented'] = df['date_documented'].astype('datetime64[ns]')\n",
    "print(\"Original Dataframe:\")\n",
    "print(df.head())\n",
    "print(\"\\nDifference (in days) between documented date and reporting date of UFO:\")\n",
    "df['Difference'] = (df['date_documented'] - df['Date_time']).dt.days\n",
    "print(df)"
   ]
  },
  {
   "cell_type": "markdown",
   "metadata": {},
   "source": [
    "Q135. Write a pandas program to generate sequences of fixed- frequency dates and time spans."
   ]
  },
  {
   "cell_type": "code",
   "execution_count": 59,
   "metadata": {},
   "outputs": [
    {
     "name": "stdout",
     "output_type": "stream",
     "text": [
      "Hourly frequency:\n",
      "DatetimeIndex(['2000-10-10 00:00:00', '2000-10-10 01:00:00',\n",
      "               '2000-10-10 02:00:00', '2000-10-10 03:00:00',\n",
      "               '2000-10-10 04:00:00', '2000-10-10 05:00:00',\n",
      "               '2000-10-10 06:00:00', '2000-10-10 07:00:00',\n",
      "               '2000-10-10 08:00:00', '2000-10-10 09:00:00',\n",
      "               '2000-10-10 10:00:00', '2000-10-10 11:00:00'],\n",
      "              dtype='datetime64[ns]', freq='H')\n",
      "\n",
      "Minutely frequency:\n",
      "DatetimeIndex(['2000-10-10 00:00:00', '2000-10-10 00:01:00',\n",
      "               '2000-10-10 00:02:00', '2000-10-10 00:03:00',\n",
      "               '2000-10-10 00:04:00', '2000-10-10 00:05:00',\n",
      "               '2000-10-10 00:06:00', '2000-10-10 00:07:00',\n",
      "               '2000-10-10 00:08:00', '2000-10-10 00:09:00',\n",
      "               '2000-10-10 00:10:00', '2000-10-10 00:11:00'],\n",
      "              dtype='datetime64[ns]', freq='T')\n",
      "\n",
      "Secondly frequency:\n",
      "DatetimeIndex(['2000-10-10 00:00:00', '2000-10-10 00:00:01',\n",
      "               '2000-10-10 00:00:02', '2000-10-10 00:00:03',\n",
      "               '2000-10-10 00:00:04', '2000-10-10 00:00:05',\n",
      "               '2000-10-10 00:00:06', '2000-10-10 00:00:07',\n",
      "               '2000-10-10 00:00:08', '2000-10-10 00:00:09',\n",
      "               '2000-10-10 00:00:10', '2000-10-10 00:00:11'],\n",
      "              dtype='datetime64[ns]', freq='S')\n",
      "nMultiple Hourly frequency:\n",
      "DatetimeIndex(['2000-10-10 00:00:00', '2000-10-10 02:00:00',\n",
      "               '2000-10-10 04:00:00', '2000-10-10 06:00:00',\n",
      "               '2000-10-10 08:00:00', '2000-10-10 10:00:00',\n",
      "               '2000-10-10 12:00:00', '2000-10-10 14:00:00',\n",
      "               '2000-10-10 16:00:00', '2000-10-10 18:00:00',\n",
      "               '2000-10-10 20:00:00', '2000-10-10 22:00:00'],\n",
      "              dtype='datetime64[ns]', freq='2H')\n",
      "\n",
      "Multiple Minutely frequency:\n",
      "DatetimeIndex(['2000-10-10 00:00:00', '2000-10-10 00:05:00',\n",
      "               '2000-10-10 00:10:00', '2000-10-10 00:15:00',\n",
      "               '2000-10-10 00:20:00', '2000-10-10 00:25:00',\n",
      "               '2000-10-10 00:30:00', '2000-10-10 00:35:00',\n",
      "               '2000-10-10 00:40:00', '2000-10-10 00:45:00',\n",
      "               '2000-10-10 00:50:00', '2000-10-10 00:55:00'],\n",
      "              dtype='datetime64[ns]', freq='5T')\n",
      "\n",
      "Multiple Secondly frequency:\n",
      "DatetimeIndex(['2000-12-29', '2001-03-30', '2001-06-29', '2001-09-28',\n",
      "               '2001-12-31', '2002-03-29', '2002-06-28', '2002-09-30',\n",
      "               '2002-12-31', '2003-03-31', '2003-06-30', '2003-09-30'],\n",
      "              dtype='datetime64[ns]', freq='BQ-DEC')\n",
      "\n",
      "Weekly frequency:\n",
      "DatetimeIndex(['2000-10-15', '2000-10-22', '2000-10-29', '2000-11-05',\n",
      "               '2000-11-12', '2000-11-19', '2000-11-26', '2000-12-03',\n",
      "               '2000-12-10', '2000-12-17', '2000-12-24', '2000-12-31'],\n",
      "              dtype='datetime64[ns]', freq='W-SUN')\n",
      "\n",
      "Combine together day and intraday offsets-1:\n",
      "DatetimeIndex(['2000-10-10 00:00:00', '2000-10-10 02:20:00',\n",
      "               '2000-10-10 04:40:00', '2000-10-10 07:00:00',\n",
      "               '2000-10-10 09:20:00', '2000-10-10 11:40:00',\n",
      "               '2000-10-10 14:00:00', '2000-10-10 16:20:00',\n",
      "               '2000-10-10 18:40:00', '2000-10-10 21:00:00',\n",
      "               '2000-10-10 23:20:00', '2000-10-11 01:40:00'],\n",
      "              dtype='datetime64[ns]', freq='140T')\n",
      "\n",
      "Combine together day and intraday offsets-2:\n",
      "DatetimeIndex([       '2000-10-10 00:00:00', '2000-10-11 00:00:00.000010',\n",
      "               '2000-10-12 00:00:00.000020', '2000-10-13 00:00:00.000030',\n",
      "               '2000-10-14 00:00:00.000040', '2000-10-15 00:00:00.000050',\n",
      "               '2000-10-16 00:00:00.000060', '2000-10-17 00:00:00.000070',\n",
      "               '2000-10-18 00:00:00.000080', '2000-10-19 00:00:00.000090',\n",
      "               '2000-10-20 00:00:00.000100', '2000-10-21 00:00:00.000110'],\n",
      "              dtype='datetime64[ns]', freq='86400000010U')\n"
     ]
    }
   ],
   "source": [
    "import pandas as pd\n",
    "dtr = pd.date_range('2000-10-10', periods=12, freq='H')\n",
    "print(\"Hourly frequency:\")\n",
    "print(dtr)\n",
    "dtr = pd.date_range('2000-10-10', periods=12, freq='min')\n",
    "print(\"\\nMinutely frequency:\")\n",
    "print(dtr)\n",
    "dtr = pd.date_range('2000-10-10', periods=12, freq='S')\n",
    "print(\"\\nSecondly frequency:\")\n",
    "print(dtr)\n",
    "dtr = pd.date_range('2000-10-10', periods=12, freq='2H')\n",
    "print(\"nMultiple Hourly frequency:\")\n",
    "print(dtr)\n",
    "dtr = pd.date_range('2000-10-10', periods=12, freq='5min')\n",
    "print(\"\\nMultiple Minutely frequency:\")\n",
    "print(dtr)\n",
    "dtr = pd.date_range('2000-10-10', periods=12, freq='BQ')\n",
    "print(\"\\nMultiple Secondly frequency:\")\n",
    "print(dtr)\n",
    "dtr = pd.date_range('2000-10-10', periods=12, freq='w')\n",
    "print(\"\\nWeekly frequency:\")\n",
    "print(dtr)\n",
    "dtr = pd.date_range('2000-10-10', periods=12, freq='2h20min')\n",
    "print(\"\\nCombine together day and intraday offsets-1:\")\n",
    "print(dtr)\n",
    "dtr = pd.date_range('2000-10-10', periods=12, freq='1D10U')\n",
    "print(\"\\nCombine together day and intraday offsets-2:\")\n",
    "print(dtr)"
   ]
  },
  {
   "cell_type": "markdown",
   "metadata": {},
   "source": [
    "Q136. Write a pandas program to manipulate and convert date times with timezone information."
   ]
  },
  {
   "cell_type": "code",
   "execution_count": 60,
   "metadata": {},
   "outputs": [
    {
     "name": "stdout",
     "output_type": "stream",
     "text": [
      "DatetimeIndex(['2018-01-01 00:00:00+00:00', '2018-01-01 01:00:00+00:00',\n",
      "               '2018-01-01 02:00:00+00:00'],\n",
      "              dtype='datetime64[ns, UTC]', freq='H')\n",
      "\n",
      "From UTC to America/Los_Angeles:\n",
      "DatetimeIndex(['2017-12-31 16:00:00-08:00', '2017-12-31 17:00:00-08:00',\n",
      "               '2017-12-31 18:00:00-08:00'],\n",
      "              dtype='datetime64[ns, America/Los_Angeles]', freq='H')\n"
     ]
    }
   ],
   "source": [
    "import pandas as pd\n",
    "dtt = pd.date_range('2018-01-01', periods=3, freq='H')\n",
    "dtt = dtt.tz_localize('UTC')\n",
    "print(dtt)\n",
    "print(\"\\nFrom UTC to America/Los_Angeles:\")\n",
    "dtt = dtt.tz_convert('America/Los_Angeles')\n",
    "print(dtt)"
   ]
  },
  {
   "cell_type": "markdown",
   "metadata": {},
   "source": [
    "Q137. Write a pandas program to create the graphical analysis of UFO (unidentified flying object) Sightings year."
   ]
  },
  {
   "cell_type": "code",
   "execution_count": 67,
   "metadata": {},
   "outputs": [
    {
     "name": "stderr",
     "output_type": "stream",
     "text": [
      "C:\\Users\\arjun\\Anaconda3\\lib\\site-packages\\ipykernel_launcher.py:9: FutureWarning: The 'get_values' method is deprecated and will be removed in a future version. Use '.to_numpy()' or '.array' instead.\n",
      "  if __name__ == '__main__':\n"
     ]
    },
    {
     "data": {
      "image/png": "[encoded data removed]",
      "text/plain": [
       "<Figure size 1080x576 with 1 Axes>"
      ]
     },
     "metadata": {},
     "output_type": "display_data"
    }
   ],
   "source": [
    "import pandas as pd\n",
    "import matplotlib.pyplot as plt\n",
    "import seaborn as sns\n",
    "df=pd.read_csv(r'C:\\Users\\arjun\\Desktop\\Datasets\\ufo_sighting_data.csv')\n",
    "df['Date_time'] = df['Date_time'].astype('datetime64[ns]')\n",
    "df[\"ufo_yr\"] = df.Date_time.dt.year\n",
    "years_data = df.ufo_yr.value_counts()\n",
    "years_index = years_data.index  # x ticks\n",
    "years_values = years_data.get_values()\n",
    "plt.figure(figsize=(15,8))\n",
    "plt.xticks(rotation = 60)\n",
    "plt.title('UFO Sightings by Year')\n",
    "plt.xlabel(\"Year\")\n",
    "plt.ylabel(\"Number of reports\")\n",
    "years_plot = sns.barplot(x=years_index[:60],y=years_values[:60], palette = \"Reds\")\n",
    "plt.show()"
   ]
  },
  {
   "cell_type": "markdown",
   "metadata": {},
   "source": [
    "Q138. Write a pandas program to create a comparison of the top 10 years in which the (UFO) was sighted VS each Month."
   ]
  },
  {
   "cell_type": "code",
   "execution_count": 68,
   "metadata": {},
   "outputs": [
    {
     "name": "stdout",
     "output_type": "stream",
     "text": [
      "\n",
      "Comparison of the top 10 years in which the UFO was sighted vs the hours of the day:\n",
      "Date_time  0:00  1:00  2:00  3:00  4:00  5:00  6:00  7:00  8:00  9:00  ...  \\\n",
      "Date_time                                                              ...   \n",
      "2003         32    18    22    16     7    13    11    19     4     7  ...   \n",
      "2004         30    19    15    10    16    24    20     7    10    11  ...   \n",
      "2005         27    31    10    13    15    16    14    10     5    10  ...   \n",
      "2006         19    25    12    15    11    14    17    32     4     9  ...   \n",
      "2007         29    16    13    10    12    24    13     8     5    10  ...   \n",
      "2008         27    25    19     8    12    25    23     9    13    13  ...   \n",
      "2009         25    13    12    11    17    11    15     7     6     9  ...   \n",
      "2011         28    21    10    13    10    17    15     8    11     4  ...   \n",
      "2012         27    30    22    16    12    14    29    15     9     9  ...   \n",
      "2013         28    29    11     9     9    18    20    19     8    12  ...   \n",
      "\n",
      "Date_time  14:00  15:00  16:00  17:00  18:00  19:00  20:00  21:00  22:00  \\\n",
      "Date_time                                                                  \n",
      "2003           8      7     18     36     66     61     76     39     59   \n",
      "2004           9      9     20     19     42     41     54     37     46   \n",
      "2005           6      7     14     33     62     77     63     58     44   \n",
      "2006          10     15     22     45     52     67     51     46     40   \n",
      "2007           8      7     16     42     67     66     60     55     55   \n",
      "2008          10     10     14     34     60     73     72     45     38   \n",
      "2009           3      8     14     30     85     60     57     52     38   \n",
      "2011          12      9     15     41     78     76     76     67     60   \n",
      "2012           6     18     21     56     97    138    124    121     74   \n",
      "2013           7     11     36     65    122    149    158    112     89   \n",
      "\n",
      "Date_time  23:00  \n",
      "Date_time         \n",
      "2003          41  \n",
      "2004          32  \n",
      "2005          43  \n",
      "2006          65  \n",
      "2007          41  \n",
      "2008          48  \n",
      "2009          38  \n",
      "2011          44  \n",
      "2012          87  \n",
      "2013          50  \n",
      "\n",
      "[10 rows x 24 columns]\n"
     ]
    }
   ],
   "source": [
    "import pandas as pd\n",
    "df=pd.read_csv(r'C:\\Users\\arjun\\Desktop\\Datasets\\ufo_sighting_data.csv')\n",
    "df['Date_time'] = df['Date_time'].astype('datetime64[ns]')\n",
    "most_sightings_years = df['Date_time'].dt.year.value_counts().head(10)\n",
    "def is_top_years(year):\n",
    "   if year in most_sightings_years.index:\n",
    "       return year\n",
    "hour_v_year = df.pivot_table(columns=df['Date_time'].dt.hour,index=df['Date_time'].dt.year.apply(is_top_years),aggfunc='count',values='city')\n",
    "hour_v_year.columns = hour_v_year.columns.astype(int)\n",
    "hour_v_year.columns = hour_v_year.columns.astype(str) + \":00\"\n",
    "hour_v_year.index = hour_v_year.index.astype(int)\n",
    "print(\"\\nComparison of the top 10 years in which the UFO was sighted vs the hours of the day:\")\n",
    "print(hour_v_year.head(10))"
   ]
  },
  {
   "cell_type": "markdown",
   "metadata": {},
   "source": [
    "Q139. Write a pandas program to create a heatmap (rectangular data as a colour-encoded matrix) for comparison of top 10 years in which (UFO ) was sighted VS each Month."
   ]
  },
  {
   "cell_type": "code",
   "execution_count": 76,
   "metadata": {},
   "outputs": [
    {
     "name": "stdout",
     "output_type": "stream",
     "text": [
      "\n",
      "Heatmap for comparison of the top 10 years in which the UFO was sighted vs each month:\n"
     ]
    },
    {
     "data": {
      "image/png": "[encoded data removed]",
      "text/plain": [
       "<Figure size 720x576 with 2 Axes>"
      ]
     },
     "metadata": {},
     "output_type": "display_data"
    }
   ],
   "source": [
    "import pandas as pd\n",
    "import matplotlib.pyplot as plt\n",
    "import seaborn as sns\n",
    "#Source: https://bit.ly/1l9yjm9\n",
    "df=pd.read_csv(r'C:\\Users\\arjun\\Desktop\\Datasets\\ufo_sighting_data.csv')\n",
    "df['Date_time'] = df['Date_time'].astype('datetime64[ns]')\n",
    "most_sightings_years = df['Date_time'].dt.year.value_counts().head(10)\n",
    "def is_top_years(year):\n",
    "   if year in most_sightings_years.index:\n",
    "       return year\n",
    "month_vs_year = df.pivot_table(columns=df['Date_time'].dt.month,index=df['Date_time'].dt.year.apply(is_top_years),aggfunc='count',values='city')\n",
    "month_vs_year.columns = month_vs_year.columns.astype(int)\n",
    "print(\"\\nHeatmap for comparison of the top 10 years in which the UFO was sighted vs each month:\")\n",
    "plt.figure(figsize=(10,8))\n",
    "ax = sns.heatmap(month_vs_year, vmin=20, vmax=40)\n",
    "ax.set_xlabel('Month').set_size(20)\n",
    "ax.set_ylabel('Year').set_size(20)"
   ]
  },
  {
   "cell_type": "markdown",
   "metadata": {},
   "source": [
    "Q140. Write a pandas program to create a Timewheel of Hour VS Year comparison of the top 10 years in which the (UFO) was sighted."
   ]
  },
  {
   "cell_type": "code",
   "execution_count": 77,
   "metadata": {},
   "outputs": [
    {
     "name": "stdout",
     "output_type": "stream",
     "text": [
      "\n",
      "Comparison of the top 10 years in which the UFO was sighted vs each month:\n"
     ]
    },
    {
     "data": {
      "image/png": "[encoded data removed]",
      "text/plain": [
       "<Figure size 576x576 with 1 Axes>"
      ]
     },
     "metadata": {},
     "output_type": "display_data"
    }
   ],
   "source": [
    "import pandas as pd\n",
    "import matplotlib.pyplot as plt\n",
    "import matplotlib as mpl\n",
    "import matplotlib.cm as cm\n",
    "#Source: https://bit.ly/2XDY2XN\n",
    "df=pd.read_csv(r'C:\\Users\\arjun\\Desktop\\Datasets\\ufo_sighting_data.csv')\n",
    "df['Date_time'] = df['Date_time'].astype('datetime64[ns]')\n",
    "most_sightings_years = df['Date_time'].dt.year.value_counts().head(10)\n",
    "def is_top_years(year):\n",
    "   if year in most_sightings_years.index:\n",
    "       return year\n",
    "month_vs_year = df.pivot_table(columns=df['Date_time'].dt.month,index=df['Date_time'].dt.year.apply(is_top_years),aggfunc='count',values='city')\n",
    "month_vs_year.index = month_vs_year.index.astype(int)\n",
    "month_vs_year.columns = month_vs_year.columns.astype(int)\n",
    "print(\"\\nComparison of the top 10 years in which the UFO was sighted vs each month:\")\n",
    "def pie_heatmap(table, cmap='coolwarm_r', vmin=None, vmax=None,inner_r=0.25, pie_args={}):\n",
    "   n, m = table.shape\n",
    "   vmin= table.min().min() if vmin is None else vmin\n",
    "   vmax= table.max().max() if vmax is None else vmax\n",
    "\n",
    "   centre_circle = plt.Circle((0,0),inner_r,edgecolor='black',facecolor='white',fill=True,linewidth=0.25)\n",
    "   plt.gcf().gca().add_artist(centre_circle)\n",
    "   norm = mpl.colors.Normalize(vmin=vmin, vmax=vmax)\n",
    "   cmapper = cm.ScalarMappable(norm=norm, cmap=cmap)\n",
    "\n",
    "   for i, (row_name, row) in enumerate(table.iterrows()):\n",
    "       labels = None if i > 0 else table.columns\n",
    "       wedges = plt.pie([1] * m,radius=inner_r+float(n-i)/n, colors=[cmapper.to_rgba(x) for x in row.values],\n",
    "           labels=labels, startangle=90, counterclock=False, wedgeprops={'linewidth':-1}, **pie_args)\n",
    "       plt.setp(wedges[0], edgecolor='grey',linewidth=1.5)\n",
    "       wedges = plt.pie([1], radius=inner_r+float(n-i-1)/n, colors=['w'], labels=[row_name], startangle=-90, wedgeprops={'linewidth':0})\n",
    "       plt.setp(wedges[0], edgecolor='grey',linewidth=1.5)\n",
    "plt.figure(figsize=(8,8))\n",
    "plt.title(\"Timewheel of Hour Vs Year\",y=1.08,fontsize=30)\n",
    "pie_heatmap(month_vs_year, vmin=-20,vmax=80,inner_r=0.2)\n"
   ]
  },
  {
   "cell_type": "markdown",
   "metadata": {},
   "source": [
    "Q141. Write a python program to draw the line using given axis values with the suitable label in the x-axis, y-axis, and a title."
   ]
  },
  {
   "cell_type": "code",
   "execution_count": 80,
   "metadata": {},
   "outputs": [
    {
     "data": {
      "text/plain": [
       "<function matplotlib.pyplot.show(*args, **kw)>"
      ]
     },
     "execution_count": 80,
     "metadata": {},
     "output_type": "execute_result"
    },
    {
     "data": {
      "image/png": "[encoded data removed]",
      "text/plain": [
       "<Figure size 432x288 with 1 Axes>"
      ]
     },
     "metadata": {},
     "output_type": "display_data"
    }
   ],
   "source": [
    "import matplotlib.pyplot as plt\n",
    "#x and y  axis values\n",
    "x=[1,2,3]\n",
    "y=[2,4,1]\n",
    "# Plot lines and/or markers to the Axes.\n",
    "plt.plot(x,y)\n",
    "# Set the x and y axis label of the current axis.\n",
    "plt.xlabel('x-axis')\n",
    "plt.ylabel('y-axis')\n",
    "plt.title('Sample Graph')\n",
    "plt.show"
   ]
  },
  {
   "cell_type": "markdown",
   "metadata": {},
   "source": [
    "Q142. Write a python program to draw the line charts of the financial data of the Alphabet Inc., between October."
   ]
  },
  {
   "cell_type": "raw",
   "metadata": {},
   "source": [
    "3, 2016 to October 7 2016. \n",
    "Sample Financial data (fdata.csv)- \n",
    "Date,Open,High,Low,Close \n",
    "10-03-16,774.25,776.065002,769.5,772.559998 \n",
    "10-04-16 , 776.030029, 778.710022,772.890015,776.429993\n",
    "10-05-16 , 779.309998, 782.070007,775.650024,776.469971 \n",
    "10-06-16 , 779 , 780.47998,775.539978,776.859985 \n",
    "10-07-16,779.659973, 779.659973 , 770.75 , 775.080017 \n",
    "The code snippet gives the output shown in the screenshot:"
   ]
  },
  {
   "cell_type": "code",
   "execution_count": 82,
   "metadata": {},
   "outputs": [
    {
     "data": {
      "image/png": "[encoded data removed]",
      "text/plain": [
       "<Figure size 432x288 with 1 Axes>"
      ]
     },
     "metadata": {},
     "output_type": "display_data"
    }
   ],
   "source": [
    "import matplotlib.pyplot as plt\n",
    "import pandas as pd\n",
    "df = pd.read_csv(r'C:\\Users\\arjun\\Desktop\\Datasets\\fdata.csv', sep=',', parse_dates=True, index_col=0)\n",
    "df.plot()\n",
    "plt.show()\n"
   ]
  },
  {
   "cell_type": "markdown",
   "metadata": {},
   "source": [
    "Q143. Write a Python program to plot two or more lines on same plot with the suitable legends of each line."
   ]
  },
  {
   "cell_type": "code",
   "execution_count": 17,
   "metadata": {},
   "outputs": [
    {
     "data": {
      "image/png": "[encoded data removed]",
      "text/plain": [
       "<Figure size 432x288 with 1 Axes>"
      ]
     },
     "metadata": {},
     "output_type": "display_data"
    }
   ],
   "source": [
    "import matplotlib.pyplot as plt\n",
    "# line 1 points \n",
    "x1 = [10,20,30] \n",
    "y1 = [20,40,10]\n",
    "# plotting the line 1 points \n",
    "plt.plot(x1, y1, label = \"line 1\")\n",
    "# line 2 points \n",
    "x2 = [10,20,30] \n",
    "y2 = [40,10,30]\n",
    "# plotting the line 2 points \n",
    "plt.plot(x2, y2, label = \"line 2\") \n",
    "plt.xlabel('x - axis')\n",
    "plt.ylabel('y - axis')\n",
    "# Set a title of the current axes. \n",
    "plt.title('Two or more lines on same plot with suitable legends ')\n",
    "# show a legend on the plot \n",
    "plt.legend()\n",
    "plt.show()"
   ]
  },
  {
   "cell_type": "markdown",
   "metadata": {},
   "source": [
    "Q144. Write a python programming to display a bar chart of the popularity of programming languages."
   ]
  },
  {
   "cell_type": "raw",
   "metadata": {},
   "source": [
    "Sample data: \n",
    "    programming languages- Java, Python, PHP, JavaScript, C#, C++ \n",
    "    Popularity- 22.2, 17.6, 8.8, 8, 7.7 , 6.7 \n",
    "    The code snippet gives the output shown in the screenshot:"
   ]
  },
  {
   "cell_type": "code",
   "execution_count": 36,
   "metadata": {},
   "outputs": [
    {
     "data": {
      "image/png": "[encoded data removed]",
      "text/plain": [
       "<Figure size 432x288 with 1 Axes>"
      ]
     },
     "metadata": {},
     "output_type": "display_data"
    }
   ],
   "source": [
    "import matplotlib.pyplot as plt\n",
    "x = ['Java', 'Python', 'PHP', 'JavaScript', 'C#', 'C++']\n",
    "po = [22.2, 17.6, 8.8, 8, 7.7, 6.7]\n",
    "plt.xlabel(\"Languages\")\n",
    "plt.ylabel(\"Popularity\")\n",
    "plt.title(\"PopularitY of Programming Language\\n\" + \"Worldwide, Oct 2017 compared to a year ago\")\n",
    "plt.bar(x,po)\n",
    "plt.show()"
   ]
  },
  {
   "cell_type": "markdown",
   "metadata": {},
   "source": [
    "Q145. Write a python programming to display a horizontal bar chart of the popularity of programming languages."
   ]
  },
  {
   "cell_type": "raw",
   "metadata": {},
   "source": [
    "Sample data:\n",
    "    programming languages- Java, Python, PHP, JavaScript, C#, C++ \n",
    "    Popularity- 22.2, 17.6, 8.8, 8, 7.7 , 6.7 \n",
    "The code snippet gives the output shown in the screenshot:"
   ]
  },
  {
   "cell_type": "code",
   "execution_count": 41,
   "metadata": {},
   "outputs": [
    {
     "data": {
      "image/png": "[encoded data removed]",
      "text/plain": [
       "<Figure size 432x288 with 1 Axes>"
      ]
     },
     "metadata": {},
     "output_type": "display_data"
    }
   ],
   "source": [
    "import matplotlib.pyplot as plt\n",
    "x = ['Java', 'Python', 'PHP', 'JavaScript', 'C#', 'C++']\n",
    "po = [22.2, 17.6, 8.8, 8, 7.7, 6.7]\n",
    "plt.xlabel(\"Languages\")\n",
    "plt.ylabel(\"Popularity\")\n",
    "plt.title(\"PopularitY of Programming Language\\n\" + \"Worldwide, Oct 2017 compared to a year ago\")\n",
    "plt.barh(x,po)\n",
    "plt.show()"
   ]
  },
  {
   "cell_type": "markdown",
   "metadata": {},
   "source": [
    "Q146. Write a python programming to display a bar chart of the Popularity of programming languages. Increase bottom margin."
   ]
  },
  {
   "cell_type": "raw",
   "metadata": {},
   "source": [
    "Sample data:\n",
    "    programming languages- Java, Python, PHP, JavaScript, C#, C++ \n",
    "    Popularity- 22.2, 17.6, 8.8, 8, 7.7 , 6.7 \n",
    "The code snippet gives the output shown in the screenshot:"
   ]
  },
  {
   "cell_type": "code",
   "execution_count": 42,
   "metadata": {},
   "outputs": [
    {
     "data": {
      "image/png": "[encoded data removed]",
      "text/plain": [
       "<Figure size 432x288 with 1 Axes>"
      ]
     },
     "metadata": {},
     "output_type": "display_data"
    }
   ],
   "source": [
    "import matplotlib.pyplot as plt\n",
    "x = ['Java', 'Python', 'PHP', 'JavaScript', 'C#', 'C++']\n",
    "po = [22.2, 17.6, 8.8, 8, 7.7, 6.7]\n",
    "plt.xlabel(\"Languages\")\n",
    "plt.ylabel(\"Popularity\")\n",
    "plt.title(\"PopularitY of Programming Language\\n\" + \"Worldwide, Oct 2017 compared to a year ago\")\n",
    "plt.bar(x,po)\n",
    "plt.show()"
   ]
  },
  {
   "cell_type": "markdown",
   "metadata": {},
   "source": [
    "Q147. Write a python program to create the bar plot from a DataFrame."
   ]
  },
  {
   "cell_type": "raw",
   "metadata": {},
   "source": [
    "a b c d e \n",
    "2 4,8,5,7,6 \n",
    "4 2,3,4,2,6 \n",
    "6 4,7,4,7,8 \n",
    "8 2,6,4,8,6 \n",
    "10 2,4,3,3,2 \n",
    "The code snippet gives the output shown in the following screenshot:"
   ]
  },
  {
   "cell_type": "code",
   "execution_count": 51,
   "metadata": {},
   "outputs": [
    {
     "data": {
      "image/png": "[encoded data removed]",
      "text/plain": [
       "<Figure size 432x288 with 1 Axes>"
      ]
     },
     "metadata": {},
     "output_type": "display_data"
    }
   ],
   "source": [
    "import pandas as pd\n",
    "import numpy as np\n",
    "import matplotlib.pyplot as plt\n",
    "a=np.array([[4,8,5,7,6],[2,3,4,2,6],[4,7,4,7,8],[2,6,4,8,6],[2,4,3,3,2]])\n",
    "df=pd.DataFrame(a, columns=['a','b','c','d','e'], index=[2,4,6,8,10])\n",
    "df.plot(kind='bar')\n",
    "plt.show()"
   ]
  },
  {
   "cell_type": "markdown",
   "metadata": {},
   "source": [
    "Q148. Write a python program to draw the scatter plot comparing two subject marks of Mathematics and Science. Use marks of 10 students."
   ]
  },
  {
   "cell_type": "raw",
   "metadata": {},
   "source": [
    "Sample data: Test Data- \n",
    "    math_marks = [88, 92 , 80, 89, 100, 80, 60, 100, 80, 34]\n",
    "    science_marks = [35, 79, 79 , 48, 100, 88, 32, 45, 20, 30] \n",
    "    marks_range = [10, 20, 30, 40, 50, 60, 70, 80, 90, 100]"
   ]
  },
  {
   "cell_type": "code",
   "execution_count": 54,
   "metadata": {},
   "outputs": [
    {
     "data": {
      "image/png": "[encoded data removed]",
      "text/plain": [
       "<Figure size 432x288 with 1 Axes>"
      ]
     },
     "metadata": {},
     "output_type": "display_data"
    }
   ],
   "source": [
    "import pandas as pd\n",
    "import numpy as np\n",
    "import matplotlib.pyplot as plt\n",
    "math_marks = [88, 92 , 80, 89, 100, 80, 60, 100, 80, 34]\n",
    "science_marks = [35, 79, 79 , 48, 100, 88, 32, 45, 20, 30] \n",
    "marks_range = [10, 20, 30, 40, 50, 60, 70, 80, 90, 100]\n",
    "plt.scatter(marks_range,math_marks,label='Math Marks',color='r')\n",
    "plt.scatter(marks_range,science_marks,label='Science Marks',color='g')\n",
    "plt.title('Scatter Plot')\n",
    "plt.xlabel('Marks Range') \n",
    "plt.ylabel('Marks Scored')\n",
    "plt.legend() \n",
    "plt.show()"
   ]
  },
  {
   "cell_type": "markdown",
   "metadata": {},
   "source": [
    "Q149. Write a python program to draw the scatter plot for three different groups comparing weights and heights."
   ]
  },
  {
   "cell_type": "code",
   "execution_count": 64,
   "metadata": {},
   "outputs": [
    {
     "data": {
      "image/png": "[encoded data removed]",
      "text/plain": [
       "<Figure size 432x288 with 1 Axes>"
      ]
     },
     "metadata": {},
     "output_type": "display_data"
    }
   ],
   "source": [
    "import matplotlib.pyplot as plt \n",
    "import numpy as np \n",
    "\n",
    "weight1=[67,57.2,59.6,59.64,55.8,61.2,60.45,61,56.23,56] \n",
    "height1=[101.7,197.6,98.3,125.1,113.7,157.7,136,148.9,125.3,114.9] \n",
    "\n",
    "weight2=[61.9,64,62.1,64.2,62.3,65.4,62.4,61.4,62.5,63.6] \n",
    "height2=[152.8,155.3,135.1,125.2,151.3,135,182.2,195.9,165.1,125.1]\n",
    "\n",
    "weight3=[68.2,67.2,68.4,68.7,71,71.3,70.8,70,71.1,71.7] \n",
    "height3=[165.8,170.9,192.8,135.4,161.4,136.1,167.1,235.1,181.1,177.3]\n",
    "\n",
    "weight=np.concatenate((weight1,weight2,weight3))\n",
    "height=np.concatenate((height1,height2,height3))\n",
    "\n",
    "plt.scatter(weight,height,marker='*',color=['red','green','blue'])\n",
    "plt.xlabel('weight',fontsize=16)\n",
    "plt.ylabel('height',fontsize=16)\n",
    "plt.show()"
   ]
  },
  {
   "cell_type": "markdown",
   "metadata": {},
   "source": [
    "Q150. Write a python program to draw a scatter plot to find sea-level rise in past 100 years."
   ]
  },
  {
   "cell_type": "code",
   "execution_count": 80,
   "metadata": {},
   "outputs": [
    {
     "data": {
      "image/png": "[encoded data removed]",
      "text/plain": [
       "<Figure size 432x288 with 1 Axes>"
      ]
     },
     "metadata": {},
     "output_type": "display_data"
    }
   ],
   "source": [
    "import matplotlib.pyplot as plt \n",
    "import pandas as pd \n",
    "data=pd.read_csv(r'C:\\Users\\arjun\\Desktop\\Datasets\\data.csv')\n",
    "year = data['Year'] \n",
    "sea_levels = data['CSIRO Adjusted Sea Level']\n",
    "plt.scatter(year, sea_levels, edgecolors='g') \n",
    "plt.xlabel('Year') \n",
    "plt.ylabel('Sea Level (inches)')\n",
    "plt.title('Rise in Sealevel') \n",
    "plt.show()"
   ]
  },
  {
   "cell_type": "markdown",
   "metadata": {},
   "source": [
    "# ------THE END-------  "
   ]
  },
  {
   "cell_type": "code",
   "execution_count": null,
   "metadata": {},
   "outputs": [],
   "source": []
  }
 ],
 "metadata": {
  "kernelspec": {
   "display_name": "Python 3",
   "language": "python",
   "name": "python3"
  },
  "language_info": {
   "codemirror_mode": {
    "name": "ipython",
    "version": 3
   },
   "file_extension": ".py",
   "mimetype": "text/x-python",
   "name": "python",
   "nbconvert_exporter": "python",
   "pygments_lexer": "ipython3",
   "version": "3.6.5"
  }
 },
 "nbformat": 4,
 "nbformat_minor": 2
}
